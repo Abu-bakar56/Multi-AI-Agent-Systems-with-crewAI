{
 "cells": [
  {
   "cell_type": "markdown",
   "metadata": {},
   "source": [
    "# Create Agents to Research and Write an Article\n"
   ]
  },
  {
   "cell_type": "code",
   "execution_count": 13,
   "metadata": {
    "height": 64
   },
   "outputs": [],
   "source": [
    "# Warning control\n",
    "import warnings\n",
    "warnings.filterwarnings('ignore')"
   ]
  },
  {
   "cell_type": "code",
   "execution_count": 14,
   "metadata": {
    "height": 30
   },
   "outputs": [],
   "source": [
    "from crewai import Agent, Task, Crew"
   ]
  },
  {
   "cell_type": "code",
   "execution_count": 15,
   "metadata": {
    "height": 98
   },
   "outputs": [],
   "source": [
    "import os\n",
    "from  dotenv import load_dotenv\n",
    "load_dotenv()\n",
    "\n",
    "os.environ[\"OPENAI_MODEL_NAME\"] = 'gpt-3.5-turbo'\n",
    "\n"
   ]
  },
  {
   "cell_type": "markdown",
   "metadata": {},
   "source": [
    "### Agent: Planner"
   ]
  },
  {
   "cell_type": "code",
   "execution_count": 16,
   "metadata": {
    "height": 249
   },
   "outputs": [],
   "source": [
    "planner = Agent(\n",
    "    role=\"Content Planner\",\n",
    "    goal=\"Plan engaging and factually accurate content on {topic}\",\n",
    "    backstory=\"You're working on planning a blog article \"\n",
    "              \"about the topic: {topic}.\"\n",
    "              \"You collect information that helps the \"\n",
    "              \"audience learn something \"\n",
    "              \"and make informed decisions. \"\n",
    "              \"Your work is the basis for \"\n",
    "              \"the Content Writer to write an article on this topic.\",\n",
    "    allow_delegation=False,\n",
    "\tverbose=True\n",
    ")"
   ]
  },
  {
   "cell_type": "markdown",
   "metadata": {},
   "source": [
    "### Agent: Writer"
   ]
  },
  {
   "cell_type": "code",
   "execution_count": 17,
   "metadata": {
    "height": 385
   },
   "outputs": [],
   "source": [
    "writer = Agent(\n",
    "    role=\"Content Writer\",\n",
    "    goal=\"Write insightful and factually accurate \"\n",
    "         \"opinion piece about the topic: {topic}\",\n",
    "    backstory=\"You're working on a writing \"\n",
    "              \"a new opinion piece about the topic: {topic}. \"\n",
    "              \"You base your writing on the work of \"\n",
    "              \"the Content Planner, who provides an outline \"\n",
    "              \"and relevant context about the topic. \"\n",
    "              \"You follow the main objectives and \"\n",
    "              \"direction of the outline, \"\n",
    "              \"as provide by the Content Planner. \"\n",
    "              \"You also provide objective and impartial insights \"\n",
    "              \"and back them up with information \"\n",
    "              \"provide by the Content Planner. \"\n",
    "              \"You acknowledge in your opinion piece \"\n",
    "              \"when your statements are opinions \"\n",
    "              \"as opposed to objective statements.\",\n",
    "    allow_delegation=False,\n",
    "    verbose=True\n",
    ")"
   ]
  },
  {
   "cell_type": "markdown",
   "metadata": {},
   "source": [
    "### Agent: Editor"
   ]
  },
  {
   "cell_type": "code",
   "execution_count": 18,
   "metadata": {
    "height": 283
   },
   "outputs": [],
   "source": [
    "editor = Agent(\n",
    "    role=\"Editor\",\n",
    "    goal=\"Edit a given blog post to align with \"\n",
    "         \"the writing style of the organization. \",\n",
    "    backstory=\"You are an editor who receives a blog post \"\n",
    "              \"from the Content Writer. \"\n",
    "              \"Your goal is to review the blog post \"\n",
    "              \"to ensure that it follows journalistic best practices,\"\n",
    "              \"provides balanced viewpoints \"\n",
    "              \"when providing opinions or assertions, \"\n",
    "              \"and also avoids major controversial topics \"\n",
    "              \"or opinions when possible.\",\n",
    "    allow_delegation=False,\n",
    "    verbose=True\n",
    ")"
   ]
  },
  {
   "cell_type": "markdown",
   "metadata": {},
   "source": [
    "### Task: Plan"
   ]
  },
  {
   "cell_type": "code",
   "execution_count": 19,
   "metadata": {
    "height": 283
   },
   "outputs": [],
   "source": [
    "plan = Task(\n",
    "    description=(\n",
    "        \"1. Prioritize the latest trends, key players, \"\n",
    "            \"and noteworthy news on {topic}.\\n\"\n",
    "        \"2. Identify the target audience, considering \"\n",
    "            \"their interests and pain points.\\n\"\n",
    "        \"3. Develop a detailed content outline including \"\n",
    "            \"an introduction, key points, and a call to action.\\n\"\n",
    "        \"4. Include SEO keywords and relevant data or sources.\"\n",
    "    ),\n",
    "    expected_output=\"A comprehensive content plan document \"\n",
    "        \"with an outline, audience analysis, \"\n",
    "        \"SEO keywords, and resources.\",\n",
    "    agent=planner,\n",
    ")"
   ]
  },
  {
   "cell_type": "markdown",
   "metadata": {},
   "source": [
    "### Task: Write"
   ]
  },
  {
   "cell_type": "code",
   "execution_count": 20,
   "metadata": {
    "height": 319
   },
   "outputs": [],
   "source": [
    "write = Task(\n",
    "    description=(\n",
    "        \"1. Use the content plan to craft a compelling \"\n",
    "            \"blog post on {topic}.\\n\"\n",
    "        \"2. Incorporate SEO keywords naturally.\\n\"\n",
    "\t\t\"3. Sections/Subtitles are properly named \"\n",
    "            \"in an engaging manner.\\n\"\n",
    "        \"4. Ensure the post is structured with an \"\n",
    "            \"engaging introduction, insightful body, \"\n",
    "            \"and a summarizing conclusion.\\n\"\n",
    "        \"5. Proofread for grammatical errors and \"\n",
    "            \"alignment with the brand's voice.\\n\"\n",
    "    ),\n",
    "    expected_output=\"A well-written blog post \"\n",
    "        \"in markdown format, ready for publication, \"\n",
    "        \"each section should have 2 or 3 paragraphs.\",\n",
    "    agent=writer,\n",
    ")"
   ]
  },
  {
   "cell_type": "markdown",
   "metadata": {},
   "source": [
    "### Task: Edit"
   ]
  },
  {
   "cell_type": "code",
   "execution_count": 21,
   "metadata": {
    "height": 181
   },
   "outputs": [],
   "source": [
    "edit = Task(\n",
    "    description=(\"Proofread the given blog post for \"\n",
    "                 \"grammatical errors and \"\n",
    "                 \"alignment with the brand's voice.\"),\n",
    "    expected_output=\"A well-written blog post in markdown format, \"\n",
    "                    \"ready for publication, \"\n",
    "                    \"each section should have 2 or 3 paragraphs.\",\n",
    "    agent=editor\n",
    ")"
   ]
  },
  {
   "cell_type": "code",
   "execution_count": 22,
   "metadata": {
    "height": 98
   },
   "outputs": [],
   "source": [
    "crew = Crew(\n",
    "    agents=[planner, writer, editor],\n",
    "    tasks=[plan, write, edit],\n",
    "    # verbose=2\n",
    ")"
   ]
  },
  {
   "cell_type": "markdown",
   "metadata": {},
   "source": [
    "## Running the Crew"
   ]
  },
  {
   "cell_type": "code",
   "execution_count": 23,
   "metadata": {
    "height": 45
   },
   "outputs": [
    {
     "name": "stdout",
     "output_type": "stream",
     "text": [
      "\u001b[1m\u001b[95m# Agent:\u001b[00m \u001b[1m\u001b[92mContent Planner\u001b[00m\n",
      "\u001b[95m## Task:\u001b[00m \u001b[92m1. Prioritize the latest trends, key players, and noteworthy news on Artificial Intelligence.\n",
      "2. Identify the target audience, considering their interests and pain points.\n",
      "3. Develop a detailed content outline including an introduction, key points, and a call to action.\n",
      "4. Include SEO keywords and relevant data or sources.\u001b[00m\n",
      "\n",
      "\n",
      "\u001b[1m\u001b[95m# Agent:\u001b[00m \u001b[1m\u001b[92mContent Planner\u001b[00m\n",
      "\u001b[95m## Final Answer:\u001b[00m \u001b[92m\n",
      "Content Plan on Artificial Intelligence\n",
      "\n",
      "1. Title: \"The Future of Artificial Intelligence: Trends, Innovations, and Impacts\"\n",
      "\n",
      "Introduction:\n",
      "- Brief overview of Artificial Intelligence (AI) and its significance in today's world.\n",
      "- Hook to engage readers and set the tone for the article.\n",
      "\n",
      "Key Points:\n",
      "I. Latest Trends in Artificial Intelligence\n",
      "   A. Natural Language Processing advancements\n",
      "   B. AI in healthcare and personalized medicine\n",
      "   C. Autonomous vehicles and robotics\n",
      "   D. AI ethics and regulations\n",
      "\n",
      "II. Key Players in the AI Industry\n",
      "   A. Tech giants like Google, Amazon, and Microsoft\n",
      "   B. Emerging startups specializing in AI applications\n",
      "\n",
      "III. Noteworthy News in AI\n",
      "   A. Recent breakthroughs in deep learning algorithms\n",
      "   B. AI's role in combating climate change\n",
      "   C. Ethical dilemmas in AI decision-making\n",
      "\n",
      "Audience Analysis:\n",
      "- Target Audience: Tech enthusiasts, business professionals, and students interested in AI.\n",
      "- Interests: Cutting-edge technology, industry insights, future predictions.\n",
      "- Pain Points: Understanding complex AI concepts, staying updated on the latest developments, ethical concerns in AI adoption.\n",
      "\n",
      "SEO Keywords:\n",
      "- Artificial Intelligence trends 2021\n",
      "- Top AI companies\n",
      "- AI news and updates\n",
      "- Future of AI technology\n",
      "- AI applications in healthcare\n",
      "\n",
      "Call to Action:\n",
      "Encourage readers to explore additional resources, attend AI-related webinars or conferences, or sign up for newsletters to stay informed about AI developments.\n",
      "\n",
      "Resources:\n",
      "1. Industry reports and whitepapers from research firms like Gartner and Forrester.\n",
      "2. Websites of leading AI companies for the latest news and updates.\n",
      "3. Journals and articles from reputable sources like MIT Technology Review and Forbes.\n",
      "4. AI-related conferences and events for networking and learning opportunities.\u001b[00m\n",
      "\n",
      "\n",
      "\u001b[1m\u001b[95m# Agent:\u001b[00m \u001b[1m\u001b[92mContent Writer\u001b[00m\n",
      "\u001b[95m## Task:\u001b[00m \u001b[92m1. Use the content plan to craft a compelling blog post on Artificial Intelligence.\n",
      "2. Incorporate SEO keywords naturally.\n",
      "3. Sections/Subtitles are properly named in an engaging manner.\n",
      "4. Ensure the post is structured with an engaging introduction, insightful body, and a summarizing conclusion.\n",
      "5. Proofread for grammatical errors and alignment with the brand's voice.\n",
      "\u001b[00m\n",
      "\n",
      "\n",
      "\u001b[1m\u001b[95m# Agent:\u001b[00m \u001b[1m\u001b[92mContent Writer\u001b[00m\n",
      "\u001b[95m## Final Answer:\u001b[00m \u001b[92m\n",
      "# The Future of Artificial Intelligence: Trends, Innovations, and Impacts\n",
      "\n",
      "## Introduction\n",
      "Artificial Intelligence (AI) stands at the forefront of modern technological advancements, reshaping industries and societies globally. As we delve into the depths of AI, we encounter a realm where machines mimic human cognitive functions, offering extraordinary possibilities. The allure of AI lies not just in its capabilities but also in the ethical and moral dilemmas it poses. This article aims to explore the latest trends, key players, and noteworthy news in the AI landscape while contemplating its profound impact on our future.\n",
      "\n",
      "## Latest Trends in Artificial Intelligence\n",
      "In the dynamic landscape of AI, several trends are steering the course of innovation. Natural Language Processing (NLP) stands out as a frontrunner, enabling machines to comprehend and generate human language with remarkable accuracy. This breakthrough has revolutionized customer service chatbots, language translation tools, and content curation algorithms. Moreover, AI's foray into healthcare and personalized medicine is transforming diagnostic accuracy, treatment plans, and drug discovery processes. The intersection of AI with autonomous vehicles and robotics is paving the way for safer transportation systems and more efficient industrial operations. However, amidst these advancements, discussions surrounding AI ethics and regulations have gained prominence, emphasizing the need for responsible AI deployment.\n",
      "\n",
      "## Key Players in the AI Industry\n",
      "Tech behemoths like Google, Amazon, and Microsoft continue to lead the AI revolution with their innovative solutions and massive investments in AI research. These industry giants have pioneered breakthroughs in machine learning, cloud-based AI services, and predictive analytics. On the other hand, emerging startups specializing in AI applications are disrupting traditional business models and fostering a culture of agile innovation. These startups bring fresh perspectives and niche expertise to the AI landscape, driving competitiveness and diversity in the industry.\n",
      "\n",
      "## Noteworthy News in AI\n",
      "Recent breakthroughs in deep learning algorithms have propelled AI capabilities to new heights, enhancing pattern recognition, data analysis, and decision-making processes. AI's pivotal role in combating climate change is generating optimism, with applications ranging from optimizing energy consumption to predicting natural disasters. However, ethical dilemmas in AI decision-making present complex challenges, such as algorithmic biases, data privacy breaches, and the automation of critical decision processes. Addressing these dilemmas is crucial to fostering trust in AI systems and ensuring equitable and transparent AI governance.\n",
      "\n",
      "## Conclusion\n",
      "As we navigate the evolving terrain of AI, it is imperative to stay abreast of the latest trends, engage with key industry players, and critically analyze the ethical implications of AI adoption. The future of Artificial Intelligence holds immense promise but also demands vigilant oversight and ethical stewardship. By embracing AI's potential while safeguarding against its pitfalls, we can chart a path towards a technologically enriched and ethically conscious future.\n",
      "\n",
      "In conclusion, Artificial Intelligence transcends mere technological innovation; it embodies a paradigm shift in how we interact with machines, data, and society. As we traverse this AI-driven landscape, let us tread carefully, mindful of the ethical considerations that underpin our technological progress. Embracing the future of AI entails not just technological prowess but also ethical responsibility and foresight.\u001b[00m\n",
      "\n",
      "\n",
      "\u001b[1m\u001b[95m# Agent:\u001b[00m \u001b[1m\u001b[92mEditor\u001b[00m\n",
      "\u001b[95m## Task:\u001b[00m \u001b[92mProofread the given blog post for grammatical errors and alignment with the brand's voice.\u001b[00m\n",
      "\n",
      "\n",
      "\u001b[1m\u001b[95m# Agent:\u001b[00m \u001b[1m\u001b[92mEditor\u001b[00m\n",
      "\u001b[95m## Final Answer:\u001b[00m \u001b[92m\n",
      "# The Future of Artificial Intelligence: Trends, Innovations, and Impacts\n",
      "\n",
      "## Introduction\n",
      "Artificial Intelligence (AI) has become a pivotal force in driving technological advancements, reshaping industries, and influencing societies worldwide. Embracing AI means delving into a realm where machines replicate human cognitive functions, offering unprecedented opportunities. The appeal of AI extends beyond its capabilities to the ethical and moral questions it raises. This article is dedicated to exploring the latest trends, significant industry players, and recent developments in AI, while contemplating its far-reaching implications for our future.\n",
      "\n",
      "## Latest Trends in Artificial Intelligence\n",
      "Artificial Intelligence is a dynamic field where trends constantly shape the landscape of innovation. Natural Language Processing (NLP) emerges as a standout trend, empowering machines to understand and generate human language with exceptional accuracy. This breakthrough revolutionizes customer service chatbots, language translation tools, and content curation algorithms. Additionally, AI's integration into healthcare and personalized medicine is revolutionizing diagnosis precision, treatment strategies, and drug discovery processes. The convergence of AI with autonomous vehicles and robotics is leading to safer transportation systems and more efficient industrial operations. Amid these advancements, discussions on AI ethics and regulations gain traction, highlighting the importance of responsible AI implementation.\n",
      "\n",
      "## Key Players in the AI Industry\n",
      "Powerhouses like Google, Amazon, and Microsoft continue to spearhead the AI revolution with their innovative solutions and substantial investments in AI research. These tech giants are at the forefront of groundbreaking developments in machine learning, cloud-based AI services, and predictive analytics. On the other hand, emerging startups specializing in AI applications are disrupting traditional business models and fostering an environment of agile innovation. These startups inject fresh perspectives and specialized expertise into the AI ecosystem, fostering competitiveness and diversity within the industry.\n",
      "\n",
      "## Noteworthy News in AI\n",
      "Recent breakthroughs in deep learning algorithms have propelled AI capabilities to unprecedented levels, enhancing pattern recognition, data analysis, and decision-making processes. AI's crucial role in addressing climate change brings hope, with applications ranging from optimizing energy consumption to predicting natural disasters. Nevertheless, ethical dilemmas in AI decision-making present intricate challenges, including algorithmic biases, data privacy breaches, and the automation of critical decisions. Tackling these dilemmas is essential for instilling trust in AI systems and ensuring fair and transparent AI governance.\n",
      "\n",
      "## Conclusion\n",
      "Navigating the evolving AI landscape necessitates staying informed about the latest trends, engaging with key industry players, and critically evaluating the ethical implications of AI adoption. The future of Artificial Intelligence holds vast potential but requires careful oversight and ethical guidance. By harnessing AI's opportunities while mitigating its risks, we can progress towards a future enriched by technology and guided by ethical consciousness.\n",
      "\n",
      "In conclusion, Artificial Intelligence signifies more than just technological progress; it embodies a fundamental shift in how we interact with machines, data, and society. As we traverse this AI-driven era, let us proceed thoughtfully, mindful of the ethical considerations that underpin our technological advancement. Embracing the future of AI involves not only technological adeptness but also ethical integrity and foresight.\u001b[00m\n",
      "\n",
      "\n"
     ]
    }
   ],
   "source": [
    "result = crew.kickoff(inputs={\"topic\": \"Artificial Intelligence\"})"
   ]
  }
 ],
 "metadata": {
  "colab": {
   "gpuType": "T4",
   "provenance": []
  },
  "kernelspec": {
   "display_name": "crewai_env",
   "language": "python",
   "name": "python3"
  },
  "language_info": {
   "codemirror_mode": {
    "name": "ipython",
    "version": 3
   },
   "file_extension": ".py",
   "mimetype": "text/x-python",
   "name": "python",
   "nbconvert_exporter": "python",
   "pygments_lexer": "ipython3",
   "version": "3.10.16"
  }
 },
 "nbformat": 4,
 "nbformat_minor": 4
}
