{
 "cells": [
  {
   "cell_type": "markdown",
   "metadata": {},
   "source": [
    "# Multi-agent Collaboration for Financial Analysis\n"
   ]
  },
  {
   "cell_type": "code",
   "execution_count": 1,
   "metadata": {
    "height": 64
   },
   "outputs": [],
   "source": [
    "# Warning control\n",
    "import warnings\n",
    "warnings.filterwarnings('ignore')"
   ]
  },
  {
   "cell_type": "code",
   "execution_count": 2,
   "metadata": {
    "height": 30
   },
   "outputs": [],
   "source": [
    "from crewai import Agent, Task, Crew"
   ]
  },
  {
   "cell_type": "code",
   "execution_count": null,
   "metadata": {
    "height": 130
   },
   "outputs": [],
   "source": [
    "import os\n",
    "from  dotenv import load_dotenv\n",
    "load_dotenv()\n",
    "os.environ[\"OPENAI_MODEL_NAME\"] = 'gpt-3.5-turbo'\n",
    "os.environ[\"SERPER_API_KEY\"]\n"
   ]
  },
  {
   "cell_type": "markdown",
   "metadata": {},
   "source": [
    "## crewAI Tools"
   ]
  },
  {
   "cell_type": "code",
   "execution_count": 5,
   "metadata": {
    "height": 96
   },
   "outputs": [
    {
     "name": "stderr",
     "output_type": "stream",
     "text": [
      "c:\\Users\\MCS\\anaconda3\\envs\\crewai_env\\lib\\site-packages\\pydantic\\_internal\\_config.py:323: PydanticDeprecatedSince20: Support for class-based `config` is deprecated, use ConfigDict instead. Deprecated in Pydantic V2.0 to be removed in V3.0. See Pydantic V2 Migration Guide at https://errors.pydantic.dev/2.11/migration/\n",
      "  warnings.warn(DEPRECATION_MESSAGE, DeprecationWarning)\n",
      "c:\\Users\\MCS\\anaconda3\\envs\\crewai_env\\lib\\site-packages\\crewai_tools\\tools\\scrapegraph_scrape_tool\\scrapegraph_scrape_tool.py:34: PydanticDeprecatedSince20: Pydantic V1 style `@validator` validators are deprecated. You should migrate to Pydantic V2 style `@field_validator` validators, see the migration guide for more details. Deprecated in Pydantic V2.0 to be removed in V3.0. See Pydantic V2 Migration Guide at https://errors.pydantic.dev/2.11/migration/\n",
      "  @validator(\"website_url\")\n",
      "c:\\Users\\MCS\\anaconda3\\envs\\crewai_env\\lib\\site-packages\\crewai_tools\\tools\\selenium_scraping_tool\\selenium_scraping_tool.py:26: PydanticDeprecatedSince20: Pydantic V1 style `@validator` validators are deprecated. You should migrate to Pydantic V2 style `@field_validator` validators, see the migration guide for more details. Deprecated in Pydantic V2.0 to be removed in V3.0. See Pydantic V2 Migration Guide at https://errors.pydantic.dev/2.11/migration/\n",
      "  @validator(\"website_url\")\n",
      "c:\\Users\\MCS\\anaconda3\\envs\\crewai_env\\lib\\site-packages\\crewai_tools\\tools\\vision_tool\\vision_tool.py:15: PydanticDeprecatedSince20: Pydantic V1 style `@validator` validators are deprecated. You should migrate to Pydantic V2 style `@field_validator` validators, see the migration guide for more details. Deprecated in Pydantic V2.0 to be removed in V3.0. See Pydantic V2 Migration Guide at https://errors.pydantic.dev/2.11/migration/\n",
      "  @validator(\"image_path_url\")\n"
     ]
    }
   ],
   "source": [
    "from crewai_tools import ScrapeWebsiteTool, SerperDevTool\n",
    "\n",
    "search_tool = SerperDevTool()\n",
    "scrape_tool = ScrapeWebsiteTool()"
   ]
  },
  {
   "cell_type": "markdown",
   "metadata": {},
   "source": [
    "## Creating Agents"
   ]
  },
  {
   "cell_type": "code",
   "execution_count": 6,
   "metadata": {
    "height": 249
   },
   "outputs": [],
   "source": [
    "data_analyst_agent = Agent(\n",
    "    role=\"Data Analyst\",\n",
    "    goal=\"Monitor and analyze market data in real-time \"\n",
    "         \"to identify trends and predict market movements.\",\n",
    "    backstory=\"Specializing in financial markets, this agent \"\n",
    "              \"uses statistical modeling and machine learning \"\n",
    "              \"to provide crucial insights. With a knack for data, \"\n",
    "              \"the Data Analyst Agent is the cornerstone for \"\n",
    "              \"informing trading decisions.\",\n",
    "    verbose=True,\n",
    "    allow_delegation=True,\n",
    "    tools = [scrape_tool, search_tool]\n",
    ")"
   ]
  },
  {
   "cell_type": "code",
   "execution_count": 7,
   "metadata": {
    "height": 249
   },
   "outputs": [],
   "source": [
    "trading_strategy_agent = Agent(\n",
    "    role=\"Trading Strategy Developer\",\n",
    "    goal=\"Develop and test various trading strategies based \"\n",
    "         \"on insights from the Data Analyst Agent.\",\n",
    "    backstory=\"Equipped with a deep understanding of financial \"\n",
    "              \"markets and quantitative analysis, this agent \"\n",
    "              \"devises and refines trading strategies. It evaluates \"\n",
    "              \"the performance of different approaches to determine \"\n",
    "              \"the most profitable and risk-averse options.\",\n",
    "    verbose=True,\n",
    "    allow_delegation=True,\n",
    "    tools = [scrape_tool, search_tool]\n",
    ")"
   ]
  },
  {
   "cell_type": "code",
   "execution_count": 8,
   "metadata": {
    "height": 249
   },
   "outputs": [],
   "source": [
    "execution_agent = Agent(\n",
    "    role=\"Trade Advisor\",\n",
    "    goal=\"Suggest optimal trade execution strategies \"\n",
    "         \"based on approved trading strategies.\",\n",
    "    backstory=\"This agent specializes in analyzing the timing, price, \"\n",
    "              \"and logistical details of potential trades. By evaluating \"\n",
    "              \"these factors, it provides well-founded suggestions for \"\n",
    "              \"when and how trades should be executed to maximize \"\n",
    "              \"efficiency and adherence to strategy.\",\n",
    "    verbose=True,\n",
    "    allow_delegation=True,\n",
    "    tools = [scrape_tool, search_tool]\n",
    ")"
   ]
  },
  {
   "cell_type": "code",
   "execution_count": 9,
   "metadata": {
    "height": 249
   },
   "outputs": [],
   "source": [
    "risk_management_agent = Agent(\n",
    "    role=\"Risk Advisor\",\n",
    "    goal=\"Evaluate and provide insights on the risks \"\n",
    "         \"associated with potential trading activities.\",\n",
    "    backstory=\"Armed with a deep understanding of risk assessment models \"\n",
    "              \"and market dynamics, this agent scrutinizes the potential \"\n",
    "              \"risks of proposed trades. It offers a detailed analysis of \"\n",
    "              \"risk exposure and suggests safeguards to ensure that \"\n",
    "              \"trading activities align with the firm’s risk tolerance.\",\n",
    "    verbose=True,\n",
    "    allow_delegation=True,\n",
    "    tools = [scrape_tool, search_tool]\n",
    ")"
   ]
  },
  {
   "cell_type": "markdown",
   "metadata": {},
   "source": [
    "## Creating Tasks"
   ]
  },
  {
   "cell_type": "code",
   "execution_count": 10,
   "metadata": {
    "height": 266
   },
   "outputs": [],
   "source": [
    "# Task for Data Analyst Agent: Analyze Market Data\n",
    "data_analysis_task = Task(\n",
    "    description=(\n",
    "        \"Continuously monitor and analyze market data for \"\n",
    "        \"the selected stock ({stock_selection}). \"\n",
    "        \"Use statistical modeling and machine learning to \"\n",
    "        \"identify trends and predict market movements.\"\n",
    "    ),\n",
    "    expected_output=(\n",
    "        \"Insights and alerts about significant market \"\n",
    "        \"opportunities or threats for {stock_selection}.\"\n",
    "    ),\n",
    "    agent=data_analyst_agent,\n",
    ")"
   ]
  },
  {
   "cell_type": "code",
   "execution_count": 11,
   "metadata": {
    "height": 283
   },
   "outputs": [],
   "source": [
    "# Task for Trading Strategy Agent: Develop Trading Strategies\n",
    "strategy_development_task = Task(\n",
    "    description=(\n",
    "        \"Develop and refine trading strategies based on \"\n",
    "        \"the insights from the Data Analyst and \"\n",
    "        \"user-defined risk tolerance ({risk_tolerance}). \"\n",
    "        \"Consider trading preferences ({trading_strategy_preference}).\"\n",
    "    ),\n",
    "    expected_output=(\n",
    "        \"A set of potential trading strategies for {stock_selection} \"\n",
    "        \"that align with the user's risk tolerance.\"\n",
    "    ),\n",
    "    agent=trading_strategy_agent,\n",
    ")\n"
   ]
  },
  {
   "cell_type": "code",
   "execution_count": 12,
   "metadata": {
    "height": 266
   },
   "outputs": [],
   "source": [
    "# Task for Trade Advisor Agent: Plan Trade Execution\n",
    "execution_planning_task = Task(\n",
    "    description=(\n",
    "        \"Analyze approved trading strategies to determine the \"\n",
    "        \"best execution methods for {stock_selection}, \"\n",
    "        \"considering current market conditions and optimal pricing.\"\n",
    "    ),\n",
    "    expected_output=(\n",
    "        \"Detailed execution plans suggesting how and when to \"\n",
    "        \"execute trades for {stock_selection}.\"\n",
    "    ),\n",
    "    agent=execution_agent,\n",
    ")\n"
   ]
  },
  {
   "cell_type": "code",
   "execution_count": 13,
   "metadata": {
    "height": 266
   },
   "outputs": [],
   "source": [
    "# Task for Risk Advisor Agent: Assess Trading Risks\n",
    "risk_assessment_task = Task(\n",
    "    description=(\n",
    "        \"Evaluate the risks associated with the proposed trading \"\n",
    "        \"strategies and execution plans for {stock_selection}. \"\n",
    "        \"Provide a detailed analysis of potential risks \"\n",
    "        \"and suggest mitigation strategies.\"\n",
    "    ),\n",
    "    expected_output=(\n",
    "        \"A comprehensive risk analysis report detailing potential \"\n",
    "        \"risks and mitigation recommendations for {stock_selection}.\"\n",
    "    ),\n",
    "    agent=risk_management_agent,\n",
    ")"
   ]
  },
  {
   "cell_type": "code",
   "execution_count": 15,
   "metadata": {
    "height": 368
   },
   "outputs": [],
   "source": [
    "from crewai import Crew, Process\n",
    "from langchain_openai import ChatOpenAI\n",
    "\n",
    "# Define the crew with agents and tasks\n",
    "financial_trading_crew = Crew(\n",
    "    agents=[data_analyst_agent, \n",
    "            trading_strategy_agent, \n",
    "            execution_agent, \n",
    "            risk_management_agent],\n",
    "    \n",
    "    tasks=[data_analysis_task, \n",
    "           strategy_development_task, \n",
    "           execution_planning_task, \n",
    "           risk_assessment_task],\n",
    "    \n",
    "    manager_llm=ChatOpenAI(model=\"gpt-3.5-turbo\", \n",
    "                           temperature=0.7),\n",
    "    process=Process.hierarchical,\n",
    "    verbose=True\n",
    ")"
   ]
  },
  {
   "cell_type": "code",
   "execution_count": 16,
   "metadata": {
    "height": 164
   },
   "outputs": [],
   "source": [
    "# Example data for kicking off the process\n",
    "financial_trading_inputs = {\n",
    "    'stock_selection': 'AAPL',\n",
    "    'initial_capital': '100000',\n",
    "    'risk_tolerance': 'Medium',\n",
    "    'trading_strategy_preference': 'Day Trading',\n",
    "    'news_impact_consideration': True\n",
    "}"
   ]
  },
  {
   "cell_type": "code",
   "execution_count": null,
   "metadata": {
    "height": 62
   },
   "outputs": [
    {
     "data": {
      "text/html": [
       "<pre style=\"white-space:pre;overflow-x:auto;line-height:normal;font-family:Menlo,'DejaVu Sans Mono',consolas,'Courier New',monospace\"><span style=\"color: #008080; text-decoration-color: #008080\">╭──────────────────────────────────────────── Crew Execution Started ─────────────────────────────────────────────╮</span>\n",
       "<span style=\"color: #008080; text-decoration-color: #008080\">│</span>                                                                                                                 <span style=\"color: #008080; text-decoration-color: #008080\">│</span>\n",
       "<span style=\"color: #008080; text-decoration-color: #008080\">│</span>  <span style=\"color: #008080; text-decoration-color: #008080; font-weight: bold\">Crew Execution Started</span>                                                                                         <span style=\"color: #008080; text-decoration-color: #008080\">│</span>\n",
       "<span style=\"color: #008080; text-decoration-color: #008080\">│</span>  <span style=\"color: #c0c0c0; text-decoration-color: #c0c0c0\">Name: </span><span style=\"color: #008080; text-decoration-color: #008080\">crew</span>                                                                                                     <span style=\"color: #008080; text-decoration-color: #008080\">│</span>\n",
       "<span style=\"color: #008080; text-decoration-color: #008080\">│</span>  <span style=\"color: #c0c0c0; text-decoration-color: #c0c0c0\">ID: </span><span style=\"color: #008080; text-decoration-color: #008080\">bde5edb3-0a5f-425d-ba26-8aeaf20c6a07</span>                                                                       <span style=\"color: #008080; text-decoration-color: #008080\">│</span>\n",
       "<span style=\"color: #008080; text-decoration-color: #008080\">│</span>                                                                                                                 <span style=\"color: #008080; text-decoration-color: #008080\">│</span>\n",
       "<span style=\"color: #008080; text-decoration-color: #008080\">│</span>                                                                                                                 <span style=\"color: #008080; text-decoration-color: #008080\">│</span>\n",
       "<span style=\"color: #008080; text-decoration-color: #008080\">╰─────────────────────────────────────────────────────────────────────────────────────────────────────────────────╯</span>\n",
       "</pre>\n"
      ],
      "text/plain": [
       "\u001b[36m╭─\u001b[0m\u001b[36m───────────────────────────────────────────\u001b[0m\u001b[36m Crew Execution Started \u001b[0m\u001b[36m────────────────────────────────────────────\u001b[0m\u001b[36m─╮\u001b[0m\n",
       "\u001b[36m│\u001b[0m                                                                                                                 \u001b[36m│\u001b[0m\n",
       "\u001b[36m│\u001b[0m  \u001b[1;36mCrew Execution Started\u001b[0m                                                                                         \u001b[36m│\u001b[0m\n",
       "\u001b[36m│\u001b[0m  \u001b[37mName: \u001b[0m\u001b[36mcrew\u001b[0m                                                                                                     \u001b[36m│\u001b[0m\n",
       "\u001b[36m│\u001b[0m  \u001b[37mID: \u001b[0m\u001b[36mbde5edb3-0a5f-425d-ba26-8aeaf20c6a07\u001b[0m                                                                       \u001b[36m│\u001b[0m\n",
       "\u001b[36m│\u001b[0m                                                                                                                 \u001b[36m│\u001b[0m\n",
       "\u001b[36m│\u001b[0m                                                                                                                 \u001b[36m│\u001b[0m\n",
       "\u001b[36m╰─────────────────────────────────────────────────────────────────────────────────────────────────────────────────╯\u001b[0m\n"
      ]
     },
     "metadata": {},
     "output_type": "display_data"
    },
    {
     "data": {
      "text/html": [
       "<pre style=\"white-space:pre;overflow-x:auto;line-height:normal;font-family:Menlo,'DejaVu Sans Mono',consolas,'Courier New',monospace\">\n",
       "</pre>\n"
      ],
      "text/plain": [
       "\n"
      ]
     },
     "metadata": {},
     "output_type": "display_data"
    },
    {
     "data": {
      "text/html": [
       "<pre style=\"white-space:pre;overflow-x:auto;line-height:normal;font-family:Menlo,'DejaVu Sans Mono',consolas,'Courier New',monospace\"><span style=\"color: #008080; text-decoration-color: #008080; font-weight: bold\">🚀 Crew: crew</span>\n",
       "└── <span style=\"color: #808000; text-decoration-color: #808000; font-weight: bold\">📋 Task: 830fe17a-ed1f-4a6b-a377-9ccc7d02b70e</span>\n",
       "    <span style=\"color: #c0c0c0; text-decoration-color: #c0c0c0\">   Status: </span><span style=\"color: #bfbf7f; text-decoration-color: #bfbf7f\">Executing Task...</span>\n",
       "</pre>\n"
      ],
      "text/plain": [
       "\u001b[1;36m🚀 Crew: \u001b[0m\u001b[1;36mcrew\u001b[0m\n",
       "└── \u001b[1;33m📋 Task: 830fe17a-ed1f-4a6b-a377-9ccc7d02b70e\u001b[0m\n",
       "    \u001b[37m   Status: \u001b[0m\u001b[2;33mExecuting Task...\u001b[0m\n"
      ]
     },
     "metadata": {},
     "output_type": "display_data"
    },
    {
     "data": {
      "text/html": [
       "<pre style=\"white-space:pre;overflow-x:auto;line-height:normal;font-family:Menlo,'DejaVu Sans Mono',consolas,'Courier New',monospace\">\n",
       "</pre>\n"
      ],
      "text/plain": [
       "\n"
      ]
     },
     "metadata": {},
     "output_type": "display_data"
    },
    {
     "data": {
      "text/html": [
       "<pre style=\"white-space:pre;overflow-x:auto;line-height:normal;font-family:Menlo,'DejaVu Sans Mono',consolas,'Courier New',monospace\"><span style=\"color: #008080; text-decoration-color: #008080; font-weight: bold\">🚀 Crew: crew</span>\n",
       "└── <span style=\"color: #808000; text-decoration-color: #808000; font-weight: bold\">📋 Task: 830fe17a-ed1f-4a6b-a377-9ccc7d02b70e</span>\n",
       "    <span style=\"color: #c0c0c0; text-decoration-color: #c0c0c0\">   Status: </span><span style=\"color: #bfbf7f; text-decoration-color: #bfbf7f\">Executing Task...</span>\n",
       "    └── <span style=\"color: #008000; text-decoration-color: #008000; font-weight: bold\">🤖 Agent: </span><span style=\"color: #008000; text-decoration-color: #008000\">Crew Manager</span>\n",
       "        <span style=\"color: #c0c0c0; text-decoration-color: #c0c0c0\">    Status: </span><span style=\"color: #008000; text-decoration-color: #008000; font-weight: bold\">In Progress</span>\n",
       "</pre>\n"
      ],
      "text/plain": [
       "\u001b[1;36m🚀 Crew: \u001b[0m\u001b[1;36mcrew\u001b[0m\n",
       "└── \u001b[1;33m📋 Task: 830fe17a-ed1f-4a6b-a377-9ccc7d02b70e\u001b[0m\n",
       "    \u001b[37m   Status: \u001b[0m\u001b[2;33mExecuting Task...\u001b[0m\n",
       "    └── \u001b[1;32m🤖 Agent: \u001b[0m\u001b[32mCrew Manager\u001b[0m\n",
       "        \u001b[37m    Status: \u001b[0m\u001b[1;32mIn Progress\u001b[0m\n"
      ]
     },
     "metadata": {},
     "output_type": "display_data"
    },
    {
     "data": {
      "text/html": [
       "<pre style=\"white-space:pre;overflow-x:auto;line-height:normal;font-family:Menlo,'DejaVu Sans Mono',consolas,'Courier New',monospace\">\n",
       "</pre>\n"
      ],
      "text/plain": [
       "\n"
      ]
     },
     "metadata": {},
     "output_type": "display_data"
    },
    {
     "name": "stdout",
     "output_type": "stream",
     "text": [
      "\u001b[1m\u001b[95m# Agent:\u001b[00m \u001b[1m\u001b[92mCrew Manager\u001b[00m\n",
      "\u001b[95m## Task:\u001b[00m \u001b[92mContinuously monitor and analyze market data for the selected stock (AAPL). Use statistical modeling and machine learning to identify trends and predict market movements.\u001b[00m\n"
     ]
    },
    {
     "data": {
      "text/html": [
       "<pre style=\"white-space:pre;overflow-x:auto;line-height:normal;font-family:Menlo,'DejaVu Sans Mono',consolas,'Courier New',monospace\"><span style=\"color: #008080; text-decoration-color: #008080; font-weight: bold\">🚀 Crew: crew</span>\n",
       "└── <span style=\"color: #808000; text-decoration-color: #808000; font-weight: bold\">📋 Task: 830fe17a-ed1f-4a6b-a377-9ccc7d02b70e</span>\n",
       "    <span style=\"color: #c0c0c0; text-decoration-color: #c0c0c0\">   Status: </span><span style=\"color: #bfbf7f; text-decoration-color: #bfbf7f\">Executing Task...</span>\n",
       "    └── <span style=\"color: #008000; text-decoration-color: #008000; font-weight: bold\">🤖 Agent: </span><span style=\"color: #008000; text-decoration-color: #008000\">Crew Manager</span>\n",
       "        <span style=\"color: #c0c0c0; text-decoration-color: #c0c0c0\">    Status: </span><span style=\"color: #008000; text-decoration-color: #008000; font-weight: bold\">In Progress</span>\n",
       "        └── <span style=\"color: #000080; text-decoration-color: #000080; font-weight: bold\">🧠 </span><span style=\"color: #000080; text-decoration-color: #000080\">Thinking...</span>\n",
       "</pre>\n"
      ],
      "text/plain": [
       "\u001b[1;36m🚀 Crew: \u001b[0m\u001b[1;36mcrew\u001b[0m\n",
       "└── \u001b[1;33m📋 Task: 830fe17a-ed1f-4a6b-a377-9ccc7d02b70e\u001b[0m\n",
       "    \u001b[37m   Status: \u001b[0m\u001b[2;33mExecuting Task...\u001b[0m\n",
       "    └── \u001b[1;32m🤖 Agent: \u001b[0m\u001b[32mCrew Manager\u001b[0m\n",
       "        \u001b[37m    Status: \u001b[0m\u001b[1;32mIn Progress\u001b[0m\n",
       "        └── \u001b[1;34m🧠 \u001b[0m\u001b[34mThinking...\u001b[0m\n"
      ]
     },
     "metadata": {},
     "output_type": "display_data"
    },
    {
     "data": {
      "text/html": [
       "<pre style=\"white-space:pre;overflow-x:auto;line-height:normal;font-family:Menlo,'DejaVu Sans Mono',consolas,'Courier New',monospace\">\n",
       "</pre>\n"
      ],
      "text/plain": [
       "\n"
      ]
     },
     "metadata": {},
     "output_type": "display_data"
    },
    {
     "data": {
      "text/html": [
       "<pre style=\"white-space:pre;overflow-x:auto;line-height:normal;font-family:Menlo,'DejaVu Sans Mono',consolas,'Courier New',monospace\"><span style=\"color: #008080; text-decoration-color: #008080; font-weight: bold\">🚀 Crew: crew</span>\n",
       "└── <span style=\"color: #808000; text-decoration-color: #808000; font-weight: bold\">📋 Task: 830fe17a-ed1f-4a6b-a377-9ccc7d02b70e</span>\n",
       "    <span style=\"color: #c0c0c0; text-decoration-color: #c0c0c0\">   Status: </span><span style=\"color: #bfbf7f; text-decoration-color: #bfbf7f\">Executing Task...</span>\n",
       "    └── <span style=\"color: #008000; text-decoration-color: #008000; font-weight: bold\">🤖 Agent: </span><span style=\"color: #008000; text-decoration-color: #008000\">Crew Manager</span>\n",
       "        <span style=\"color: #c0c0c0; text-decoration-color: #c0c0c0\">    Status: </span><span style=\"color: #008000; text-decoration-color: #008000; font-weight: bold\">In Progress</span>\n",
       "</pre>\n"
      ],
      "text/plain": [
       "\u001b[1;36m🚀 Crew: \u001b[0m\u001b[1;36mcrew\u001b[0m\n",
       "└── \u001b[1;33m📋 Task: 830fe17a-ed1f-4a6b-a377-9ccc7d02b70e\u001b[0m\n",
       "    \u001b[37m   Status: \u001b[0m\u001b[2;33mExecuting Task...\u001b[0m\n",
       "    └── \u001b[1;32m🤖 Agent: \u001b[0m\u001b[32mCrew Manager\u001b[0m\n",
       "        \u001b[37m    Status: \u001b[0m\u001b[1;32mIn Progress\u001b[0m\n"
      ]
     },
     "metadata": {},
     "output_type": "display_data"
    },
    {
     "data": {
      "text/html": [
       "<pre style=\"white-space:pre;overflow-x:auto;line-height:normal;font-family:Menlo,'DejaVu Sans Mono',consolas,'Courier New',monospace\">\n",
       "</pre>\n"
      ],
      "text/plain": [
       "\n"
      ]
     },
     "metadata": {},
     "output_type": "display_data"
    },
    {
     "data": {
      "text/html": [
       "<pre style=\"white-space:pre;overflow-x:auto;line-height:normal;font-family:Menlo,'DejaVu Sans Mono',consolas,'Courier New',monospace\"><span style=\"color: #008080; text-decoration-color: #008080; font-weight: bold\">🚀 Crew: crew</span>\n",
       "└── <span style=\"color: #808000; text-decoration-color: #808000; font-weight: bold\">📋 Task: 830fe17a-ed1f-4a6b-a377-9ccc7d02b70e</span>\n",
       "    <span style=\"color: #c0c0c0; text-decoration-color: #c0c0c0\">   Status: </span><span style=\"color: #bfbf7f; text-decoration-color: #bfbf7f\">Executing Task...</span>\n",
       "    └── <span style=\"color: #008000; text-decoration-color: #008000; font-weight: bold\">🤖 Agent: </span><span style=\"color: #008000; text-decoration-color: #008000\">Crew Manager</span>\n",
       "        <span style=\"color: #c0c0c0; text-decoration-color: #c0c0c0\">    Status: </span><span style=\"color: #008000; text-decoration-color: #008000; font-weight: bold\">In Progress</span>\n",
       "        └── <span style=\"color: #808000; text-decoration-color: #808000; font-weight: bold\">🔧 </span><span style=\"color: #808000; text-decoration-color: #808000\">Using Search the internet with Serper (1)</span>\n",
       "</pre>\n"
      ],
      "text/plain": [
       "\u001b[1;36m🚀 Crew: \u001b[0m\u001b[1;36mcrew\u001b[0m\n",
       "└── \u001b[1;33m📋 Task: 830fe17a-ed1f-4a6b-a377-9ccc7d02b70e\u001b[0m\n",
       "    \u001b[37m   Status: \u001b[0m\u001b[2;33mExecuting Task...\u001b[0m\n",
       "    └── \u001b[1;32m🤖 Agent: \u001b[0m\u001b[32mCrew Manager\u001b[0m\n",
       "        \u001b[37m    Status: \u001b[0m\u001b[1;32mIn Progress\u001b[0m\n",
       "        └── \u001b[1;33m🔧 \u001b[0m\u001b[33mUsing Search the internet with Serper (1)\u001b[0m\n"
      ]
     },
     "metadata": {},
     "output_type": "display_data"
    },
    {
     "data": {
      "text/html": [
       "<pre style=\"white-space:pre;overflow-x:auto;line-height:normal;font-family:Menlo,'DejaVu Sans Mono',consolas,'Courier New',monospace\">\n",
       "</pre>\n"
      ],
      "text/plain": [
       "\n"
      ]
     },
     "metadata": {},
     "output_type": "display_data"
    },
    {
     "name": "stderr",
     "output_type": "stream",
     "text": [
      "2025-04-12 01:15:16,552 - 11204 - serper_dev_tool.py-serper_dev_tool:170 - ERROR: Error making request to Serper API: 403 Client Error: Forbidden for url: https://google.serper.dev/search\n",
      "Response content: b'{\"message\":\"Unauthorized.\",\"statusCode\":403}'\n",
      "2025-04-12 01:15:17,021 - 11204 - serper_dev_tool.py-serper_dev_tool:170 - ERROR: Error making request to Serper API: 403 Client Error: Forbidden for url: https://google.serper.dev/search\n",
      "Response content: b'{\"message\":\"Unauthorized.\",\"statusCode\":403}'\n"
     ]
    },
    {
     "data": {
      "text/html": [
       "<pre style=\"white-space:pre;overflow-x:auto;line-height:normal;font-family:Menlo,'DejaVu Sans Mono',consolas,'Courier New',monospace\"><span style=\"color: #008080; text-decoration-color: #008080; font-weight: bold\">🚀 Crew: crew</span>\n",
       "└── <span style=\"color: #808000; text-decoration-color: #808000; font-weight: bold\">📋 Task: 830fe17a-ed1f-4a6b-a377-9ccc7d02b70e</span>\n",
       "    <span style=\"color: #c0c0c0; text-decoration-color: #c0c0c0\">   Status: </span><span style=\"color: #bfbf7f; text-decoration-color: #bfbf7f\">Executing Task...</span>\n",
       "    └── <span style=\"color: #008000; text-decoration-color: #008000; font-weight: bold\">🤖 Agent: </span><span style=\"color: #008000; text-decoration-color: #008000\">Crew Manager</span>\n",
       "        <span style=\"color: #c0c0c0; text-decoration-color: #c0c0c0\">    Status: </span><span style=\"color: #008000; text-decoration-color: #008000; font-weight: bold\">In Progress</span>\n",
       "        └── <span style=\"color: #800000; text-decoration-color: #800000; font-weight: bold\">🔧 Failed </span><span style=\"color: #800000; text-decoration-color: #800000\">Search the internet with Serper (1)</span>\n",
       "</pre>\n"
      ],
      "text/plain": [
       "\u001b[1;36m🚀 Crew: \u001b[0m\u001b[1;36mcrew\u001b[0m\n",
       "└── \u001b[1;33m📋 Task: 830fe17a-ed1f-4a6b-a377-9ccc7d02b70e\u001b[0m\n",
       "    \u001b[37m   Status: \u001b[0m\u001b[2;33mExecuting Task...\u001b[0m\n",
       "    └── \u001b[1;32m🤖 Agent: \u001b[0m\u001b[32mCrew Manager\u001b[0m\n",
       "        \u001b[37m    Status: \u001b[0m\u001b[1;32mIn Progress\u001b[0m\n",
       "        └── \u001b[1;31m🔧 Failed \u001b[0m\u001b[31mSearch the internet with Serper (1)\u001b[0m\n"
      ]
     },
     "metadata": {},
     "output_type": "display_data"
    },
    {
     "data": {
      "text/html": [
       "<pre style=\"white-space:pre;overflow-x:auto;line-height:normal;font-family:Menlo,'DejaVu Sans Mono',consolas,'Courier New',monospace\">\n",
       "</pre>\n"
      ],
      "text/plain": [
       "\n"
      ]
     },
     "metadata": {},
     "output_type": "display_data"
    },
    {
     "data": {
      "text/html": [
       "<pre style=\"white-space:pre;overflow-x:auto;line-height:normal;font-family:Menlo,'DejaVu Sans Mono',consolas,'Courier New',monospace\"><span style=\"color: #800000; text-decoration-color: #800000\">╭────────────────────────────────────────────────── Tool Error ───────────────────────────────────────────────────╮</span>\n",
       "<span style=\"color: #800000; text-decoration-color: #800000\">│</span>                                                                                                                 <span style=\"color: #800000; text-decoration-color: #800000\">│</span>\n",
       "<span style=\"color: #800000; text-decoration-color: #800000\">│</span>  <span style=\"color: #800000; text-decoration-color: #800000; font-weight: bold\">Tool Usage Failed</span>                                                                                              <span style=\"color: #800000; text-decoration-color: #800000\">│</span>\n",
       "<span style=\"color: #800000; text-decoration-color: #800000\">│</span>  <span style=\"color: #c0c0c0; text-decoration-color: #c0c0c0\">Name: </span><span style=\"color: #800000; text-decoration-color: #800000\">Search the internet with Serper</span>                                                                          <span style=\"color: #800000; text-decoration-color: #800000\">│</span>\n",
       "<span style=\"color: #800000; text-decoration-color: #800000\">│</span>  <span style=\"color: #c0c0c0; text-decoration-color: #c0c0c0\">Error: </span><span style=\"color: #800000; text-decoration-color: #800000\">403 Client Error: Forbidden for url: https://google.serper.dev/search</span>                                   <span style=\"color: #800000; text-decoration-color: #800000\">│</span>\n",
       "<span style=\"color: #800000; text-decoration-color: #800000\">│</span>                                                                                                                 <span style=\"color: #800000; text-decoration-color: #800000\">│</span>\n",
       "<span style=\"color: #800000; text-decoration-color: #800000\">│</span>                                                                                                                 <span style=\"color: #800000; text-decoration-color: #800000\">│</span>\n",
       "<span style=\"color: #800000; text-decoration-color: #800000\">╰─────────────────────────────────────────────────────────────────────────────────────────────────────────────────╯</span>\n",
       "</pre>\n"
      ],
      "text/plain": [
       "\u001b[31m╭─\u001b[0m\u001b[31m─────────────────────────────────────────────────\u001b[0m\u001b[31m Tool Error \u001b[0m\u001b[31m──────────────────────────────────────────────────\u001b[0m\u001b[31m─╮\u001b[0m\n",
       "\u001b[31m│\u001b[0m                                                                                                                 \u001b[31m│\u001b[0m\n",
       "\u001b[31m│\u001b[0m  \u001b[1;31mTool Usage Failed\u001b[0m                                                                                              \u001b[31m│\u001b[0m\n",
       "\u001b[31m│\u001b[0m  \u001b[37mName: \u001b[0m\u001b[31mSearch the internet with Serper\u001b[0m                                                                          \u001b[31m│\u001b[0m\n",
       "\u001b[31m│\u001b[0m  \u001b[37mError: \u001b[0m\u001b[31m403 Client Error: Forbidden for url: https://google.serper.dev/search\u001b[0m                                   \u001b[31m│\u001b[0m\n",
       "\u001b[31m│\u001b[0m                                                                                                                 \u001b[31m│\u001b[0m\n",
       "\u001b[31m│\u001b[0m                                                                                                                 \u001b[31m│\u001b[0m\n",
       "\u001b[31m╰─────────────────────────────────────────────────────────────────────────────────────────────────────────────────╯\u001b[0m\n"
      ]
     },
     "metadata": {},
     "output_type": "display_data"
    },
    {
     "data": {
      "text/html": [
       "<pre style=\"white-space:pre;overflow-x:auto;line-height:normal;font-family:Menlo,'DejaVu Sans Mono',consolas,'Courier New',monospace\">\n",
       "</pre>\n"
      ],
      "text/plain": [
       "\n"
      ]
     },
     "metadata": {},
     "output_type": "display_data"
    },
    {
     "name": "stderr",
     "output_type": "stream",
     "text": [
      "2025-04-12 01:15:17,483 - 11204 - serper_dev_tool.py-serper_dev_tool:170 - ERROR: Error making request to Serper API: 403 Client Error: Forbidden for url: https://google.serper.dev/search\n",
      "Response content: b'{\"message\":\"Unauthorized.\",\"statusCode\":403}'\n",
      "2025-04-12 01:15:18,015 - 11204 - serper_dev_tool.py-serper_dev_tool:170 - ERROR: Error making request to Serper API: 403 Client Error: Forbidden for url: https://google.serper.dev/search\n",
      "Response content: b'{\"message\":\"Unauthorized.\",\"statusCode\":403}'\n"
     ]
    },
    {
     "data": {
      "text/html": [
       "<pre style=\"white-space:pre;overflow-x:auto;line-height:normal;font-family:Menlo,'DejaVu Sans Mono',consolas,'Courier New',monospace\"><span style=\"color: #008080; text-decoration-color: #008080; font-weight: bold\">🚀 Crew: crew</span>\n",
       "└── <span style=\"color: #808000; text-decoration-color: #808000; font-weight: bold\">📋 Task: 830fe17a-ed1f-4a6b-a377-9ccc7d02b70e</span>\n",
       "    <span style=\"color: #c0c0c0; text-decoration-color: #c0c0c0\">   Status: </span><span style=\"color: #bfbf7f; text-decoration-color: #bfbf7f\">Executing Task...</span>\n",
       "    └── <span style=\"color: #008000; text-decoration-color: #008000; font-weight: bold\">🤖 Agent: </span><span style=\"color: #008000; text-decoration-color: #008000\">Crew Manager</span>\n",
       "        <span style=\"color: #c0c0c0; text-decoration-color: #c0c0c0\">    Status: </span><span style=\"color: #008000; text-decoration-color: #008000; font-weight: bold\">In Progress</span>\n",
       "        └── <span style=\"color: #800000; text-decoration-color: #800000; font-weight: bold\">🔧 Failed </span><span style=\"color: #800000; text-decoration-color: #800000\">Search the internet with Serper (1)</span>\n",
       "</pre>\n"
      ],
      "text/plain": [
       "\u001b[1;36m🚀 Crew: \u001b[0m\u001b[1;36mcrew\u001b[0m\n",
       "└── \u001b[1;33m📋 Task: 830fe17a-ed1f-4a6b-a377-9ccc7d02b70e\u001b[0m\n",
       "    \u001b[37m   Status: \u001b[0m\u001b[2;33mExecuting Task...\u001b[0m\n",
       "    └── \u001b[1;32m🤖 Agent: \u001b[0m\u001b[32mCrew Manager\u001b[0m\n",
       "        \u001b[37m    Status: \u001b[0m\u001b[1;32mIn Progress\u001b[0m\n",
       "        └── \u001b[1;31m🔧 Failed \u001b[0m\u001b[31mSearch the internet with Serper (1)\u001b[0m\n"
      ]
     },
     "metadata": {},
     "output_type": "display_data"
    },
    {
     "data": {
      "text/html": [
       "<pre style=\"white-space:pre;overflow-x:auto;line-height:normal;font-family:Menlo,'DejaVu Sans Mono',consolas,'Courier New',monospace\">\n",
       "</pre>\n"
      ],
      "text/plain": [
       "\n"
      ]
     },
     "metadata": {},
     "output_type": "display_data"
    },
    {
     "data": {
      "text/html": [
       "<pre style=\"white-space:pre;overflow-x:auto;line-height:normal;font-family:Menlo,'DejaVu Sans Mono',consolas,'Courier New',monospace\"><span style=\"color: #800000; text-decoration-color: #800000\">╭────────────────────────────────────────────────── Tool Error ───────────────────────────────────────────────────╮</span>\n",
       "<span style=\"color: #800000; text-decoration-color: #800000\">│</span>                                                                                                                 <span style=\"color: #800000; text-decoration-color: #800000\">│</span>\n",
       "<span style=\"color: #800000; text-decoration-color: #800000\">│</span>  <span style=\"color: #800000; text-decoration-color: #800000; font-weight: bold\">Tool Usage Failed</span>                                                                                              <span style=\"color: #800000; text-decoration-color: #800000\">│</span>\n",
       "<span style=\"color: #800000; text-decoration-color: #800000\">│</span>  <span style=\"color: #c0c0c0; text-decoration-color: #c0c0c0\">Name: </span><span style=\"color: #800000; text-decoration-color: #800000\">Search the internet with Serper</span>                                                                          <span style=\"color: #800000; text-decoration-color: #800000\">│</span>\n",
       "<span style=\"color: #800000; text-decoration-color: #800000\">│</span>  <span style=\"color: #c0c0c0; text-decoration-color: #c0c0c0\">Error: </span><span style=\"color: #800000; text-decoration-color: #800000\">403 Client Error: Forbidden for url: https://google.serper.dev/search</span>                                   <span style=\"color: #800000; text-decoration-color: #800000\">│</span>\n",
       "<span style=\"color: #800000; text-decoration-color: #800000\">│</span>                                                                                                                 <span style=\"color: #800000; text-decoration-color: #800000\">│</span>\n",
       "<span style=\"color: #800000; text-decoration-color: #800000\">│</span>                                                                                                                 <span style=\"color: #800000; text-decoration-color: #800000\">│</span>\n",
       "<span style=\"color: #800000; text-decoration-color: #800000\">╰─────────────────────────────────────────────────────────────────────────────────────────────────────────────────╯</span>\n",
       "</pre>\n"
      ],
      "text/plain": [
       "\u001b[31m╭─\u001b[0m\u001b[31m─────────────────────────────────────────────────\u001b[0m\u001b[31m Tool Error \u001b[0m\u001b[31m──────────────────────────────────────────────────\u001b[0m\u001b[31m─╮\u001b[0m\n",
       "\u001b[31m│\u001b[0m                                                                                                                 \u001b[31m│\u001b[0m\n",
       "\u001b[31m│\u001b[0m  \u001b[1;31mTool Usage Failed\u001b[0m                                                                                              \u001b[31m│\u001b[0m\n",
       "\u001b[31m│\u001b[0m  \u001b[37mName: \u001b[0m\u001b[31mSearch the internet with Serper\u001b[0m                                                                          \u001b[31m│\u001b[0m\n",
       "\u001b[31m│\u001b[0m  \u001b[37mError: \u001b[0m\u001b[31m403 Client Error: Forbidden for url: https://google.serper.dev/search\u001b[0m                                   \u001b[31m│\u001b[0m\n",
       "\u001b[31m│\u001b[0m                                                                                                                 \u001b[31m│\u001b[0m\n",
       "\u001b[31m│\u001b[0m                                                                                                                 \u001b[31m│\u001b[0m\n",
       "\u001b[31m╰─────────────────────────────────────────────────────────────────────────────────────────────────────────────────╯\u001b[0m\n"
      ]
     },
     "metadata": {},
     "output_type": "display_data"
    },
    {
     "data": {
      "text/html": [
       "<pre style=\"white-space:pre;overflow-x:auto;line-height:normal;font-family:Menlo,'DejaVu Sans Mono',consolas,'Courier New',monospace\">\n",
       "</pre>\n"
      ],
      "text/plain": [
       "\n"
      ]
     },
     "metadata": {},
     "output_type": "display_data"
    },
    {
     "name": "stderr",
     "output_type": "stream",
     "text": [
      "2025-04-12 01:15:18,482 - 11204 - serper_dev_tool.py-serper_dev_tool:170 - ERROR: Error making request to Serper API: 403 Client Error: Forbidden for url: https://google.serper.dev/search\n",
      "Response content: b'{\"message\":\"Unauthorized.\",\"statusCode\":403}'\n",
      "2025-04-12 01:15:18,935 - 11204 - serper_dev_tool.py-serper_dev_tool:170 - ERROR: Error making request to Serper API: 403 Client Error: Forbidden for url: https://google.serper.dev/search\n",
      "Response content: b'{\"message\":\"Unauthorized.\",\"statusCode\":403}'\n"
     ]
    },
    {
     "data": {
      "text/html": [
       "<pre style=\"white-space:pre;overflow-x:auto;line-height:normal;font-family:Menlo,'DejaVu Sans Mono',consolas,'Courier New',monospace\"><span style=\"color: #008080; text-decoration-color: #008080; font-weight: bold\">🚀 Crew: crew</span>\n",
       "└── <span style=\"color: #808000; text-decoration-color: #808000; font-weight: bold\">📋 Task: 830fe17a-ed1f-4a6b-a377-9ccc7d02b70e</span>\n",
       "    <span style=\"color: #c0c0c0; text-decoration-color: #c0c0c0\">   Status: </span><span style=\"color: #bfbf7f; text-decoration-color: #bfbf7f\">Executing Task...</span>\n",
       "    └── <span style=\"color: #008000; text-decoration-color: #008000; font-weight: bold\">🤖 Agent: </span><span style=\"color: #008000; text-decoration-color: #008000\">Crew Manager</span>\n",
       "        <span style=\"color: #c0c0c0; text-decoration-color: #c0c0c0\">    Status: </span><span style=\"color: #008000; text-decoration-color: #008000; font-weight: bold\">In Progress</span>\n",
       "        └── <span style=\"color: #800000; text-decoration-color: #800000; font-weight: bold\">🔧 Failed </span><span style=\"color: #800000; text-decoration-color: #800000\">Search the internet with Serper (1)</span>\n",
       "</pre>\n"
      ],
      "text/plain": [
       "\u001b[1;36m🚀 Crew: \u001b[0m\u001b[1;36mcrew\u001b[0m\n",
       "└── \u001b[1;33m📋 Task: 830fe17a-ed1f-4a6b-a377-9ccc7d02b70e\u001b[0m\n",
       "    \u001b[37m   Status: \u001b[0m\u001b[2;33mExecuting Task...\u001b[0m\n",
       "    └── \u001b[1;32m🤖 Agent: \u001b[0m\u001b[32mCrew Manager\u001b[0m\n",
       "        \u001b[37m    Status: \u001b[0m\u001b[1;32mIn Progress\u001b[0m\n",
       "        └── \u001b[1;31m🔧 Failed \u001b[0m\u001b[31mSearch the internet with Serper (1)\u001b[0m\n"
      ]
     },
     "metadata": {},
     "output_type": "display_data"
    },
    {
     "data": {
      "text/html": [
       "<pre style=\"white-space:pre;overflow-x:auto;line-height:normal;font-family:Menlo,'DejaVu Sans Mono',consolas,'Courier New',monospace\">\n",
       "</pre>\n"
      ],
      "text/plain": [
       "\n"
      ]
     },
     "metadata": {},
     "output_type": "display_data"
    },
    {
     "data": {
      "text/html": [
       "<pre style=\"white-space:pre;overflow-x:auto;line-height:normal;font-family:Menlo,'DejaVu Sans Mono',consolas,'Courier New',monospace\"><span style=\"color: #800000; text-decoration-color: #800000\">╭────────────────────────────────────────────────── Tool Error ───────────────────────────────────────────────────╮</span>\n",
       "<span style=\"color: #800000; text-decoration-color: #800000\">│</span>                                                                                                                 <span style=\"color: #800000; text-decoration-color: #800000\">│</span>\n",
       "<span style=\"color: #800000; text-decoration-color: #800000\">│</span>  <span style=\"color: #800000; text-decoration-color: #800000; font-weight: bold\">Tool Usage Failed</span>                                                                                              <span style=\"color: #800000; text-decoration-color: #800000\">│</span>\n",
       "<span style=\"color: #800000; text-decoration-color: #800000\">│</span>  <span style=\"color: #c0c0c0; text-decoration-color: #c0c0c0\">Name: </span><span style=\"color: #800000; text-decoration-color: #800000\">Search the internet with Serper</span>                                                                          <span style=\"color: #800000; text-decoration-color: #800000\">│</span>\n",
       "<span style=\"color: #800000; text-decoration-color: #800000\">│</span>  <span style=\"color: #c0c0c0; text-decoration-color: #c0c0c0\">Error: </span><span style=\"color: #800000; text-decoration-color: #800000\">403 Client Error: Forbidden for url: https://google.serper.dev/search</span>                                   <span style=\"color: #800000; text-decoration-color: #800000\">│</span>\n",
       "<span style=\"color: #800000; text-decoration-color: #800000\">│</span>                                                                                                                 <span style=\"color: #800000; text-decoration-color: #800000\">│</span>\n",
       "<span style=\"color: #800000; text-decoration-color: #800000\">│</span>                                                                                                                 <span style=\"color: #800000; text-decoration-color: #800000\">│</span>\n",
       "<span style=\"color: #800000; text-decoration-color: #800000\">╰─────────────────────────────────────────────────────────────────────────────────────────────────────────────────╯</span>\n",
       "</pre>\n"
      ],
      "text/plain": [
       "\u001b[31m╭─\u001b[0m\u001b[31m─────────────────────────────────────────────────\u001b[0m\u001b[31m Tool Error \u001b[0m\u001b[31m──────────────────────────────────────────────────\u001b[0m\u001b[31m─╮\u001b[0m\n",
       "\u001b[31m│\u001b[0m                                                                                                                 \u001b[31m│\u001b[0m\n",
       "\u001b[31m│\u001b[0m  \u001b[1;31mTool Usage Failed\u001b[0m                                                                                              \u001b[31m│\u001b[0m\n",
       "\u001b[31m│\u001b[0m  \u001b[37mName: \u001b[0m\u001b[31mSearch the internet with Serper\u001b[0m                                                                          \u001b[31m│\u001b[0m\n",
       "\u001b[31m│\u001b[0m  \u001b[37mError: \u001b[0m\u001b[31m403 Client Error: Forbidden for url: https://google.serper.dev/search\u001b[0m                                   \u001b[31m│\u001b[0m\n",
       "\u001b[31m│\u001b[0m                                                                                                                 \u001b[31m│\u001b[0m\n",
       "\u001b[31m│\u001b[0m                                                                                                                 \u001b[31m│\u001b[0m\n",
       "\u001b[31m╰─────────────────────────────────────────────────────────────────────────────────────────────────────────────────╯\u001b[0m\n"
      ]
     },
     "metadata": {},
     "output_type": "display_data"
    },
    {
     "data": {
      "text/html": [
       "<pre style=\"white-space:pre;overflow-x:auto;line-height:normal;font-family:Menlo,'DejaVu Sans Mono',consolas,'Courier New',monospace\">\n",
       "</pre>\n"
      ],
      "text/plain": [
       "\n"
      ]
     },
     "metadata": {},
     "output_type": "display_data"
    },
    {
     "name": "stdout",
     "output_type": "stream",
     "text": [
      "\u001b[91m \n",
      "\n",
      "I encountered an error while trying to use the tool. This was the error: 403 Client Error: Forbidden for url: https://google.serper.dev/search.\n",
      " Tool Search the internet with Serper accepts these inputs: Tool Name: Search the internet with Serper\n",
      "Tool Arguments: {'search_query': {'description': 'Mandatory search query you want to use to search the internet', 'type': 'str'}}\n",
      "Tool Description: A tool that can be used to search the internet with a search_query. Supports different search types: 'search' (default), 'news'\n",
      "\u001b[00m\n",
      "\n",
      "\n",
      "\u001b[1m\u001b[95m# Agent:\u001b[00m \u001b[1m\u001b[92mCrew Manager\u001b[00m\n",
      "\u001b[95m## Thought:\u001b[00m \u001b[92mI need to gather information on market data for the selected stock AAPL to provide insights and alerts about significant market opportunities or threats. I should also consider using statistical modeling and machine learning to identify trends and predict market movements.\u001b[00m\n",
      "\u001b[95m## Using tool:\u001b[00m \u001b[92mSearch the internet with Serper\u001b[00m\n",
      "\u001b[95m## Tool Input:\u001b[00m \u001b[92m\n",
      "\"{\\\"search_query\\\": \\\"AAPL stock market data analysis\\\"}\"\u001b[00m\n",
      "\u001b[95m## Tool Output:\u001b[00m \u001b[92m\n",
      "\n",
      "I encountered an error while trying to use the tool. This was the error: 403 Client Error: Forbidden for url: https://google.serper.dev/search.\n",
      " Tool Search the internet with Serper accepts these inputs: Tool Name: Search the internet with Serper\n",
      "Tool Arguments: {'search_query': {'description': 'Mandatory search query you want to use to search the internet', 'type': 'str'}}\n",
      "Tool Description: A tool that can be used to search the internet with a search_query. Supports different search types: 'search' (default), 'news'.\n",
      "Moving on then. I MUST either use a tool (use one at time) OR give my best final answer not both at the same time. When responding, I must use the following format:\n",
      "\n",
      "```\n",
      "Thought: you should always think about what to do\n",
      "Action: the action to take, should be one of [Read website content, Search the internet with Serper, Delegate work to coworker, Ask question to coworker]\n",
      "Action Input: the input to the action, dictionary enclosed in curly braces\n",
      "Observation: the result of the action\n",
      "```\n",
      "This Thought/Action/Action Input/Result can repeat N times. Once I know the final answer, I must return the following format:\n",
      "\n",
      "```\n",
      "Thought: I now can give a great answer\n",
      "Final Answer: Your final answer must be the great and the most complete as possible, it must be outcome described\n",
      "\n",
      "```\u001b[00m\n"
     ]
    },
    {
     "data": {
      "text/html": [
       "<pre style=\"white-space:pre;overflow-x:auto;line-height:normal;font-family:Menlo,'DejaVu Sans Mono',consolas,'Courier New',monospace\"><span style=\"color: #008080; text-decoration-color: #008080; font-weight: bold\">🚀 Crew: crew</span>\n",
       "└── <span style=\"color: #808000; text-decoration-color: #808000; font-weight: bold\">📋 Task: 830fe17a-ed1f-4a6b-a377-9ccc7d02b70e</span>\n",
       "    <span style=\"color: #c0c0c0; text-decoration-color: #c0c0c0\">   Status: </span><span style=\"color: #bfbf7f; text-decoration-color: #bfbf7f\">Executing Task...</span>\n",
       "    └── <span style=\"color: #008000; text-decoration-color: #008000; font-weight: bold\">🤖 Agent: </span><span style=\"color: #008000; text-decoration-color: #008000\">Crew Manager</span>\n",
       "        <span style=\"color: #c0c0c0; text-decoration-color: #c0c0c0\">    Status: </span><span style=\"color: #008000; text-decoration-color: #008000; font-weight: bold\">In Progress</span>\n",
       "        ├── <span style=\"color: #800000; text-decoration-color: #800000; font-weight: bold\">🔧 Failed </span><span style=\"color: #800000; text-decoration-color: #800000\">Search the internet with Serper (1)</span>\n",
       "        └── <span style=\"color: #000080; text-decoration-color: #000080; font-weight: bold\">🧠 </span><span style=\"color: #000080; text-decoration-color: #000080\">Thinking...</span>\n",
       "</pre>\n"
      ],
      "text/plain": [
       "\u001b[1;36m🚀 Crew: \u001b[0m\u001b[1;36mcrew\u001b[0m\n",
       "└── \u001b[1;33m📋 Task: 830fe17a-ed1f-4a6b-a377-9ccc7d02b70e\u001b[0m\n",
       "    \u001b[37m   Status: \u001b[0m\u001b[2;33mExecuting Task...\u001b[0m\n",
       "    └── \u001b[1;32m🤖 Agent: \u001b[0m\u001b[32mCrew Manager\u001b[0m\n",
       "        \u001b[37m    Status: \u001b[0m\u001b[1;32mIn Progress\u001b[0m\n",
       "        ├── \u001b[1;31m🔧 Failed \u001b[0m\u001b[31mSearch the internet with Serper (1)\u001b[0m\n",
       "        └── \u001b[1;34m🧠 \u001b[0m\u001b[34mThinking...\u001b[0m\n"
      ]
     },
     "metadata": {},
     "output_type": "display_data"
    },
    {
     "data": {
      "text/html": [
       "<pre style=\"white-space:pre;overflow-x:auto;line-height:normal;font-family:Menlo,'DejaVu Sans Mono',consolas,'Courier New',monospace\">\n",
       "</pre>\n"
      ],
      "text/plain": [
       "\n"
      ]
     },
     "metadata": {},
     "output_type": "display_data"
    },
    {
     "data": {
      "text/html": [
       "<pre style=\"white-space:pre;overflow-x:auto;line-height:normal;font-family:Menlo,'DejaVu Sans Mono',consolas,'Courier New',monospace\"><span style=\"color: #008080; text-decoration-color: #008080; font-weight: bold\">🚀 Crew: crew</span>\n",
       "└── <span style=\"color: #808000; text-decoration-color: #808000; font-weight: bold\">📋 Task: 830fe17a-ed1f-4a6b-a377-9ccc7d02b70e</span>\n",
       "    <span style=\"color: #c0c0c0; text-decoration-color: #c0c0c0\">   Status: </span><span style=\"color: #bfbf7f; text-decoration-color: #bfbf7f\">Executing Task...</span>\n",
       "    └── <span style=\"color: #008000; text-decoration-color: #008000; font-weight: bold\">🤖 Agent: </span><span style=\"color: #008000; text-decoration-color: #008000\">Crew Manager</span>\n",
       "        <span style=\"color: #c0c0c0; text-decoration-color: #c0c0c0\">    Status: </span><span style=\"color: #008000; text-decoration-color: #008000; font-weight: bold\">In Progress</span>\n",
       "        └── <span style=\"color: #800000; text-decoration-color: #800000; font-weight: bold\">🔧 Failed </span><span style=\"color: #800000; text-decoration-color: #800000\">Search the internet with Serper (1)</span>\n",
       "</pre>\n"
      ],
      "text/plain": [
       "\u001b[1;36m🚀 Crew: \u001b[0m\u001b[1;36mcrew\u001b[0m\n",
       "└── \u001b[1;33m📋 Task: 830fe17a-ed1f-4a6b-a377-9ccc7d02b70e\u001b[0m\n",
       "    \u001b[37m   Status: \u001b[0m\u001b[2;33mExecuting Task...\u001b[0m\n",
       "    └── \u001b[1;32m🤖 Agent: \u001b[0m\u001b[32mCrew Manager\u001b[0m\n",
       "        \u001b[37m    Status: \u001b[0m\u001b[1;32mIn Progress\u001b[0m\n",
       "        └── \u001b[1;31m🔧 Failed \u001b[0m\u001b[31mSearch the internet with Serper (1)\u001b[0m\n"
      ]
     },
     "metadata": {},
     "output_type": "display_data"
    },
    {
     "data": {
      "text/html": [
       "<pre style=\"white-space:pre;overflow-x:auto;line-height:normal;font-family:Menlo,'DejaVu Sans Mono',consolas,'Courier New',monospace\">\n",
       "</pre>\n"
      ],
      "text/plain": [
       "\n"
      ]
     },
     "metadata": {},
     "output_type": "display_data"
    },
    {
     "data": {
      "text/html": [
       "<pre style=\"white-space:pre;overflow-x:auto;line-height:normal;font-family:Menlo,'DejaVu Sans Mono',consolas,'Courier New',monospace\"><span style=\"color: #008080; text-decoration-color: #008080; font-weight: bold\">🚀 Crew: crew</span>\n",
       "└── <span style=\"color: #808000; text-decoration-color: #808000; font-weight: bold\">📋 Task: 830fe17a-ed1f-4a6b-a377-9ccc7d02b70e</span>\n",
       "    <span style=\"color: #c0c0c0; text-decoration-color: #c0c0c0\">   Status: </span><span style=\"color: #bfbf7f; text-decoration-color: #bfbf7f\">Executing Task...</span>\n",
       "    └── <span style=\"color: #008000; text-decoration-color: #008000; font-weight: bold\">🤖 Agent: </span><span style=\"color: #008000; text-decoration-color: #008000\">Crew Manager</span>\n",
       "        <span style=\"color: #c0c0c0; text-decoration-color: #c0c0c0\">    Status: </span><span style=\"color: #008000; text-decoration-color: #008000; font-weight: bold\">In Progress</span>\n",
       "        └── <span style=\"color: #808000; text-decoration-color: #808000; font-weight: bold\">🔧 </span><span style=\"color: #808000; text-decoration-color: #808000\">Using Search the internet with Serper (2)</span>\n",
       "</pre>\n"
      ],
      "text/plain": [
       "\u001b[1;36m🚀 Crew: \u001b[0m\u001b[1;36mcrew\u001b[0m\n",
       "└── \u001b[1;33m📋 Task: 830fe17a-ed1f-4a6b-a377-9ccc7d02b70e\u001b[0m\n",
       "    \u001b[37m   Status: \u001b[0m\u001b[2;33mExecuting Task...\u001b[0m\n",
       "    └── \u001b[1;32m🤖 Agent: \u001b[0m\u001b[32mCrew Manager\u001b[0m\n",
       "        \u001b[37m    Status: \u001b[0m\u001b[1;32mIn Progress\u001b[0m\n",
       "        └── \u001b[1;33m🔧 \u001b[0m\u001b[33mUsing Search the internet with Serper (2)\u001b[0m\n"
      ]
     },
     "metadata": {},
     "output_type": "display_data"
    },
    {
     "data": {
      "text/html": [
       "<pre style=\"white-space:pre;overflow-x:auto;line-height:normal;font-family:Menlo,'DejaVu Sans Mono',consolas,'Courier New',monospace\">\n",
       "</pre>\n"
      ],
      "text/plain": [
       "\n"
      ]
     },
     "metadata": {},
     "output_type": "display_data"
    },
    {
     "name": "stderr",
     "output_type": "stream",
     "text": [
      "2025-04-12 01:15:20,782 - 11204 - serper_dev_tool.py-serper_dev_tool:170 - ERROR: Error making request to Serper API: 403 Client Error: Forbidden for url: https://google.serper.dev/search\n",
      "Response content: b'{\"message\":\"Unauthorized.\",\"statusCode\":403}'\n",
      "2025-04-12 01:15:21,270 - 11204 - serper_dev_tool.py-serper_dev_tool:170 - ERROR: Error making request to Serper API: 403 Client Error: Forbidden for url: https://google.serper.dev/search\n",
      "Response content: b'{\"message\":\"Unauthorized.\",\"statusCode\":403}'\n"
     ]
    },
    {
     "data": {
      "text/html": [
       "<pre style=\"white-space:pre;overflow-x:auto;line-height:normal;font-family:Menlo,'DejaVu Sans Mono',consolas,'Courier New',monospace\"><span style=\"color: #008080; text-decoration-color: #008080; font-weight: bold\">🚀 Crew: crew</span>\n",
       "└── <span style=\"color: #808000; text-decoration-color: #808000; font-weight: bold\">📋 Task: 830fe17a-ed1f-4a6b-a377-9ccc7d02b70e</span>\n",
       "    <span style=\"color: #c0c0c0; text-decoration-color: #c0c0c0\">   Status: </span><span style=\"color: #bfbf7f; text-decoration-color: #bfbf7f\">Executing Task...</span>\n",
       "    └── <span style=\"color: #008000; text-decoration-color: #008000; font-weight: bold\">🤖 Agent: </span><span style=\"color: #008000; text-decoration-color: #008000\">Crew Manager</span>\n",
       "        <span style=\"color: #c0c0c0; text-decoration-color: #c0c0c0\">    Status: </span><span style=\"color: #008000; text-decoration-color: #008000; font-weight: bold\">In Progress</span>\n",
       "        └── <span style=\"color: #800000; text-decoration-color: #800000; font-weight: bold\">🔧 Failed </span><span style=\"color: #800000; text-decoration-color: #800000\">Search the internet with Serper (2)</span>\n",
       "</pre>\n"
      ],
      "text/plain": [
       "\u001b[1;36m🚀 Crew: \u001b[0m\u001b[1;36mcrew\u001b[0m\n",
       "└── \u001b[1;33m📋 Task: 830fe17a-ed1f-4a6b-a377-9ccc7d02b70e\u001b[0m\n",
       "    \u001b[37m   Status: \u001b[0m\u001b[2;33mExecuting Task...\u001b[0m\n",
       "    └── \u001b[1;32m🤖 Agent: \u001b[0m\u001b[32mCrew Manager\u001b[0m\n",
       "        \u001b[37m    Status: \u001b[0m\u001b[1;32mIn Progress\u001b[0m\n",
       "        └── \u001b[1;31m🔧 Failed \u001b[0m\u001b[31mSearch the internet with Serper (2)\u001b[0m\n"
      ]
     },
     "metadata": {},
     "output_type": "display_data"
    },
    {
     "data": {
      "text/html": [
       "<pre style=\"white-space:pre;overflow-x:auto;line-height:normal;font-family:Menlo,'DejaVu Sans Mono',consolas,'Courier New',monospace\">\n",
       "</pre>\n"
      ],
      "text/plain": [
       "\n"
      ]
     },
     "metadata": {},
     "output_type": "display_data"
    },
    {
     "data": {
      "text/html": [
       "<pre style=\"white-space:pre;overflow-x:auto;line-height:normal;font-family:Menlo,'DejaVu Sans Mono',consolas,'Courier New',monospace\"><span style=\"color: #800000; text-decoration-color: #800000\">╭────────────────────────────────────────────────── Tool Error ───────────────────────────────────────────────────╮</span>\n",
       "<span style=\"color: #800000; text-decoration-color: #800000\">│</span>                                                                                                                 <span style=\"color: #800000; text-decoration-color: #800000\">│</span>\n",
       "<span style=\"color: #800000; text-decoration-color: #800000\">│</span>  <span style=\"color: #800000; text-decoration-color: #800000; font-weight: bold\">Tool Usage Failed</span>                                                                                              <span style=\"color: #800000; text-decoration-color: #800000\">│</span>\n",
       "<span style=\"color: #800000; text-decoration-color: #800000\">│</span>  <span style=\"color: #c0c0c0; text-decoration-color: #c0c0c0\">Name: </span><span style=\"color: #800000; text-decoration-color: #800000\">Search the internet with Serper</span>                                                                          <span style=\"color: #800000; text-decoration-color: #800000\">│</span>\n",
       "<span style=\"color: #800000; text-decoration-color: #800000\">│</span>  <span style=\"color: #c0c0c0; text-decoration-color: #c0c0c0\">Error: </span><span style=\"color: #800000; text-decoration-color: #800000\">403 Client Error: Forbidden for url: https://google.serper.dev/search</span>                                   <span style=\"color: #800000; text-decoration-color: #800000\">│</span>\n",
       "<span style=\"color: #800000; text-decoration-color: #800000\">│</span>                                                                                                                 <span style=\"color: #800000; text-decoration-color: #800000\">│</span>\n",
       "<span style=\"color: #800000; text-decoration-color: #800000\">│</span>                                                                                                                 <span style=\"color: #800000; text-decoration-color: #800000\">│</span>\n",
       "<span style=\"color: #800000; text-decoration-color: #800000\">╰─────────────────────────────────────────────────────────────────────────────────────────────────────────────────╯</span>\n",
       "</pre>\n"
      ],
      "text/plain": [
       "\u001b[31m╭─\u001b[0m\u001b[31m─────────────────────────────────────────────────\u001b[0m\u001b[31m Tool Error \u001b[0m\u001b[31m──────────────────────────────────────────────────\u001b[0m\u001b[31m─╮\u001b[0m\n",
       "\u001b[31m│\u001b[0m                                                                                                                 \u001b[31m│\u001b[0m\n",
       "\u001b[31m│\u001b[0m  \u001b[1;31mTool Usage Failed\u001b[0m                                                                                              \u001b[31m│\u001b[0m\n",
       "\u001b[31m│\u001b[0m  \u001b[37mName: \u001b[0m\u001b[31mSearch the internet with Serper\u001b[0m                                                                          \u001b[31m│\u001b[0m\n",
       "\u001b[31m│\u001b[0m  \u001b[37mError: \u001b[0m\u001b[31m403 Client Error: Forbidden for url: https://google.serper.dev/search\u001b[0m                                   \u001b[31m│\u001b[0m\n",
       "\u001b[31m│\u001b[0m                                                                                                                 \u001b[31m│\u001b[0m\n",
       "\u001b[31m│\u001b[0m                                                                                                                 \u001b[31m│\u001b[0m\n",
       "\u001b[31m╰─────────────────────────────────────────────────────────────────────────────────────────────────────────────────╯\u001b[0m\n"
      ]
     },
     "metadata": {},
     "output_type": "display_data"
    },
    {
     "data": {
      "text/html": [
       "<pre style=\"white-space:pre;overflow-x:auto;line-height:normal;font-family:Menlo,'DejaVu Sans Mono',consolas,'Courier New',monospace\">\n",
       "</pre>\n"
      ],
      "text/plain": [
       "\n"
      ]
     },
     "metadata": {},
     "output_type": "display_data"
    },
    {
     "name": "stderr",
     "output_type": "stream",
     "text": [
      "2025-04-12 01:15:21,749 - 11204 - serper_dev_tool.py-serper_dev_tool:170 - ERROR: Error making request to Serper API: 403 Client Error: Forbidden for url: https://google.serper.dev/search\n",
      "Response content: b'{\"message\":\"Unauthorized.\",\"statusCode\":403}'\n",
      "2025-04-12 01:15:22,199 - 11204 - serper_dev_tool.py-serper_dev_tool:170 - ERROR: Error making request to Serper API: 403 Client Error: Forbidden for url: https://google.serper.dev/search\n",
      "Response content: b'{\"message\":\"Unauthorized.\",\"statusCode\":403}'\n"
     ]
    },
    {
     "data": {
      "text/html": [
       "<pre style=\"white-space:pre;overflow-x:auto;line-height:normal;font-family:Menlo,'DejaVu Sans Mono',consolas,'Courier New',monospace\"><span style=\"color: #008080; text-decoration-color: #008080; font-weight: bold\">🚀 Crew: crew</span>\n",
       "└── <span style=\"color: #808000; text-decoration-color: #808000; font-weight: bold\">📋 Task: 830fe17a-ed1f-4a6b-a377-9ccc7d02b70e</span>\n",
       "    <span style=\"color: #c0c0c0; text-decoration-color: #c0c0c0\">   Status: </span><span style=\"color: #bfbf7f; text-decoration-color: #bfbf7f\">Executing Task...</span>\n",
       "    └── <span style=\"color: #008000; text-decoration-color: #008000; font-weight: bold\">🤖 Agent: </span><span style=\"color: #008000; text-decoration-color: #008000\">Crew Manager</span>\n",
       "        <span style=\"color: #c0c0c0; text-decoration-color: #c0c0c0\">    Status: </span><span style=\"color: #008000; text-decoration-color: #008000; font-weight: bold\">In Progress</span>\n",
       "        └── <span style=\"color: #800000; text-decoration-color: #800000; font-weight: bold\">🔧 Failed </span><span style=\"color: #800000; text-decoration-color: #800000\">Search the internet with Serper (2)</span>\n",
       "</pre>\n"
      ],
      "text/plain": [
       "\u001b[1;36m🚀 Crew: \u001b[0m\u001b[1;36mcrew\u001b[0m\n",
       "└── \u001b[1;33m📋 Task: 830fe17a-ed1f-4a6b-a377-9ccc7d02b70e\u001b[0m\n",
       "    \u001b[37m   Status: \u001b[0m\u001b[2;33mExecuting Task...\u001b[0m\n",
       "    └── \u001b[1;32m🤖 Agent: \u001b[0m\u001b[32mCrew Manager\u001b[0m\n",
       "        \u001b[37m    Status: \u001b[0m\u001b[1;32mIn Progress\u001b[0m\n",
       "        └── \u001b[1;31m🔧 Failed \u001b[0m\u001b[31mSearch the internet with Serper (2)\u001b[0m\n"
      ]
     },
     "metadata": {},
     "output_type": "display_data"
    },
    {
     "data": {
      "text/html": [
       "<pre style=\"white-space:pre;overflow-x:auto;line-height:normal;font-family:Menlo,'DejaVu Sans Mono',consolas,'Courier New',monospace\">\n",
       "</pre>\n"
      ],
      "text/plain": [
       "\n"
      ]
     },
     "metadata": {},
     "output_type": "display_data"
    },
    {
     "data": {
      "text/html": [
       "<pre style=\"white-space:pre;overflow-x:auto;line-height:normal;font-family:Menlo,'DejaVu Sans Mono',consolas,'Courier New',monospace\"><span style=\"color: #800000; text-decoration-color: #800000\">╭────────────────────────────────────────────────── Tool Error ───────────────────────────────────────────────────╮</span>\n",
       "<span style=\"color: #800000; text-decoration-color: #800000\">│</span>                                                                                                                 <span style=\"color: #800000; text-decoration-color: #800000\">│</span>\n",
       "<span style=\"color: #800000; text-decoration-color: #800000\">│</span>  <span style=\"color: #800000; text-decoration-color: #800000; font-weight: bold\">Tool Usage Failed</span>                                                                                              <span style=\"color: #800000; text-decoration-color: #800000\">│</span>\n",
       "<span style=\"color: #800000; text-decoration-color: #800000\">│</span>  <span style=\"color: #c0c0c0; text-decoration-color: #c0c0c0\">Name: </span><span style=\"color: #800000; text-decoration-color: #800000\">Search the internet with Serper</span>                                                                          <span style=\"color: #800000; text-decoration-color: #800000\">│</span>\n",
       "<span style=\"color: #800000; text-decoration-color: #800000\">│</span>  <span style=\"color: #c0c0c0; text-decoration-color: #c0c0c0\">Error: </span><span style=\"color: #800000; text-decoration-color: #800000\">403 Client Error: Forbidden for url: https://google.serper.dev/search</span>                                   <span style=\"color: #800000; text-decoration-color: #800000\">│</span>\n",
       "<span style=\"color: #800000; text-decoration-color: #800000\">│</span>                                                                                                                 <span style=\"color: #800000; text-decoration-color: #800000\">│</span>\n",
       "<span style=\"color: #800000; text-decoration-color: #800000\">│</span>                                                                                                                 <span style=\"color: #800000; text-decoration-color: #800000\">│</span>\n",
       "<span style=\"color: #800000; text-decoration-color: #800000\">╰─────────────────────────────────────────────────────────────────────────────────────────────────────────────────╯</span>\n",
       "</pre>\n"
      ],
      "text/plain": [
       "\u001b[31m╭─\u001b[0m\u001b[31m─────────────────────────────────────────────────\u001b[0m\u001b[31m Tool Error \u001b[0m\u001b[31m──────────────────────────────────────────────────\u001b[0m\u001b[31m─╮\u001b[0m\n",
       "\u001b[31m│\u001b[0m                                                                                                                 \u001b[31m│\u001b[0m\n",
       "\u001b[31m│\u001b[0m  \u001b[1;31mTool Usage Failed\u001b[0m                                                                                              \u001b[31m│\u001b[0m\n",
       "\u001b[31m│\u001b[0m  \u001b[37mName: \u001b[0m\u001b[31mSearch the internet with Serper\u001b[0m                                                                          \u001b[31m│\u001b[0m\n",
       "\u001b[31m│\u001b[0m  \u001b[37mError: \u001b[0m\u001b[31m403 Client Error: Forbidden for url: https://google.serper.dev/search\u001b[0m                                   \u001b[31m│\u001b[0m\n",
       "\u001b[31m│\u001b[0m                                                                                                                 \u001b[31m│\u001b[0m\n",
       "\u001b[31m│\u001b[0m                                                                                                                 \u001b[31m│\u001b[0m\n",
       "\u001b[31m╰─────────────────────────────────────────────────────────────────────────────────────────────────────────────────╯\u001b[0m\n"
      ]
     },
     "metadata": {},
     "output_type": "display_data"
    },
    {
     "data": {
      "text/html": [
       "<pre style=\"white-space:pre;overflow-x:auto;line-height:normal;font-family:Menlo,'DejaVu Sans Mono',consolas,'Courier New',monospace\">\n",
       "</pre>\n"
      ],
      "text/plain": [
       "\n"
      ]
     },
     "metadata": {},
     "output_type": "display_data"
    },
    {
     "name": "stderr",
     "output_type": "stream",
     "text": [
      "2025-04-12 01:15:22,672 - 11204 - serper_dev_tool.py-serper_dev_tool:170 - ERROR: Error making request to Serper API: 403 Client Error: Forbidden for url: https://google.serper.dev/search\n",
      "Response content: b'{\"message\":\"Unauthorized.\",\"statusCode\":403}'\n",
      "2025-04-12 01:15:23,153 - 11204 - serper_dev_tool.py-serper_dev_tool:170 - ERROR: Error making request to Serper API: 403 Client Error: Forbidden for url: https://google.serper.dev/search\n",
      "Response content: b'{\"message\":\"Unauthorized.\",\"statusCode\":403}'\n"
     ]
    },
    {
     "data": {
      "text/html": [
       "<pre style=\"white-space:pre;overflow-x:auto;line-height:normal;font-family:Menlo,'DejaVu Sans Mono',consolas,'Courier New',monospace\"><span style=\"color: #008080; text-decoration-color: #008080; font-weight: bold\">🚀 Crew: crew</span>\n",
       "└── <span style=\"color: #808000; text-decoration-color: #808000; font-weight: bold\">📋 Task: 830fe17a-ed1f-4a6b-a377-9ccc7d02b70e</span>\n",
       "    <span style=\"color: #c0c0c0; text-decoration-color: #c0c0c0\">   Status: </span><span style=\"color: #bfbf7f; text-decoration-color: #bfbf7f\">Executing Task...</span>\n",
       "    └── <span style=\"color: #008000; text-decoration-color: #008000; font-weight: bold\">🤖 Agent: </span><span style=\"color: #008000; text-decoration-color: #008000\">Crew Manager</span>\n",
       "        <span style=\"color: #c0c0c0; text-decoration-color: #c0c0c0\">    Status: </span><span style=\"color: #008000; text-decoration-color: #008000; font-weight: bold\">In Progress</span>\n",
       "        └── <span style=\"color: #800000; text-decoration-color: #800000; font-weight: bold\">🔧 Failed </span><span style=\"color: #800000; text-decoration-color: #800000\">Search the internet with Serper (2)</span>\n",
       "</pre>\n"
      ],
      "text/plain": [
       "\u001b[1;36m🚀 Crew: \u001b[0m\u001b[1;36mcrew\u001b[0m\n",
       "└── \u001b[1;33m📋 Task: 830fe17a-ed1f-4a6b-a377-9ccc7d02b70e\u001b[0m\n",
       "    \u001b[37m   Status: \u001b[0m\u001b[2;33mExecuting Task...\u001b[0m\n",
       "    └── \u001b[1;32m🤖 Agent: \u001b[0m\u001b[32mCrew Manager\u001b[0m\n",
       "        \u001b[37m    Status: \u001b[0m\u001b[1;32mIn Progress\u001b[0m\n",
       "        └── \u001b[1;31m🔧 Failed \u001b[0m\u001b[31mSearch the internet with Serper (2)\u001b[0m\n"
      ]
     },
     "metadata": {},
     "output_type": "display_data"
    },
    {
     "data": {
      "text/html": [
       "<pre style=\"white-space:pre;overflow-x:auto;line-height:normal;font-family:Menlo,'DejaVu Sans Mono',consolas,'Courier New',monospace\">\n",
       "</pre>\n"
      ],
      "text/plain": [
       "\n"
      ]
     },
     "metadata": {},
     "output_type": "display_data"
    },
    {
     "data": {
      "text/html": [
       "<pre style=\"white-space:pre;overflow-x:auto;line-height:normal;font-family:Menlo,'DejaVu Sans Mono',consolas,'Courier New',monospace\"><span style=\"color: #800000; text-decoration-color: #800000\">╭────────────────────────────────────────────────── Tool Error ───────────────────────────────────────────────────╮</span>\n",
       "<span style=\"color: #800000; text-decoration-color: #800000\">│</span>                                                                                                                 <span style=\"color: #800000; text-decoration-color: #800000\">│</span>\n",
       "<span style=\"color: #800000; text-decoration-color: #800000\">│</span>  <span style=\"color: #800000; text-decoration-color: #800000; font-weight: bold\">Tool Usage Failed</span>                                                                                              <span style=\"color: #800000; text-decoration-color: #800000\">│</span>\n",
       "<span style=\"color: #800000; text-decoration-color: #800000\">│</span>  <span style=\"color: #c0c0c0; text-decoration-color: #c0c0c0\">Name: </span><span style=\"color: #800000; text-decoration-color: #800000\">Search the internet with Serper</span>                                                                          <span style=\"color: #800000; text-decoration-color: #800000\">│</span>\n",
       "<span style=\"color: #800000; text-decoration-color: #800000\">│</span>  <span style=\"color: #c0c0c0; text-decoration-color: #c0c0c0\">Error: </span><span style=\"color: #800000; text-decoration-color: #800000\">403 Client Error: Forbidden for url: https://google.serper.dev/search</span>                                   <span style=\"color: #800000; text-decoration-color: #800000\">│</span>\n",
       "<span style=\"color: #800000; text-decoration-color: #800000\">│</span>                                                                                                                 <span style=\"color: #800000; text-decoration-color: #800000\">│</span>\n",
       "<span style=\"color: #800000; text-decoration-color: #800000\">│</span>                                                                                                                 <span style=\"color: #800000; text-decoration-color: #800000\">│</span>\n",
       "<span style=\"color: #800000; text-decoration-color: #800000\">╰─────────────────────────────────────────────────────────────────────────────────────────────────────────────────╯</span>\n",
       "</pre>\n"
      ],
      "text/plain": [
       "\u001b[31m╭─\u001b[0m\u001b[31m─────────────────────────────────────────────────\u001b[0m\u001b[31m Tool Error \u001b[0m\u001b[31m──────────────────────────────────────────────────\u001b[0m\u001b[31m─╮\u001b[0m\n",
       "\u001b[31m│\u001b[0m                                                                                                                 \u001b[31m│\u001b[0m\n",
       "\u001b[31m│\u001b[0m  \u001b[1;31mTool Usage Failed\u001b[0m                                                                                              \u001b[31m│\u001b[0m\n",
       "\u001b[31m│\u001b[0m  \u001b[37mName: \u001b[0m\u001b[31mSearch the internet with Serper\u001b[0m                                                                          \u001b[31m│\u001b[0m\n",
       "\u001b[31m│\u001b[0m  \u001b[37mError: \u001b[0m\u001b[31m403 Client Error: Forbidden for url: https://google.serper.dev/search\u001b[0m                                   \u001b[31m│\u001b[0m\n",
       "\u001b[31m│\u001b[0m                                                                                                                 \u001b[31m│\u001b[0m\n",
       "\u001b[31m│\u001b[0m                                                                                                                 \u001b[31m│\u001b[0m\n",
       "\u001b[31m╰─────────────────────────────────────────────────────────────────────────────────────────────────────────────────╯\u001b[0m\n"
      ]
     },
     "metadata": {},
     "output_type": "display_data"
    },
    {
     "data": {
      "text/html": [
       "<pre style=\"white-space:pre;overflow-x:auto;line-height:normal;font-family:Menlo,'DejaVu Sans Mono',consolas,'Courier New',monospace\">\n",
       "</pre>\n"
      ],
      "text/plain": [
       "\n"
      ]
     },
     "metadata": {},
     "output_type": "display_data"
    },
    {
     "name": "stdout",
     "output_type": "stream",
     "text": [
      "\u001b[91m \n",
      "\n",
      "I encountered an error while trying to use the tool. This was the error: 403 Client Error: Forbidden for url: https://google.serper.dev/search.\n",
      " Tool Search the internet with Serper accepts these inputs: Tool Name: Search the internet with Serper\n",
      "Tool Arguments: {'search_query': {'description': 'Mandatory search query you want to use to search the internet', 'type': 'str'}}\n",
      "Tool Description: A tool that can be used to search the internet with a search_query. Supports different search types: 'search' (default), 'news'\n",
      "\u001b[00m\n",
      "\n",
      "\n",
      "\u001b[1m\u001b[95m# Agent:\u001b[00m \u001b[1m\u001b[92mCrew Manager\u001b[00m\n",
      "\u001b[95m## Thought:\u001b[00m \u001b[92mThought: I need to find market data for AAPL to analyze and identify trends and predict market movements.\u001b[00m\n",
      "\u001b[95m## Using tool:\u001b[00m \u001b[92mSearch the internet with Serper\u001b[00m\n",
      "\u001b[95m## Tool Input:\u001b[00m \u001b[92m\n",
      "\"{\\\"search_query\\\": \\\"AAPL stock market data analysis\\\"}\"\u001b[00m\n",
      "\u001b[95m## Tool Output:\u001b[00m \u001b[92m\n",
      "\n",
      "I encountered an error while trying to use the tool. This was the error: 403 Client Error: Forbidden for url: https://google.serper.dev/search.\n",
      " Tool Search the internet with Serper accepts these inputs: Tool Name: Search the internet with Serper\n",
      "Tool Arguments: {'search_query': {'description': 'Mandatory search query you want to use to search the internet', 'type': 'str'}}\n",
      "Tool Description: A tool that can be used to search the internet with a search_query. Supports different search types: 'search' (default), 'news'.\n",
      "Moving on then. I MUST either use a tool (use one at time) OR give my best final answer not both at the same time. When responding, I must use the following format:\n",
      "\n",
      "```\n",
      "Thought: you should always think about what to do\n",
      "Action: the action to take, should be one of [Read website content, Search the internet with Serper, Delegate work to coworker, Ask question to coworker]\n",
      "Action Input: the input to the action, dictionary enclosed in curly braces\n",
      "Observation: the result of the action\n",
      "```\n",
      "This Thought/Action/Action Input/Result can repeat N times. Once I know the final answer, I must return the following format:\n",
      "\n",
      "```\n",
      "Thought: I now can give a great answer\n",
      "Final Answer: Your final answer must be the great and the most complete as possible, it must be outcome described\n",
      "\n",
      "```\u001b[00m\n"
     ]
    },
    {
     "data": {
      "text/html": [
       "<pre style=\"white-space:pre;overflow-x:auto;line-height:normal;font-family:Menlo,'DejaVu Sans Mono',consolas,'Courier New',monospace\"><span style=\"color: #008080; text-decoration-color: #008080; font-weight: bold\">🚀 Crew: crew</span>\n",
       "└── <span style=\"color: #808000; text-decoration-color: #808000; font-weight: bold\">📋 Task: 830fe17a-ed1f-4a6b-a377-9ccc7d02b70e</span>\n",
       "    <span style=\"color: #c0c0c0; text-decoration-color: #c0c0c0\">   Status: </span><span style=\"color: #bfbf7f; text-decoration-color: #bfbf7f\">Executing Task...</span>\n",
       "    └── <span style=\"color: #008000; text-decoration-color: #008000; font-weight: bold\">🤖 Agent: </span><span style=\"color: #008000; text-decoration-color: #008000\">Crew Manager</span>\n",
       "        <span style=\"color: #c0c0c0; text-decoration-color: #c0c0c0\">    Status: </span><span style=\"color: #008000; text-decoration-color: #008000; font-weight: bold\">In Progress</span>\n",
       "        ├── <span style=\"color: #800000; text-decoration-color: #800000; font-weight: bold\">🔧 Failed </span><span style=\"color: #800000; text-decoration-color: #800000\">Search the internet with Serper (2)</span>\n",
       "        └── <span style=\"color: #000080; text-decoration-color: #000080; font-weight: bold\">🧠 </span><span style=\"color: #000080; text-decoration-color: #000080\">Thinking...</span>\n",
       "</pre>\n"
      ],
      "text/plain": [
       "\u001b[1;36m🚀 Crew: \u001b[0m\u001b[1;36mcrew\u001b[0m\n",
       "└── \u001b[1;33m📋 Task: 830fe17a-ed1f-4a6b-a377-9ccc7d02b70e\u001b[0m\n",
       "    \u001b[37m   Status: \u001b[0m\u001b[2;33mExecuting Task...\u001b[0m\n",
       "    └── \u001b[1;32m🤖 Agent: \u001b[0m\u001b[32mCrew Manager\u001b[0m\n",
       "        \u001b[37m    Status: \u001b[0m\u001b[1;32mIn Progress\u001b[0m\n",
       "        ├── \u001b[1;31m🔧 Failed \u001b[0m\u001b[31mSearch the internet with Serper (2)\u001b[0m\n",
       "        └── \u001b[1;34m🧠 \u001b[0m\u001b[34mThinking...\u001b[0m\n"
      ]
     },
     "metadata": {},
     "output_type": "display_data"
    },
    {
     "data": {
      "text/html": [
       "<pre style=\"white-space:pre;overflow-x:auto;line-height:normal;font-family:Menlo,'DejaVu Sans Mono',consolas,'Courier New',monospace\">\n",
       "</pre>\n"
      ],
      "text/plain": [
       "\n"
      ]
     },
     "metadata": {},
     "output_type": "display_data"
    },
    {
     "data": {
      "text/html": [
       "<pre style=\"white-space:pre;overflow-x:auto;line-height:normal;font-family:Menlo,'DejaVu Sans Mono',consolas,'Courier New',monospace\"><span style=\"color: #008080; text-decoration-color: #008080; font-weight: bold\">🚀 Crew: crew</span>\n",
       "└── <span style=\"color: #808000; text-decoration-color: #808000; font-weight: bold\">📋 Task: 830fe17a-ed1f-4a6b-a377-9ccc7d02b70e</span>\n",
       "    <span style=\"color: #c0c0c0; text-decoration-color: #c0c0c0\">   Status: </span><span style=\"color: #bfbf7f; text-decoration-color: #bfbf7f\">Executing Task...</span>\n",
       "    └── <span style=\"color: #008000; text-decoration-color: #008000; font-weight: bold\">🤖 Agent: </span><span style=\"color: #008000; text-decoration-color: #008000\">Crew Manager</span>\n",
       "        <span style=\"color: #c0c0c0; text-decoration-color: #c0c0c0\">    Status: </span><span style=\"color: #008000; text-decoration-color: #008000; font-weight: bold\">In Progress</span>\n",
       "        └── <span style=\"color: #800000; text-decoration-color: #800000; font-weight: bold\">🔧 Failed </span><span style=\"color: #800000; text-decoration-color: #800000\">Search the internet with Serper (2)</span>\n",
       "</pre>\n"
      ],
      "text/plain": [
       "\u001b[1;36m🚀 Crew: \u001b[0m\u001b[1;36mcrew\u001b[0m\n",
       "└── \u001b[1;33m📋 Task: 830fe17a-ed1f-4a6b-a377-9ccc7d02b70e\u001b[0m\n",
       "    \u001b[37m   Status: \u001b[0m\u001b[2;33mExecuting Task...\u001b[0m\n",
       "    └── \u001b[1;32m🤖 Agent: \u001b[0m\u001b[32mCrew Manager\u001b[0m\n",
       "        \u001b[37m    Status: \u001b[0m\u001b[1;32mIn Progress\u001b[0m\n",
       "        └── \u001b[1;31m🔧 Failed \u001b[0m\u001b[31mSearch the internet with Serper (2)\u001b[0m\n"
      ]
     },
     "metadata": {},
     "output_type": "display_data"
    },
    {
     "data": {
      "text/html": [
       "<pre style=\"white-space:pre;overflow-x:auto;line-height:normal;font-family:Menlo,'DejaVu Sans Mono',consolas,'Courier New',monospace\">\n",
       "</pre>\n"
      ],
      "text/plain": [
       "\n"
      ]
     },
     "metadata": {},
     "output_type": "display_data"
    },
    {
     "data": {
      "text/html": [
       "<pre style=\"white-space:pre;overflow-x:auto;line-height:normal;font-family:Menlo,'DejaVu Sans Mono',consolas,'Courier New',monospace\"><span style=\"color: #008080; text-decoration-color: #008080; font-weight: bold\">🚀 Crew: crew</span>\n",
       "└── <span style=\"color: #808000; text-decoration-color: #808000; font-weight: bold\">📋 Task: 830fe17a-ed1f-4a6b-a377-9ccc7d02b70e</span>\n",
       "    <span style=\"color: #c0c0c0; text-decoration-color: #c0c0c0\">   Status: </span><span style=\"color: #bfbf7f; text-decoration-color: #bfbf7f\">Executing Task...</span>\n",
       "    └── <span style=\"color: #008000; text-decoration-color: #008000; font-weight: bold\">🤖 Agent: </span><span style=\"color: #008000; text-decoration-color: #008000\">Crew Manager</span>\n",
       "        <span style=\"color: #c0c0c0; text-decoration-color: #c0c0c0\">    Status: </span><span style=\"color: #008000; text-decoration-color: #008000; font-weight: bold\">In Progress</span>\n",
       "        ├── <span style=\"color: #800000; text-decoration-color: #800000; font-weight: bold\">🔧 Failed </span><span style=\"color: #800000; text-decoration-color: #800000\">Search the internet with Serper (2)</span>\n",
       "        └── <span style=\"color: #808000; text-decoration-color: #808000; font-weight: bold\">🔧 </span><span style=\"color: #808000; text-decoration-color: #808000\">Using Read website content (1)</span>\n",
       "</pre>\n"
      ],
      "text/plain": [
       "\u001b[1;36m🚀 Crew: \u001b[0m\u001b[1;36mcrew\u001b[0m\n",
       "└── \u001b[1;33m📋 Task: 830fe17a-ed1f-4a6b-a377-9ccc7d02b70e\u001b[0m\n",
       "    \u001b[37m   Status: \u001b[0m\u001b[2;33mExecuting Task...\u001b[0m\n",
       "    └── \u001b[1;32m🤖 Agent: \u001b[0m\u001b[32mCrew Manager\u001b[0m\n",
       "        \u001b[37m    Status: \u001b[0m\u001b[1;32mIn Progress\u001b[0m\n",
       "        ├── \u001b[1;31m🔧 Failed \u001b[0m\u001b[31mSearch the internet with Serper (2)\u001b[0m\n",
       "        └── \u001b[1;33m🔧 \u001b[0m\u001b[33mUsing Read website content (1)\u001b[0m\n"
      ]
     },
     "metadata": {},
     "output_type": "display_data"
    },
    {
     "data": {
      "text/html": [
       "<pre style=\"white-space:pre;overflow-x:auto;line-height:normal;font-family:Menlo,'DejaVu Sans Mono',consolas,'Courier New',monospace\">\n",
       "</pre>\n"
      ],
      "text/plain": [
       "\n"
      ]
     },
     "metadata": {},
     "output_type": "display_data"
    },
    {
     "data": {
      "text/html": [
       "<pre style=\"white-space:pre;overflow-x:auto;line-height:normal;font-family:Menlo,'DejaVu Sans Mono',consolas,'Courier New',monospace\"><span style=\"color: #008080; text-decoration-color: #008080; font-weight: bold\">🚀 Crew: crew</span>\n",
       "└── <span style=\"color: #808000; text-decoration-color: #808000; font-weight: bold\">📋 Task: 830fe17a-ed1f-4a6b-a377-9ccc7d02b70e</span>\n",
       "    <span style=\"color: #c0c0c0; text-decoration-color: #c0c0c0\">   Status: </span><span style=\"color: #bfbf7f; text-decoration-color: #bfbf7f\">Executing Task...</span>\n",
       "    └── <span style=\"color: #008000; text-decoration-color: #008000; font-weight: bold\">🤖 Agent: </span><span style=\"color: #008000; text-decoration-color: #008000\">Crew Manager</span>\n",
       "        <span style=\"color: #c0c0c0; text-decoration-color: #c0c0c0\">    Status: </span><span style=\"color: #008000; text-decoration-color: #008000; font-weight: bold\">In Progress</span>\n",
       "        ├── <span style=\"color: #800000; text-decoration-color: #800000; font-weight: bold\">🔧 Failed </span><span style=\"color: #800000; text-decoration-color: #800000\">Search the internet with Serper (2)</span>\n",
       "        └── <span style=\"color: #008000; text-decoration-color: #008000; font-weight: bold\">🔧 </span><span style=\"color: #008000; text-decoration-color: #008000\">Used Read website content (1)</span>\n",
       "</pre>\n"
      ],
      "text/plain": [
       "\u001b[1;36m🚀 Crew: \u001b[0m\u001b[1;36mcrew\u001b[0m\n",
       "└── \u001b[1;33m📋 Task: 830fe17a-ed1f-4a6b-a377-9ccc7d02b70e\u001b[0m\n",
       "    \u001b[37m   Status: \u001b[0m\u001b[2;33mExecuting Task...\u001b[0m\n",
       "    └── \u001b[1;32m🤖 Agent: \u001b[0m\u001b[32mCrew Manager\u001b[0m\n",
       "        \u001b[37m    Status: \u001b[0m\u001b[1;32mIn Progress\u001b[0m\n",
       "        ├── \u001b[1;31m🔧 Failed \u001b[0m\u001b[31mSearch the internet with Serper (2)\u001b[0m\n",
       "        └── \u001b[1;32m🔧 \u001b[0m\u001b[32mUsed Read website content (1)\u001b[0m\n"
      ]
     },
     "metadata": {},
     "output_type": "display_data"
    },
    {
     "data": {
      "text/html": [
       "<pre style=\"white-space:pre;overflow-x:auto;line-height:normal;font-family:Menlo,'DejaVu Sans Mono',consolas,'Courier New',monospace\">\n",
       "</pre>\n"
      ],
      "text/plain": [
       "\n"
      ]
     },
     "metadata": {},
     "output_type": "display_data"
    },
    {
     "name": "stdout",
     "output_type": "stream",
     "text": [
      "\n",
      "\n",
      "\u001b[1m\u001b[95m# Agent:\u001b[00m \u001b[1m\u001b[92mCrew Manager\u001b[00m\n",
      "\u001b[95m## Thought:\u001b[00m \u001b[92mThought: I need to find market data for AAPL to analyze and identify trends and predict market movements.\u001b[00m\n",
      "\u001b[95m## Using tool:\u001b[00m \u001b[92mRead website content\u001b[00m\n",
      "\u001b[95m## Tool Input:\u001b[00m \u001b[92m\n",
      "\"{\\\"website_url\\\": \\\"https://finance.yahoo.com/quote/AAPL\\\"}\"\u001b[00m\n",
      "\u001b[95m## Tool Output:\u001b[00m \u001b[92m\n",
      "\n",
      "Apple Inc. (AAPL) Stock Price, News, Quote & History - Yahoo Finance\n",
      "Oops, something went wrong News Today's news US Politics World Tech Reviews and deals Audio Computing Gaming Health Home Phones Science TVs Climate change Health Science Originals The 360 Newsletters Life Health COVID-19 Fall allergies Health news Mental health Relax Sexual health Studies The Unwind Parenting Family health So mini ways Style and beauty It Figures Unapologetically Horoscopes Shopping Buying guides Food Travel Autos Gift ideas Buying guides Entertainment Celebrity TV Movies Music How to Watch Interviews Videos Finance My Portfolio News Latest Stock Market Originals Tariff Updates Newsletters Economies Earnings Tech Housing Crypto Markets Stocks: Most Actives Stocks: Gainers Stocks: Losers Trending Tickers Futures World Indices US Treasury Bonds Rates Currencies Crypto Top ETFs Top Mutual Funds Options: Highest Open Interest Options: Highest Implied Volatility Sectors Basic Materials Communication Services Consumer Cyclical Consumer Defensive Energy Financial Services Healthcare Industrials Real Estate Technology Utilities Private Companies Research Screeners Calendar Stock Comparison Advanced Chart Currency Converter Personal Finance Credit Cards Banking Best HYSA Student Loans Personal Loans Insurance Mortgages Mortgage Calculator Taxes H&R Block Tax Insights Videos Latest Editor's Picks Investing Insights Trending Stocks All Shows Morning Brief Opening Bid Wealth ETF Report Trade This Way Options 101 Davos 2025 FA Corner Financial Freestyle Streaming Now Sports Fantasy News Fantasy football Best Ball Pro Pick 'Em College Pick 'Em Fantasy baseball Fantasy hockey Fantasy basketball Download the app Daily fantasy NFL News Scores and schedules Standings Stats Teams Players Drafts Injuries Odds Super Bowl GameChannel Videos MLB News Scores and schedules Standings Stats Teams Players Odds Videos World Baseball Classic NBA News Draft Scores and schedules Standings Stats Teams Players Injuries Videos Odds Playoffs NHL News Scores and schedules Standings Stats Teams Players Odds Playoffs Soccer News Scores and schedules Premier League MLS NWSL Liga MX CONCACAF League Champions League La Liga Serie A Bundesliga Ligue 1 World Cup College football News Scores and schedules Standings Rankings Stats Teams March Madness Show all MMA WNBA Sportsbook NCAAF Tennis Golf NASCAR NCAAB NCAAW Boxing USFL Cycling Motorsports Olympics Horse racing GameChannel Rivals Newsletters Podcasts Videos RSS Jobs Help World Cup More news New on Yahoo Creators Games Tech Local services Terms Privacy Privacy Dashboard Feedback © 2025 All rights reserved. About our ads Advertising Careers Yahoo Finance Yahoo Finance Search query Select edition US English US y LATAM Español Australia English Canada English Canada Français Deutschland Deutsch France Français 香港 繁中 Malaysia English New Zealand English Singapore English 台灣 繁中 UK English News Finance Sports More News Today's news US Politics World Weather Climate change Health Science Originals Newsletters Life Health Parenting Style and beauty Horoscopes Shopping Food Travel Autos Gift ideas Buying guides Entertainment Celebrity TV Movies Music How to watch Interviews Videos Finance My portfolio Watchlists Markets News Videos Screeners Personal finance Crypto Industries Sports Fantasy NFL NBA MLB NHL College football College basketball Soccer March Madness Yahoo Sports AM New on Yahoo Creators Games Tech Local services Selected edition US English Mail Sign in My Portfolio News Latest Stock Market Originals Tariff Updates Newsletters Economies Earnings Tech Housing Crypto Markets Stocks: Most Actives Stocks: Gainers Stocks: Losers Trending Tickers Futures World Indices US Treasury Bonds Rates Currencies Crypto Top ETFs Top Mutual Funds Options: Highest Open Interest Options: Highest Implied Volatility Sectors Basic Materials Communication Services Consumer Cyclical Consumer Defensive Energy Financial Services Healthcare Industrials Real Estate Technology Utilities Private Companies NEW Research Screeners Calendar Stock Comparison Advanced Chart Currency Converter Personal Finance Credit Cards Banking Best HYSA Student Loans Personal Loans Insurance Mortgages Mortgage Calculator Taxes H&R Block Tax Insights Videos Latest Editor's Picks Investing Insights Trending Stocks All Shows Morning Brief Opening Bid Wealth ETF Report Trade This Way Options 101 Davos 2025 FA Corner Financial Freestyle Streaming Now … AAPL Apple Inc. 197.90 -0.13% Summary News Chart Conversations Statistics Historical Data Profile Financials Analysis Options Holders Sustainability Unlock stock picks and a broker-level newsfeed that powers Wall Street. Upgrade Now NasdaqGS - Delayed Quote • USD Apple Inc. (AAPL) Follow Compare Time to buy AAPL? 198.15 +7.73 +(4.06%) At close: 4:00:01 PM EDT 197.90 -0.25 (-0.13%) After hours: 4:15:25 PM EDT Time to buy AAPL? 1D 5D 5.19% 1M -10.27% 6M -12.92% YTD -20.87% 1Y 13.20% 5Y 195.76% All 154,284.96% Key Events Mountain Advanced Chart Loading Chart for AAPL Previous Close 190.42 Open 186.10 Bid 197.24 x 5000 Ask 198.99 x 2000 Day's Range 186.06 - 199.54 52 Week Range 164.08 - 260.10 Volume 86,538,298 Avg. Volume 61,058,588 Market Cap (intraday) 2.977T Beta (5Y Monthly) 1.26 PE Ratio (TTM) 31.45 EPS (TTM) 6.30 Earnings Date May 1, 2025 Forward Dividend & Yield 1.00 (0.53%) Ex-Dividend Date Feb 10, 2025 1y Target Est 238.75 Apple Inc. Overview Consumer Electronics / Technology Apple Inc. designs, manufactures, and markets smartphones, personal computers, tablets, wearables, and accessories worldwide. The company offers iPhone, a line of smartphones; Mac, a line of personal computers; iPad, a line of multi-purpose tablets; and wearables, home, and accessories comprising AirPods, Apple TV, Apple Watch, Beats products, and HomePod. It also provides AppleCare support and cloud services; and operates various platforms, including the App Store that allow customers to discover and download applications and digital content, such as books, music, video, games, and podcasts, as well as advertising services include third-party licensing arrangements and its own advertising platforms. In addition, the company offers various subscription-based services, such as Apple Arcade, a game subscription service; Apple Fitness+, a personalized fitness service; Apple Music, which offers users a curated listening experience with on-demand radio stations; Apple News+, a subscription news and magazine service; Apple TV+, which offers exclusive original content; Apple Card, a co-branded credit card; and Apple Pay, a cashless payment service, as well as licenses its intellectual property. The company serves consumers, and small and mid-sized businesses; and the education, enterprise, and government markets. It distributes third-party applications for its products through the App Store. The company also sells its products through its retail and online stores, and direct sales force; and third-party cellular network carriers, wholesalers, retailers, and resellers. Apple Inc. was founded in 1976 and is headquartered in Cupertino, California. www.apple.com 150,000 Full Time Employees September 28 Fiscal Year Ends Technology Sector Consumer Electronics Industry More about Apple Inc. Recent News: AAPL View More All News Press Releases SEC Filings View More Performance Overview: AAPL Trailing total returns as of 4/11/2025, which may include dividends or other distributions. Benchmark is S&P 500 (^GSPC) . YTD Return AAPL 20.79% S&P 500 (^GSPC) 8.81% 1-Year Return AAPL 13.74% S&P 500 (^GSPC) 3.16% 3-Year Return AAPL 21.48% S&P 500 (^GSPC) 21.55% 5-Year Return AAPL 204.68% S&P 500 (^GSPC) 92.25% Compare To: AAPL Compare Select to analyze similar companies using key performance metrics; select up to 4 stocks. AAPL Apple Inc. 198.15 +4.06% Mkt Cap 2.977T Industry Consumer Electronics 1810.HK XIAOMI-W 44.250 +2.79% Mkt Cap HKD 1.147T Industry Consumer Electronics SONY Sony Group Corporation 22.94 +0.09% Mkt Cap 144.232B Industry Consumer Electronics XIACY Xiaomi Corporation 28.93 +4.93% Mkt Cap 150.457B Industry Consumer Electronics 2498.TW HTC Corporation 36.15 +3.58% Mkt Cap TWD 30.166B Industry Consumer Electronics 005930.KS Samsung Electronics Co., Ltd. 55,200.00 -2.13% Mkt Cap KRW 364.139T Industry Consumer Electronics SONO Sonos, Inc. 8.00 -3.38% Mkt Cap 952.664M Industry Consumer Electronics GPRO GoPro, Inc. 0.4956 +2.99% Mkt Cap 78.021M Industry Consumer Electronics XIACF Xiaomi Corporation 5.78 +6.25% Mkt Cap 146.536B Industry Consumer Electronics 5371.TWO Coretronic Corporation 59.80 +0.17% Mkt Cap TWD 23.381B Industry Consumer Electronics 2439.TW Merry Electronics Co., Ltd. 101.50 0.00% Mkt Cap TWD 25.729B Industry Consumer Electronics Statistics: AAPL View More Valuation Measures As of 4/10/2025 Market Cap 2.86T Enterprise Value 2.90T Trailing P/E 30.23 Forward P/E 25.97 PEG Ratio (5yr expected) 1.77 Price/Sales (ttm) 7.36 Price/Book (mrq) 42.85 Enterprise Value/Revenue 7.34 Enterprise Value/EBITDA 21.14 Financial Highlights Profitability and Income Statement Profit Margin 24.30% Return on Assets (ttm) 22.52% Return on Equity (ttm) 136.52% Revenue (ttm) 395.76B Net Income Avi to Common (ttm) 96.15B Diluted EPS (ttm) 6.30 Balance Sheet and Cash Flow Total Cash (mrq) 53.77B Total Debt/Equity (mrq) 145.00% Levered Free Cash Flow (ttm) 93.83B View More Research Analysis: AAPL View More View More People Also Watch AMZN Amazon.com, Inc. 184.87 +2.01%   TSLA Tesla, Inc. 252.31 -0.04%   GOOG Alphabet Inc. 159.40 +2.59%   META Meta Platforms, Inc. 543.57 -0.50%   MSFT Microsoft Corporation 388.45 +1.86%   NVDA NVIDIA Corporation 110.93 +3.12%   NFLX Netflix, Inc. 918.29 -0.31%   AMD Advanced Micro Devices, Inc. 93.40 +5.30%   DIS The Walt Disney Company 84.86 -0.43%   INTC Intel Corporation 19.74 -0.70%   JPM JPMorgan Chase & Co. 236.20 +4.00%   BA The Boeing Company 156.84 +0.85%   BABA Alibaba Group Holding Limited 107.73 +3.41%   F Ford Motor Company 9.33 +2.08%   BAC Bank of America Corporation 35.95 +0.28%   KO The Coca-Cola Company 71.43 +0.95%   Copyright © 2025 Yahoo. All rights reserved. POPULAR QUOTES Dow Jones S&P 500 DAX Index Nvidia Tesla DJT Tariffs EXPLORE MORE Mortgages Credit Cards Sectors Crypto Heatmap Financial News ABOUT Data Disclaimer Help Feedback Sitemap Licensing What's New About Our Ads Terms and Privacy Policy Privacy Dashboard More Info U.S. markets closed US Europe Asia Rates Commodities Currencies Cryptocurrencies S&P 500 5,363.36 +95.31 (+1.81%) Dow 30 40,212.71 +619.05 (+1.56%) Nasdaq 16,724.46 +337.14 (+2.06%) Russell 2000 1,860.20 +28.81 (+1.57%) Crude Oil 61.54 +1.47 (+2.45%) Gold 3,251.10 +73.60 (+2.32%) My portfolios My portfolios Sign in to access your portfolio Sign in Top gainers RXRX Recursion Pharmaceuticals, Inc. 5.76 +1.25 (+27.72%) CERT Certara, Inc. 12.91 +2.40 (+22.84%) ZLAB Zai Lab Limited 29.54 +5.22 (+21.46%) HNHPF Hon Hai Precision Industry Co., Ltd. 8.35 +1.15 (+16.24%) SMMT Summit Therapeutics Inc. 23.24 +3.09 (+15.33%) Top losers MLGO MicroAlgo Inc. 14.01 -1.90 (-11.94%) OPCH Option Care Health, Inc. 31.55 -2.14 (-6.35%) SAIA Saia, Inc. 330.37 -21.08 (-6.00%) LITE Lumentum Holdings Inc. 51.27 -3.20 (-5.87%) TXN Texas Instruments Incorporated 147.60 -9.00 (-5.75%) Most active NVDA NVIDIA Corporation 110.93 +3.36 (+3.12%) LCID Lucid Group, Inc. 2.5000 -0.0200 (-0.79%) F Ford Motor Company 9.32 +0.18 (+1.99%) TSLA Tesla, Inc. 252.24 -0.16 (-0.06%) INTC Intel Corporation 19.74 -0.14 (-0.70%) Trending tickers RXRX Recursion Pharmaceuticals, Inc. 5.76 +1.25 (+27.72%) PRTG Portage Biotech Inc. 8.59 +3.55 (+70.44%) JPM JPMorgan Chase & Co. 236.20 +9.09 (+4.00%) CRSP CRISPR Therapeutics AG 39.30 +5.04 (+14.71%) MSTR Strategy Incorporated 299.98 +27.64 (+10.15%) Top economic events Terms and Privacy Policy Privacy Dashboard Ad Terms Feedback More Info\n",
      "\u001b[00m\n"
     ]
    },
    {
     "data": {
      "text/html": [
       "<pre style=\"white-space:pre;overflow-x:auto;line-height:normal;font-family:Menlo,'DejaVu Sans Mono',consolas,'Courier New',monospace\"><span style=\"color: #008080; text-decoration-color: #008080; font-weight: bold\">🚀 Crew: crew</span>\n",
       "└── <span style=\"color: #808000; text-decoration-color: #808000; font-weight: bold\">📋 Task: 830fe17a-ed1f-4a6b-a377-9ccc7d02b70e</span>\n",
       "    <span style=\"color: #c0c0c0; text-decoration-color: #c0c0c0\">   Status: </span><span style=\"color: #bfbf7f; text-decoration-color: #bfbf7f\">Executing Task...</span>\n",
       "    └── <span style=\"color: #008000; text-decoration-color: #008000; font-weight: bold\">🤖 Agent: </span><span style=\"color: #008000; text-decoration-color: #008000\">Crew Manager</span>\n",
       "        <span style=\"color: #c0c0c0; text-decoration-color: #c0c0c0\">    Status: </span><span style=\"color: #008000; text-decoration-color: #008000; font-weight: bold\">In Progress</span>\n",
       "        ├── <span style=\"color: #800000; text-decoration-color: #800000; font-weight: bold\">🔧 Failed </span><span style=\"color: #800000; text-decoration-color: #800000\">Search the internet with Serper (2)</span>\n",
       "        ├── <span style=\"color: #008000; text-decoration-color: #008000; font-weight: bold\">🔧 </span><span style=\"color: #008000; text-decoration-color: #008000\">Used Read website content (1)</span>\n",
       "        └── <span style=\"color: #000080; text-decoration-color: #000080; font-weight: bold\">🧠 </span><span style=\"color: #000080; text-decoration-color: #000080\">Thinking...</span>\n",
       "</pre>\n"
      ],
      "text/plain": [
       "\u001b[1;36m🚀 Crew: \u001b[0m\u001b[1;36mcrew\u001b[0m\n",
       "└── \u001b[1;33m📋 Task: 830fe17a-ed1f-4a6b-a377-9ccc7d02b70e\u001b[0m\n",
       "    \u001b[37m   Status: \u001b[0m\u001b[2;33mExecuting Task...\u001b[0m\n",
       "    └── \u001b[1;32m🤖 Agent: \u001b[0m\u001b[32mCrew Manager\u001b[0m\n",
       "        \u001b[37m    Status: \u001b[0m\u001b[1;32mIn Progress\u001b[0m\n",
       "        ├── \u001b[1;31m🔧 Failed \u001b[0m\u001b[31mSearch the internet with Serper (2)\u001b[0m\n",
       "        ├── \u001b[1;32m🔧 \u001b[0m\u001b[32mUsed Read website content (1)\u001b[0m\n",
       "        └── \u001b[1;34m🧠 \u001b[0m\u001b[34mThinking...\u001b[0m\n"
      ]
     },
     "metadata": {},
     "output_type": "display_data"
    },
    {
     "data": {
      "text/html": [
       "<pre style=\"white-space:pre;overflow-x:auto;line-height:normal;font-family:Menlo,'DejaVu Sans Mono',consolas,'Courier New',monospace\">\n",
       "</pre>\n"
      ],
      "text/plain": [
       "\n"
      ]
     },
     "metadata": {},
     "output_type": "display_data"
    },
    {
     "data": {
      "text/html": [
       "<pre style=\"white-space:pre;overflow-x:auto;line-height:normal;font-family:Menlo,'DejaVu Sans Mono',consolas,'Courier New',monospace\"><span style=\"color: #008080; text-decoration-color: #008080; font-weight: bold\">🚀 Crew: crew</span>\n",
       "└── <span style=\"color: #808000; text-decoration-color: #808000; font-weight: bold\">📋 Task: 830fe17a-ed1f-4a6b-a377-9ccc7d02b70e</span>\n",
       "    <span style=\"color: #c0c0c0; text-decoration-color: #c0c0c0\">   Status: </span><span style=\"color: #bfbf7f; text-decoration-color: #bfbf7f\">Executing Task...</span>\n",
       "    └── <span style=\"color: #008000; text-decoration-color: #008000; font-weight: bold\">🤖 Agent: </span><span style=\"color: #008000; text-decoration-color: #008000\">Crew Manager</span>\n",
       "        <span style=\"color: #c0c0c0; text-decoration-color: #c0c0c0\">    Status: </span><span style=\"color: #008000; text-decoration-color: #008000; font-weight: bold\">In Progress</span>\n",
       "        ├── <span style=\"color: #800000; text-decoration-color: #800000; font-weight: bold\">🔧 Failed </span><span style=\"color: #800000; text-decoration-color: #800000\">Search the internet with Serper (2)</span>\n",
       "        └── <span style=\"color: #008000; text-decoration-color: #008000; font-weight: bold\">🔧 </span><span style=\"color: #008000; text-decoration-color: #008000\">Used Read website content (1)</span>\n",
       "</pre>\n"
      ],
      "text/plain": [
       "\u001b[1;36m🚀 Crew: \u001b[0m\u001b[1;36mcrew\u001b[0m\n",
       "└── \u001b[1;33m📋 Task: 830fe17a-ed1f-4a6b-a377-9ccc7d02b70e\u001b[0m\n",
       "    \u001b[37m   Status: \u001b[0m\u001b[2;33mExecuting Task...\u001b[0m\n",
       "    └── \u001b[1;32m🤖 Agent: \u001b[0m\u001b[32mCrew Manager\u001b[0m\n",
       "        \u001b[37m    Status: \u001b[0m\u001b[1;32mIn Progress\u001b[0m\n",
       "        ├── \u001b[1;31m🔧 Failed \u001b[0m\u001b[31mSearch the internet with Serper (2)\u001b[0m\n",
       "        └── \u001b[1;32m🔧 \u001b[0m\u001b[32mUsed Read website content (1)\u001b[0m\n"
      ]
     },
     "metadata": {},
     "output_type": "display_data"
    },
    {
     "data": {
      "text/html": [
       "<pre style=\"white-space:pre;overflow-x:auto;line-height:normal;font-family:Menlo,'DejaVu Sans Mono',consolas,'Courier New',monospace\">\n",
       "</pre>\n"
      ],
      "text/plain": [
       "\n"
      ]
     },
     "metadata": {},
     "output_type": "display_data"
    },
    {
     "data": {
      "text/html": [
       "<pre style=\"white-space:pre;overflow-x:auto;line-height:normal;font-family:Menlo,'DejaVu Sans Mono',consolas,'Courier New',monospace\"><span style=\"color: #008080; text-decoration-color: #008080; font-weight: bold\">🚀 Crew: crew</span>\n",
       "└── <span style=\"color: #808000; text-decoration-color: #808000; font-weight: bold\">📋 Task: 830fe17a-ed1f-4a6b-a377-9ccc7d02b70e</span>\n",
       "    <span style=\"color: #c0c0c0; text-decoration-color: #c0c0c0\">   Status: </span><span style=\"color: #bfbf7f; text-decoration-color: #bfbf7f\">Executing Task...</span>\n",
       "    └── <span style=\"color: #008000; text-decoration-color: #008000; font-weight: bold\">🤖 Agent: </span><span style=\"color: #008000; text-decoration-color: #008000\">Crew Manager</span>\n",
       "        <span style=\"color: #c0c0c0; text-decoration-color: #c0c0c0\">    Status: </span><span style=\"color: #008000; text-decoration-color: #008000; font-weight: bold\">In Progress</span>\n",
       "        ├── <span style=\"color: #800000; text-decoration-color: #800000; font-weight: bold\">🔧 Failed </span><span style=\"color: #800000; text-decoration-color: #800000\">Search the internet with Serper (2)</span>\n",
       "        ├── <span style=\"color: #008000; text-decoration-color: #008000; font-weight: bold\">🔧 </span><span style=\"color: #008000; text-decoration-color: #008000\">Used Read website content (1)</span>\n",
       "        └── <span style=\"color: #808000; text-decoration-color: #808000; font-weight: bold\">🔧 </span><span style=\"color: #808000; text-decoration-color: #808000\">Using Delegate work to coworker (1)</span>\n",
       "</pre>\n"
      ],
      "text/plain": [
       "\u001b[1;36m🚀 Crew: \u001b[0m\u001b[1;36mcrew\u001b[0m\n",
       "└── \u001b[1;33m📋 Task: 830fe17a-ed1f-4a6b-a377-9ccc7d02b70e\u001b[0m\n",
       "    \u001b[37m   Status: \u001b[0m\u001b[2;33mExecuting Task...\u001b[0m\n",
       "    └── \u001b[1;32m🤖 Agent: \u001b[0m\u001b[32mCrew Manager\u001b[0m\n",
       "        \u001b[37m    Status: \u001b[0m\u001b[1;32mIn Progress\u001b[0m\n",
       "        ├── \u001b[1;31m🔧 Failed \u001b[0m\u001b[31mSearch the internet with Serper (2)\u001b[0m\n",
       "        ├── \u001b[1;32m🔧 \u001b[0m\u001b[32mUsed Read website content (1)\u001b[0m\n",
       "        └── \u001b[1;33m🔧 \u001b[0m\u001b[33mUsing Delegate work to coworker (1)\u001b[0m\n"
      ]
     },
     "metadata": {},
     "output_type": "display_data"
    },
    {
     "data": {
      "text/html": [
       "<pre style=\"white-space:pre;overflow-x:auto;line-height:normal;font-family:Menlo,'DejaVu Sans Mono',consolas,'Courier New',monospace\">\n",
       "</pre>\n"
      ],
      "text/plain": [
       "\n"
      ]
     },
     "metadata": {},
     "output_type": "display_data"
    },
    {
     "data": {
      "text/html": [
       "<pre style=\"white-space:pre;overflow-x:auto;line-height:normal;font-family:Menlo,'DejaVu Sans Mono',consolas,'Courier New',monospace\"><span style=\"color: #008080; text-decoration-color: #008080; font-weight: bold\">🚀 Crew: crew</span>\n",
       "└── <span style=\"color: #808000; text-decoration-color: #808000; font-weight: bold\">📋 Task: 830fe17a-ed1f-4a6b-a377-9ccc7d02b70e</span>\n",
       "    <span style=\"color: #c0c0c0; text-decoration-color: #c0c0c0\">   Status: </span><span style=\"color: #bfbf7f; text-decoration-color: #bfbf7f\">Executing Task...</span>\n",
       "    ├── <span style=\"color: #008000; text-decoration-color: #008000; font-weight: bold\">🤖 Agent: </span><span style=\"color: #008000; text-decoration-color: #008000\">Crew Manager</span>\n",
       "    │   <span style=\"color: #c0c0c0; text-decoration-color: #c0c0c0\">    Status: </span><span style=\"color: #008000; text-decoration-color: #008000; font-weight: bold\">In Progress</span>\n",
       "    │   ├── <span style=\"color: #800000; text-decoration-color: #800000; font-weight: bold\">🔧 Failed </span><span style=\"color: #800000; text-decoration-color: #800000\">Search the internet with Serper (2)</span>\n",
       "    │   ├── <span style=\"color: #008000; text-decoration-color: #008000; font-weight: bold\">🔧 </span><span style=\"color: #008000; text-decoration-color: #008000\">Used Read website content (1)</span>\n",
       "    │   └── <span style=\"color: #808000; text-decoration-color: #808000; font-weight: bold\">🔧 </span><span style=\"color: #808000; text-decoration-color: #808000\">Using Delegate work to coworker (1)</span>\n",
       "    └── <span style=\"color: #008000; text-decoration-color: #008000; font-weight: bold\">🤖 Agent: </span><span style=\"color: #008000; text-decoration-color: #008000\">Data Analyst</span>\n",
       "        <span style=\"color: #c0c0c0; text-decoration-color: #c0c0c0\">    Status: </span><span style=\"color: #008000; text-decoration-color: #008000; font-weight: bold\">In Progress</span>\n",
       "</pre>\n"
      ],
      "text/plain": [
       "\u001b[1;36m🚀 Crew: \u001b[0m\u001b[1;36mcrew\u001b[0m\n",
       "└── \u001b[1;33m📋 Task: 830fe17a-ed1f-4a6b-a377-9ccc7d02b70e\u001b[0m\n",
       "    \u001b[37m   Status: \u001b[0m\u001b[2;33mExecuting Task...\u001b[0m\n",
       "    ├── \u001b[1;32m🤖 Agent: \u001b[0m\u001b[32mCrew Manager\u001b[0m\n",
       "    │   \u001b[37m    Status: \u001b[0m\u001b[1;32mIn Progress\u001b[0m\n",
       "    │   ├── \u001b[1;31m🔧 Failed \u001b[0m\u001b[31mSearch the internet with Serper (2)\u001b[0m\n",
       "    │   ├── \u001b[1;32m🔧 \u001b[0m\u001b[32mUsed Read website content (1)\u001b[0m\n",
       "    │   └── \u001b[1;33m🔧 \u001b[0m\u001b[33mUsing Delegate work to coworker (1)\u001b[0m\n",
       "    └── \u001b[1;32m🤖 Agent: \u001b[0m\u001b[32mData Analyst\u001b[0m\n",
       "        \u001b[37m    Status: \u001b[0m\u001b[1;32mIn Progress\u001b[0m\n"
      ]
     },
     "metadata": {},
     "output_type": "display_data"
    },
    {
     "data": {
      "text/html": [
       "<pre style=\"white-space:pre;overflow-x:auto;line-height:normal;font-family:Menlo,'DejaVu Sans Mono',consolas,'Courier New',monospace\">\n",
       "</pre>\n"
      ],
      "text/plain": [
       "\n"
      ]
     },
     "metadata": {},
     "output_type": "display_data"
    },
    {
     "name": "stdout",
     "output_type": "stream",
     "text": [
      "\u001b[1m\u001b[95m# Agent:\u001b[00m \u001b[1m\u001b[92mData Analyst\u001b[00m\n",
      "\u001b[95m## Task:\u001b[00m \u001b[92mAnalyze market data for AAPL to identify trends and predict market movements\u001b[00m\n"
     ]
    },
    {
     "data": {
      "text/html": [
       "<pre style=\"white-space:pre;overflow-x:auto;line-height:normal;font-family:Menlo,'DejaVu Sans Mono',consolas,'Courier New',monospace\"><span style=\"color: #008080; text-decoration-color: #008080; font-weight: bold\">🚀 Crew: crew</span>\n",
       "└── <span style=\"color: #808000; text-decoration-color: #808000; font-weight: bold\">📋 Task: 830fe17a-ed1f-4a6b-a377-9ccc7d02b70e</span>\n",
       "    <span style=\"color: #c0c0c0; text-decoration-color: #c0c0c0\">   Status: </span><span style=\"color: #bfbf7f; text-decoration-color: #bfbf7f\">Executing Task...</span>\n",
       "    ├── <span style=\"color: #008000; text-decoration-color: #008000; font-weight: bold\">🤖 Agent: </span><span style=\"color: #008000; text-decoration-color: #008000\">Crew Manager</span>\n",
       "    │   <span style=\"color: #c0c0c0; text-decoration-color: #c0c0c0\">    Status: </span><span style=\"color: #008000; text-decoration-color: #008000; font-weight: bold\">In Progress</span>\n",
       "    │   ├── <span style=\"color: #800000; text-decoration-color: #800000; font-weight: bold\">🔧 Failed </span><span style=\"color: #800000; text-decoration-color: #800000\">Search the internet with Serper (2)</span>\n",
       "    │   ├── <span style=\"color: #008000; text-decoration-color: #008000; font-weight: bold\">🔧 </span><span style=\"color: #008000; text-decoration-color: #008000\">Used Read website content (1)</span>\n",
       "    │   └── <span style=\"color: #808000; text-decoration-color: #808000; font-weight: bold\">🔧 </span><span style=\"color: #808000; text-decoration-color: #808000\">Using Delegate work to coworker (1)</span>\n",
       "    └── <span style=\"color: #008000; text-decoration-color: #008000; font-weight: bold\">🤖 Agent: </span><span style=\"color: #008000; text-decoration-color: #008000\">Data Analyst</span>\n",
       "        <span style=\"color: #c0c0c0; text-decoration-color: #c0c0c0\">    Status: </span><span style=\"color: #008000; text-decoration-color: #008000; font-weight: bold\">In Progress</span>\n",
       "        └── <span style=\"color: #000080; text-decoration-color: #000080; font-weight: bold\">🧠 </span><span style=\"color: #000080; text-decoration-color: #000080\">Thinking...</span>\n",
       "</pre>\n"
      ],
      "text/plain": [
       "\u001b[1;36m🚀 Crew: \u001b[0m\u001b[1;36mcrew\u001b[0m\n",
       "└── \u001b[1;33m📋 Task: 830fe17a-ed1f-4a6b-a377-9ccc7d02b70e\u001b[0m\n",
       "    \u001b[37m   Status: \u001b[0m\u001b[2;33mExecuting Task...\u001b[0m\n",
       "    ├── \u001b[1;32m🤖 Agent: \u001b[0m\u001b[32mCrew Manager\u001b[0m\n",
       "    │   \u001b[37m    Status: \u001b[0m\u001b[1;32mIn Progress\u001b[0m\n",
       "    │   ├── \u001b[1;31m🔧 Failed \u001b[0m\u001b[31mSearch the internet with Serper (2)\u001b[0m\n",
       "    │   ├── \u001b[1;32m🔧 \u001b[0m\u001b[32mUsed Read website content (1)\u001b[0m\n",
       "    │   └── \u001b[1;33m🔧 \u001b[0m\u001b[33mUsing Delegate work to coworker (1)\u001b[0m\n",
       "    └── \u001b[1;32m🤖 Agent: \u001b[0m\u001b[32mData Analyst\u001b[0m\n",
       "        \u001b[37m    Status: \u001b[0m\u001b[1;32mIn Progress\u001b[0m\n",
       "        └── \u001b[1;34m🧠 \u001b[0m\u001b[34mThinking...\u001b[0m\n"
      ]
     },
     "metadata": {},
     "output_type": "display_data"
    },
    {
     "data": {
      "text/html": [
       "<pre style=\"white-space:pre;overflow-x:auto;line-height:normal;font-family:Menlo,'DejaVu Sans Mono',consolas,'Courier New',monospace\">\n",
       "</pre>\n"
      ],
      "text/plain": [
       "\n"
      ]
     },
     "metadata": {},
     "output_type": "display_data"
    },
    {
     "data": {
      "text/html": [
       "<pre style=\"white-space:pre;overflow-x:auto;line-height:normal;font-family:Menlo,'DejaVu Sans Mono',consolas,'Courier New',monospace\"><span style=\"color: #008080; text-decoration-color: #008080; font-weight: bold\">🚀 Crew: crew</span>\n",
       "└── <span style=\"color: #808000; text-decoration-color: #808000; font-weight: bold\">📋 Task: 830fe17a-ed1f-4a6b-a377-9ccc7d02b70e</span>\n",
       "    <span style=\"color: #c0c0c0; text-decoration-color: #c0c0c0\">   Status: </span><span style=\"color: #bfbf7f; text-decoration-color: #bfbf7f\">Executing Task...</span>\n",
       "    ├── <span style=\"color: #008000; text-decoration-color: #008000; font-weight: bold\">🤖 Agent: </span><span style=\"color: #008000; text-decoration-color: #008000\">Crew Manager</span>\n",
       "    │   <span style=\"color: #c0c0c0; text-decoration-color: #c0c0c0\">    Status: </span><span style=\"color: #008000; text-decoration-color: #008000; font-weight: bold\">In Progress</span>\n",
       "    │   ├── <span style=\"color: #800000; text-decoration-color: #800000; font-weight: bold\">🔧 Failed </span><span style=\"color: #800000; text-decoration-color: #800000\">Search the internet with Serper (2)</span>\n",
       "    │   ├── <span style=\"color: #008000; text-decoration-color: #008000; font-weight: bold\">🔧 </span><span style=\"color: #008000; text-decoration-color: #008000\">Used Read website content (1)</span>\n",
       "    │   └── <span style=\"color: #808000; text-decoration-color: #808000; font-weight: bold\">🔧 </span><span style=\"color: #808000; text-decoration-color: #808000\">Using Delegate work to coworker (1)</span>\n",
       "    └── <span style=\"color: #008000; text-decoration-color: #008000; font-weight: bold\">🤖 Agent: </span><span style=\"color: #008000; text-decoration-color: #008000\">Data Analyst</span>\n",
       "        <span style=\"color: #c0c0c0; text-decoration-color: #c0c0c0\">    Status: </span><span style=\"color: #008000; text-decoration-color: #008000; font-weight: bold\">In Progress</span>\n",
       "</pre>\n"
      ],
      "text/plain": [
       "\u001b[1;36m🚀 Crew: \u001b[0m\u001b[1;36mcrew\u001b[0m\n",
       "└── \u001b[1;33m📋 Task: 830fe17a-ed1f-4a6b-a377-9ccc7d02b70e\u001b[0m\n",
       "    \u001b[37m   Status: \u001b[0m\u001b[2;33mExecuting Task...\u001b[0m\n",
       "    ├── \u001b[1;32m🤖 Agent: \u001b[0m\u001b[32mCrew Manager\u001b[0m\n",
       "    │   \u001b[37m    Status: \u001b[0m\u001b[1;32mIn Progress\u001b[0m\n",
       "    │   ├── \u001b[1;31m🔧 Failed \u001b[0m\u001b[31mSearch the internet with Serper (2)\u001b[0m\n",
       "    │   ├── \u001b[1;32m🔧 \u001b[0m\u001b[32mUsed Read website content (1)\u001b[0m\n",
       "    │   └── \u001b[1;33m🔧 \u001b[0m\u001b[33mUsing Delegate work to coworker (1)\u001b[0m\n",
       "    └── \u001b[1;32m🤖 Agent: \u001b[0m\u001b[32mData Analyst\u001b[0m\n",
       "        \u001b[37m    Status: \u001b[0m\u001b[1;32mIn Progress\u001b[0m\n"
      ]
     },
     "metadata": {},
     "output_type": "display_data"
    },
    {
     "data": {
      "text/html": [
       "<pre style=\"white-space:pre;overflow-x:auto;line-height:normal;font-family:Menlo,'DejaVu Sans Mono',consolas,'Courier New',monospace\">\n",
       "</pre>\n"
      ],
      "text/plain": [
       "\n"
      ]
     },
     "metadata": {},
     "output_type": "display_data"
    },
    {
     "data": {
      "text/html": [
       "<pre style=\"white-space:pre;overflow-x:auto;line-height:normal;font-family:Menlo,'DejaVu Sans Mono',consolas,'Courier New',monospace\"><span style=\"color: #008080; text-decoration-color: #008080; font-weight: bold\">🚀 Crew: crew</span>\n",
       "└── <span style=\"color: #808000; text-decoration-color: #808000; font-weight: bold\">📋 Task: 830fe17a-ed1f-4a6b-a377-9ccc7d02b70e</span>\n",
       "    <span style=\"color: #c0c0c0; text-decoration-color: #c0c0c0\">   Status: </span><span style=\"color: #bfbf7f; text-decoration-color: #bfbf7f\">Executing Task...</span>\n",
       "    ├── <span style=\"color: #008000; text-decoration-color: #008000; font-weight: bold\">🤖 Agent: </span><span style=\"color: #008000; text-decoration-color: #008000\">Crew Manager</span>\n",
       "    │   <span style=\"color: #c0c0c0; text-decoration-color: #c0c0c0\">    Status: </span><span style=\"color: #008000; text-decoration-color: #008000; font-weight: bold\">In Progress</span>\n",
       "    │   ├── <span style=\"color: #800000; text-decoration-color: #800000; font-weight: bold\">🔧 Failed </span><span style=\"color: #800000; text-decoration-color: #800000\">Search the internet with Serper (2)</span>\n",
       "    │   ├── <span style=\"color: #008000; text-decoration-color: #008000; font-weight: bold\">🔧 </span><span style=\"color: #008000; text-decoration-color: #008000\">Used Read website content (1)</span>\n",
       "    │   └── <span style=\"color: #808000; text-decoration-color: #808000; font-weight: bold\">🔧 </span><span style=\"color: #808000; text-decoration-color: #808000\">Using Delegate work to coworker (1)</span>\n",
       "    └── <span style=\"color: #008000; text-decoration-color: #008000; font-weight: bold\">🤖 Agent: </span><span style=\"color: #008000; text-decoration-color: #008000\">Data Analyst</span>\n",
       "        <span style=\"color: #c0c0c0; text-decoration-color: #c0c0c0\">    Status: </span><span style=\"color: #008000; text-decoration-color: #008000; font-weight: bold\">In Progress</span>\n",
       "        └── <span style=\"color: #808000; text-decoration-color: #808000; font-weight: bold\">🔧 </span><span style=\"color: #808000; text-decoration-color: #808000\">Using Read website content (2)</span>\n",
       "</pre>\n"
      ],
      "text/plain": [
       "\u001b[1;36m🚀 Crew: \u001b[0m\u001b[1;36mcrew\u001b[0m\n",
       "└── \u001b[1;33m📋 Task: 830fe17a-ed1f-4a6b-a377-9ccc7d02b70e\u001b[0m\n",
       "    \u001b[37m   Status: \u001b[0m\u001b[2;33mExecuting Task...\u001b[0m\n",
       "    ├── \u001b[1;32m🤖 Agent: \u001b[0m\u001b[32mCrew Manager\u001b[0m\n",
       "    │   \u001b[37m    Status: \u001b[0m\u001b[1;32mIn Progress\u001b[0m\n",
       "    │   ├── \u001b[1;31m🔧 Failed \u001b[0m\u001b[31mSearch the internet with Serper (2)\u001b[0m\n",
       "    │   ├── \u001b[1;32m🔧 \u001b[0m\u001b[32mUsed Read website content (1)\u001b[0m\n",
       "    │   └── \u001b[1;33m🔧 \u001b[0m\u001b[33mUsing Delegate work to coworker (1)\u001b[0m\n",
       "    └── \u001b[1;32m🤖 Agent: \u001b[0m\u001b[32mData Analyst\u001b[0m\n",
       "        \u001b[37m    Status: \u001b[0m\u001b[1;32mIn Progress\u001b[0m\n",
       "        └── \u001b[1;33m🔧 \u001b[0m\u001b[33mUsing Read website content (2)\u001b[0m\n"
      ]
     },
     "metadata": {},
     "output_type": "display_data"
    },
    {
     "data": {
      "text/html": [
       "<pre style=\"white-space:pre;overflow-x:auto;line-height:normal;font-family:Menlo,'DejaVu Sans Mono',consolas,'Courier New',monospace\">\n",
       "</pre>\n"
      ],
      "text/plain": [
       "\n"
      ]
     },
     "metadata": {},
     "output_type": "display_data"
    },
    {
     "data": {
      "text/html": [
       "<pre style=\"white-space:pre;overflow-x:auto;line-height:normal;font-family:Menlo,'DejaVu Sans Mono',consolas,'Courier New',monospace\"><span style=\"color: #008080; text-decoration-color: #008080; font-weight: bold\">🚀 Crew: crew</span>\n",
       "└── <span style=\"color: #808000; text-decoration-color: #808000; font-weight: bold\">📋 Task: 830fe17a-ed1f-4a6b-a377-9ccc7d02b70e</span>\n",
       "    <span style=\"color: #c0c0c0; text-decoration-color: #c0c0c0\">   Status: </span><span style=\"color: #bfbf7f; text-decoration-color: #bfbf7f\">Executing Task...</span>\n",
       "    ├── <span style=\"color: #008000; text-decoration-color: #008000; font-weight: bold\">🤖 Agent: </span><span style=\"color: #008000; text-decoration-color: #008000\">Crew Manager</span>\n",
       "    │   <span style=\"color: #c0c0c0; text-decoration-color: #c0c0c0\">    Status: </span><span style=\"color: #008000; text-decoration-color: #008000; font-weight: bold\">In Progress</span>\n",
       "    │   ├── <span style=\"color: #800000; text-decoration-color: #800000; font-weight: bold\">🔧 Failed </span><span style=\"color: #800000; text-decoration-color: #800000\">Search the internet with Serper (2)</span>\n",
       "    │   ├── <span style=\"color: #008000; text-decoration-color: #008000; font-weight: bold\">🔧 </span><span style=\"color: #008000; text-decoration-color: #008000\">Used Read website content (1)</span>\n",
       "    │   └── <span style=\"color: #808000; text-decoration-color: #808000; font-weight: bold\">🔧 </span><span style=\"color: #808000; text-decoration-color: #808000\">Using Delegate work to coworker (1)</span>\n",
       "    └── <span style=\"color: #008000; text-decoration-color: #008000; font-weight: bold\">🤖 Agent: </span><span style=\"color: #008000; text-decoration-color: #008000\">Data Analyst</span>\n",
       "        <span style=\"color: #c0c0c0; text-decoration-color: #c0c0c0\">    Status: </span><span style=\"color: #008000; text-decoration-color: #008000; font-weight: bold\">In Progress</span>\n",
       "        └── <span style=\"color: #008000; text-decoration-color: #008000; font-weight: bold\">🔧 </span><span style=\"color: #008000; text-decoration-color: #008000\">Used Read website content (2)</span>\n",
       "</pre>\n"
      ],
      "text/plain": [
       "\u001b[1;36m🚀 Crew: \u001b[0m\u001b[1;36mcrew\u001b[0m\n",
       "└── \u001b[1;33m📋 Task: 830fe17a-ed1f-4a6b-a377-9ccc7d02b70e\u001b[0m\n",
       "    \u001b[37m   Status: \u001b[0m\u001b[2;33mExecuting Task...\u001b[0m\n",
       "    ├── \u001b[1;32m🤖 Agent: \u001b[0m\u001b[32mCrew Manager\u001b[0m\n",
       "    │   \u001b[37m    Status: \u001b[0m\u001b[1;32mIn Progress\u001b[0m\n",
       "    │   ├── \u001b[1;31m🔧 Failed \u001b[0m\u001b[31mSearch the internet with Serper (2)\u001b[0m\n",
       "    │   ├── \u001b[1;32m🔧 \u001b[0m\u001b[32mUsed Read website content (1)\u001b[0m\n",
       "    │   └── \u001b[1;33m🔧 \u001b[0m\u001b[33mUsing Delegate work to coworker (1)\u001b[0m\n",
       "    └── \u001b[1;32m🤖 Agent: \u001b[0m\u001b[32mData Analyst\u001b[0m\n",
       "        \u001b[37m    Status: \u001b[0m\u001b[1;32mIn Progress\u001b[0m\n",
       "        └── \u001b[1;32m🔧 \u001b[0m\u001b[32mUsed Read website content (2)\u001b[0m\n"
      ]
     },
     "metadata": {},
     "output_type": "display_data"
    },
    {
     "data": {
      "text/html": [
       "<pre style=\"white-space:pre;overflow-x:auto;line-height:normal;font-family:Menlo,'DejaVu Sans Mono',consolas,'Courier New',monospace\">\n",
       "</pre>\n"
      ],
      "text/plain": [
       "\n"
      ]
     },
     "metadata": {},
     "output_type": "display_data"
    },
    {
     "name": "stdout",
     "output_type": "stream",
     "text": [
      "\n",
      "\n",
      "\u001b[1m\u001b[95m# Agent:\u001b[00m \u001b[1m\u001b[92mData Analyst\u001b[00m\n",
      "\u001b[95m## Using tool:\u001b[00m \u001b[92mRead website content\u001b[00m\n",
      "\u001b[95m## Tool Input:\u001b[00m \u001b[92m\n",
      "\"{\\\"website_url\\\": \\\"https://finance.yahoo.com/quote/AAPL\\\"}\"\u001b[00m\n",
      "\u001b[95m## Tool Output:\u001b[00m \u001b[92m\n",
      "\n",
      "Apple Inc. (AAPL) Stock Price, News, Quote & History - Yahoo Finance\n",
      "Oops, something went wrong News Today's news US Politics World Tech Reviews and deals Audio Computing Gaming Health Home Phones Science TVs Climate change Health Science Originals The 360 Newsletters Life Health COVID-19 Fall allergies Health news Mental health Relax Sexual health Studies The Unwind Parenting Family health So mini ways Style and beauty It Figures Unapologetically Horoscopes Shopping Buying guides Food Travel Autos Gift ideas Buying guides Entertainment Celebrity TV Movies Music How to Watch Interviews Videos Finance My Portfolio News Latest Stock Market Originals Tariff Updates Newsletters Economies Earnings Tech Housing Crypto Markets Stocks: Most Actives Stocks: Gainers Stocks: Losers Trending Tickers Futures World Indices US Treasury Bonds Rates Currencies Crypto Top ETFs Top Mutual Funds Options: Highest Open Interest Options: Highest Implied Volatility Sectors Basic Materials Communication Services Consumer Cyclical Consumer Defensive Energy Financial Services Healthcare Industrials Real Estate Technology Utilities Private Companies Research Screeners Calendar Stock Comparison Advanced Chart Currency Converter Personal Finance Credit Cards Banking Best HYSA Student Loans Personal Loans Insurance Mortgages Mortgage Calculator Taxes H&R Block Tax Insights Videos Latest Editor's Picks Investing Insights Trending Stocks All Shows Morning Brief Opening Bid Wealth ETF Report Trade This Way Options 101 Davos 2025 FA Corner Financial Freestyle Streaming Now Sports Fantasy News Fantasy football Best Ball Pro Pick 'Em College Pick 'Em Fantasy baseball Fantasy hockey Fantasy basketball Download the app Daily fantasy NFL News Scores and schedules Standings Stats Teams Players Drafts Injuries Odds Super Bowl GameChannel Videos MLB News Scores and schedules Standings Stats Teams Players Odds Videos World Baseball Classic NBA News Draft Scores and schedules Standings Stats Teams Players Injuries Videos Odds Playoffs NHL News Scores and schedules Standings Stats Teams Players Odds Playoffs Soccer News Scores and schedules Premier League MLS NWSL Liga MX CONCACAF League Champions League La Liga Serie A Bundesliga Ligue 1 World Cup College football News Scores and schedules Standings Rankings Stats Teams March Madness Show all MMA WNBA Sportsbook NCAAF Tennis Golf NASCAR NCAAB NCAAW Boxing USFL Cycling Motorsports Olympics Horse racing GameChannel Rivals Newsletters Podcasts Videos RSS Jobs Help World Cup More news New on Yahoo Creators Games Tech Local services Terms Privacy Privacy Dashboard Feedback © 2025 All rights reserved. About our ads Advertising Careers Yahoo Finance Yahoo Finance Search query Select edition US English US y LATAM Español Australia English Canada English Canada Français Deutschland Deutsch France Français 香港 繁中 Malaysia English New Zealand English Singapore English 台灣 繁中 UK English News Finance Sports More News Today's news US Politics World Weather Climate change Health Science Originals Newsletters Life Health Parenting Style and beauty Horoscopes Shopping Food Travel Autos Gift ideas Buying guides Entertainment Celebrity TV Movies Music How to watch Interviews Videos Finance My portfolio Watchlists Markets News Videos Screeners Personal finance Crypto Industries Sports Fantasy NFL NBA MLB NHL College football College basketball Soccer March Madness Yahoo Sports AM New on Yahoo Creators Games Tech Local services Selected edition US English Mail Sign in My Portfolio News Latest Stock Market Originals Tariff Updates Newsletters Economies Earnings Tech Housing Crypto Markets Stocks: Most Actives Stocks: Gainers Stocks: Losers Trending Tickers Futures World Indices US Treasury Bonds Rates Currencies Crypto Top ETFs Top Mutual Funds Options: Highest Open Interest Options: Highest Implied Volatility Sectors Basic Materials Communication Services Consumer Cyclical Consumer Defensive Energy Financial Services Healthcare Industrials Real Estate Technology Utilities Private Companies NEW Research Screeners Calendar Stock Comparison Advanced Chart Currency Converter Personal Finance Credit Cards Banking Best HYSA Student Loans Personal Loans Insurance Mortgages Mortgage Calculator Taxes H&R Block Tax Insights Videos Latest Editor's Picks Investing Insights Trending Stocks All Shows Morning Brief Opening Bid Wealth ETF Report Trade This Way Options 101 Davos 2025 FA Corner Financial Freestyle Streaming Now … AAPL Apple Inc. 197.90 -0.13% Summary News Chart Conversations Statistics Historical Data Profile Financials Analysis Options Holders Sustainability Unlock stock picks and a broker-level newsfeed that powers Wall Street. Upgrade Now NasdaqGS - Nasdaq Real Time Price • USD Apple Inc. (AAPL) Follow Compare Time to buy AAPL? 198.15 +7.73 +(4.06%) At close: 4:00:01 PM EDT 197.90 -0.25 (-0.13%) After hours: 4:15:26 PM EDT Time to buy AAPL? 1D 5D 5.19% 1M -10.27% 6M -12.92% YTD -20.87% 1Y 13.20% 5Y 195.76% All 154,284.96% Key Events Mountain Advanced Chart Loading Chart for AAPL Previous Close 190.42 Open 186.10 Bid 197.24 x 5000 Ask 198.99 x 2000 Day's Range 186.06 - 199.54 52 Week Range 164.08 - 260.10 Volume 86,538,298 Avg. Volume 61,058,588 Market Cap (intraday) 2.977T Beta (5Y Monthly) 1.26 PE Ratio (TTM) 31.45 EPS (TTM) 6.30 Earnings Date May 1, 2025 Forward Dividend & Yield 1.00 (0.53%) Ex-Dividend Date Feb 10, 2025 1y Target Est 238.75 Apple Inc. Overview Consumer Electronics / Technology Apple Inc. designs, manufactures, and markets smartphones, personal computers, tablets, wearables, and accessories worldwide. The company offers iPhone, a line of smartphones; Mac, a line of personal computers; iPad, a line of multi-purpose tablets; and wearables, home, and accessories comprising AirPods, Apple TV, Apple Watch, Beats products, and HomePod. It also provides AppleCare support and cloud services; and operates various platforms, including the App Store that allow customers to discover and download applications and digital content, such as books, music, video, games, and podcasts, as well as advertising services include third-party licensing arrangements and its own advertising platforms. In addition, the company offers various subscription-based services, such as Apple Arcade, a game subscription service; Apple Fitness+, a personalized fitness service; Apple Music, which offers users a curated listening experience with on-demand radio stations; Apple News+, a subscription news and magazine service; Apple TV+, which offers exclusive original content; Apple Card, a co-branded credit card; and Apple Pay, a cashless payment service, as well as licenses its intellectual property. The company serves consumers, and small and mid-sized businesses; and the education, enterprise, and government markets. It distributes third-party applications for its products through the App Store. The company also sells its products through its retail and online stores, and direct sales force; and third-party cellular network carriers, wholesalers, retailers, and resellers. Apple Inc. was founded in 1976 and is headquartered in Cupertino, California. www.apple.com 150,000 Full Time Employees September 28 Fiscal Year Ends Technology Sector Consumer Electronics Industry More about Apple Inc. Recent News: AAPL View More All News Press Releases SEC Filings View More Performance Overview: AAPL Trailing total returns as of 4/11/2025, which may include dividends or other distributions. Benchmark is S&P 500 (^GSPC) . YTD Return AAPL 20.79% S&P 500 (^GSPC) 8.81% 1-Year Return AAPL 13.74% S&P 500 (^GSPC) 3.16% 3-Year Return AAPL 21.48% S&P 500 (^GSPC) 21.55% 5-Year Return AAPL 204.68% S&P 500 (^GSPC) 92.25% Compare To: AAPL Compare Select to analyze similar companies using key performance metrics; select up to 4 stocks. AAPL Apple Inc. 198.15 +4.06% Mkt Cap 2.977T Industry Consumer Electronics 1810.HK XIAOMI-W 44.250 +2.79% Mkt Cap HKD 1.147T Industry Consumer Electronics SONY Sony Group Corporation 22.94 +0.09% Mkt Cap 144.232B Industry Consumer Electronics XIACY Xiaomi Corporation 28.93 +4.93% Mkt Cap 150.457B Industry Consumer Electronics 2498.TW HTC Corporation 36.15 +3.58% Mkt Cap TWD 30.166B Industry Consumer Electronics 005930.KS Samsung Electronics Co., Ltd. 55,200.00 -2.13% Mkt Cap KRW 364.139T Industry Consumer Electronics SONO Sonos, Inc. 8.00 -3.38% Mkt Cap 952.664M Industry Consumer Electronics GPRO GoPro, Inc. 0.4956 +2.99% Mkt Cap 78.021M Industry Consumer Electronics XIACF Xiaomi Corporation 5.78 +6.25% Mkt Cap 146.536B Industry Consumer Electronics 5371.TWO Coretronic Corporation 59.80 +0.17% Mkt Cap TWD 23.381B Industry Consumer Electronics 2439.TW Merry Electronics Co., Ltd. 101.50 0.00% Mkt Cap TWD 25.729B Industry Consumer Electronics Statistics: AAPL View More Valuation Measures As of 4/10/2025 Market Cap 2.86T Enterprise Value 2.90T Trailing P/E 30.23 Forward P/E 25.97 PEG Ratio (5yr expected) 1.77 Price/Sales (ttm) 7.36 Price/Book (mrq) 42.85 Enterprise Value/Revenue 7.34 Enterprise Value/EBITDA 21.14 Financial Highlights Profitability and Income Statement Profit Margin 24.30% Return on Assets (ttm) 22.52% Return on Equity (ttm) 136.52% Revenue (ttm) 395.76B Net Income Avi to Common (ttm) 96.15B Diluted EPS (ttm) 6.30 Balance Sheet and Cash Flow Total Cash (mrq) 53.77B Total Debt/Equity (mrq) 145.00% Levered Free Cash Flow (ttm) 93.83B View More Research Analysis: AAPL View More View More People Also Watch AMZN Amazon.com, Inc. 184.87 +2.01%   TSLA Tesla, Inc. 252.31 -0.04%   GOOG Alphabet Inc. 159.40 +2.59%   META Meta Platforms, Inc. 543.57 -0.50%   MSFT Microsoft Corporation 388.45 +1.86%   NVDA NVIDIA Corporation 110.93 +3.12%   NFLX Netflix, Inc. 918.29 -0.31%   AMD Advanced Micro Devices, Inc. 93.40 +5.30%   DIS The Walt Disney Company 84.89 -0.40%   INTC Intel Corporation 19.74 -0.70%   JPM JPMorgan Chase & Co. 236.20 +4.00%   BA The Boeing Company 156.84 +0.85%   BABA Alibaba Group Holding Limited 107.73 +3.41%   F Ford Motor Company 9.33 +2.08%   BAC Bank of America Corporation 35.95 +0.28%   KO The Coca-Cola Company 71.43 +0.95%   Copyright © 2025 Yahoo. All rights reserved. POPULAR QUOTES Dow Jones S&P 500 DAX Index Nvidia Tesla DJT Tariffs EXPLORE MORE Mortgages Credit Cards Sectors Crypto Heatmap Financial News ABOUT Data Disclaimer Help Feedback Sitemap Licensing What's New About Our Ads Terms and Privacy Policy Privacy Dashboard More Info U.S. markets closed US Europe Asia Rates Commodities Currencies Cryptocurrencies S&P 500 5,363.36 +95.31 (+1.81%) Dow 30 40,212.71 +619.05 (+1.56%) Nasdaq 16,724.46 +337.14 (+2.06%) Russell 2000 1,860.20 +28.81 (+1.57%) Crude Oil 61.54 +1.47 (+2.45%) Gold 3,251.80 +74.30 (+2.34%) My portfolios My portfolios Sign in to access your portfolio Sign in Top gainers RXRX Recursion Pharmaceuticals, Inc. 5.76 +1.25 (+27.72%) CERT Certara, Inc. 12.91 +2.40 (+22.84%) ZLAB Zai Lab Limited 29.54 +5.22 (+21.46%) HNHPF Hon Hai Precision Industry Co., Ltd. 8.35 +1.15 (+16.24%) SMMT Summit Therapeutics Inc. 23.24 +3.09 (+15.33%) Top losers MLGO MicroAlgo Inc. 14.01 -1.90 (-11.94%) NWOEF NEW ORIENTAL ED & TECHNOLOGY GP 4.0000 -6.0000 (-60.00%) OPCH Option Care Health, Inc. 31.55 -2.14 (-6.35%) SAIA Saia, Inc. 330.37 -21.08 (-6.00%) LITE Lumentum Holdings Inc. 51.27 -3.20 (-5.87%) Most active NVDA NVIDIA Corporation 110.93 +3.36 (+3.12%) LCID Lucid Group, Inc. 2.5000 -0.0200 (-0.79%) F Ford Motor Company 9.32 +0.18 (+1.99%) TSLA Tesla, Inc. 252.24 -0.16 (-0.06%) INTC Intel Corporation 19.74 -0.14 (-0.70%) Trending tickers RXRX Recursion Pharmaceuticals, Inc. 5.76 +1.25 (+27.72%) PRTG Portage Biotech Inc. 8.59 +3.55 (+70.44%) JPM JPMorgan Chase & Co. 236.20 +9.09 (+4.00%) CRSP CRISPR Therapeutics AG 39.30 +5.04 (+14.71%) MSTR Strategy Incorporated 299.98 +27.64 (+10.15%) Top economic events Terms and Privacy Policy Privacy Dashboard Ad Terms Feedback More Info\n",
      "\u001b[00m\n"
     ]
    },
    {
     "data": {
      "text/html": [
       "<pre style=\"white-space:pre;overflow-x:auto;line-height:normal;font-family:Menlo,'DejaVu Sans Mono',consolas,'Courier New',monospace\"><span style=\"color: #008080; text-decoration-color: #008080; font-weight: bold\">🚀 Crew: crew</span>\n",
       "└── <span style=\"color: #808000; text-decoration-color: #808000; font-weight: bold\">📋 Task: 830fe17a-ed1f-4a6b-a377-9ccc7d02b70e</span>\n",
       "    <span style=\"color: #c0c0c0; text-decoration-color: #c0c0c0\">   Status: </span><span style=\"color: #bfbf7f; text-decoration-color: #bfbf7f\">Executing Task...</span>\n",
       "    ├── <span style=\"color: #008000; text-decoration-color: #008000; font-weight: bold\">🤖 Agent: </span><span style=\"color: #008000; text-decoration-color: #008000\">Crew Manager</span>\n",
       "    │   <span style=\"color: #c0c0c0; text-decoration-color: #c0c0c0\">    Status: </span><span style=\"color: #008000; text-decoration-color: #008000; font-weight: bold\">In Progress</span>\n",
       "    │   ├── <span style=\"color: #800000; text-decoration-color: #800000; font-weight: bold\">🔧 Failed </span><span style=\"color: #800000; text-decoration-color: #800000\">Search the internet with Serper (2)</span>\n",
       "    │   ├── <span style=\"color: #008000; text-decoration-color: #008000; font-weight: bold\">🔧 </span><span style=\"color: #008000; text-decoration-color: #008000\">Used Read website content (1)</span>\n",
       "    │   └── <span style=\"color: #808000; text-decoration-color: #808000; font-weight: bold\">🔧 </span><span style=\"color: #808000; text-decoration-color: #808000\">Using Delegate work to coworker (1)</span>\n",
       "    └── <span style=\"color: #008000; text-decoration-color: #008000; font-weight: bold\">🤖 Agent: </span><span style=\"color: #008000; text-decoration-color: #008000\">Data Analyst</span>\n",
       "        <span style=\"color: #c0c0c0; text-decoration-color: #c0c0c0\">    Status: </span><span style=\"color: #008000; text-decoration-color: #008000; font-weight: bold\">In Progress</span>\n",
       "        ├── <span style=\"color: #008000; text-decoration-color: #008000; font-weight: bold\">🔧 </span><span style=\"color: #008000; text-decoration-color: #008000\">Used Read website content (2)</span>\n",
       "        └── <span style=\"color: #000080; text-decoration-color: #000080; font-weight: bold\">🧠 </span><span style=\"color: #000080; text-decoration-color: #000080\">Thinking...</span>\n",
       "</pre>\n"
      ],
      "text/plain": [
       "\u001b[1;36m🚀 Crew: \u001b[0m\u001b[1;36mcrew\u001b[0m\n",
       "└── \u001b[1;33m📋 Task: 830fe17a-ed1f-4a6b-a377-9ccc7d02b70e\u001b[0m\n",
       "    \u001b[37m   Status: \u001b[0m\u001b[2;33mExecuting Task...\u001b[0m\n",
       "    ├── \u001b[1;32m🤖 Agent: \u001b[0m\u001b[32mCrew Manager\u001b[0m\n",
       "    │   \u001b[37m    Status: \u001b[0m\u001b[1;32mIn Progress\u001b[0m\n",
       "    │   ├── \u001b[1;31m🔧 Failed \u001b[0m\u001b[31mSearch the internet with Serper (2)\u001b[0m\n",
       "    │   ├── \u001b[1;32m🔧 \u001b[0m\u001b[32mUsed Read website content (1)\u001b[0m\n",
       "    │   └── \u001b[1;33m🔧 \u001b[0m\u001b[33mUsing Delegate work to coworker (1)\u001b[0m\n",
       "    └── \u001b[1;32m🤖 Agent: \u001b[0m\u001b[32mData Analyst\u001b[0m\n",
       "        \u001b[37m    Status: \u001b[0m\u001b[1;32mIn Progress\u001b[0m\n",
       "        ├── \u001b[1;32m🔧 \u001b[0m\u001b[32mUsed Read website content (2)\u001b[0m\n",
       "        └── \u001b[1;34m🧠 \u001b[0m\u001b[34mThinking...\u001b[0m\n"
      ]
     },
     "metadata": {},
     "output_type": "display_data"
    },
    {
     "data": {
      "text/html": [
       "<pre style=\"white-space:pre;overflow-x:auto;line-height:normal;font-family:Menlo,'DejaVu Sans Mono',consolas,'Courier New',monospace\">\n",
       "</pre>\n"
      ],
      "text/plain": [
       "\n"
      ]
     },
     "metadata": {},
     "output_type": "display_data"
    },
    {
     "data": {
      "text/html": [
       "<pre style=\"white-space:pre;overflow-x:auto;line-height:normal;font-family:Menlo,'DejaVu Sans Mono',consolas,'Courier New',monospace\"><span style=\"color: #008080; text-decoration-color: #008080; font-weight: bold\">🚀 Crew: crew</span>\n",
       "└── <span style=\"color: #808000; text-decoration-color: #808000; font-weight: bold\">📋 Task: 830fe17a-ed1f-4a6b-a377-9ccc7d02b70e</span>\n",
       "    <span style=\"color: #c0c0c0; text-decoration-color: #c0c0c0\">   Status: </span><span style=\"color: #bfbf7f; text-decoration-color: #bfbf7f\">Executing Task...</span>\n",
       "    ├── <span style=\"color: #008000; text-decoration-color: #008000; font-weight: bold\">🤖 Agent: </span><span style=\"color: #008000; text-decoration-color: #008000\">Crew Manager</span>\n",
       "    │   <span style=\"color: #c0c0c0; text-decoration-color: #c0c0c0\">    Status: </span><span style=\"color: #008000; text-decoration-color: #008000; font-weight: bold\">In Progress</span>\n",
       "    │   ├── <span style=\"color: #800000; text-decoration-color: #800000; font-weight: bold\">🔧 Failed </span><span style=\"color: #800000; text-decoration-color: #800000\">Search the internet with Serper (2)</span>\n",
       "    │   ├── <span style=\"color: #008000; text-decoration-color: #008000; font-weight: bold\">🔧 </span><span style=\"color: #008000; text-decoration-color: #008000\">Used Read website content (1)</span>\n",
       "    │   └── <span style=\"color: #808000; text-decoration-color: #808000; font-weight: bold\">🔧 </span><span style=\"color: #808000; text-decoration-color: #808000\">Using Delegate work to coworker (1)</span>\n",
       "    └── <span style=\"color: #008000; text-decoration-color: #008000; font-weight: bold\">🤖 Agent: </span><span style=\"color: #008000; text-decoration-color: #008000\">Data Analyst</span>\n",
       "        <span style=\"color: #c0c0c0; text-decoration-color: #c0c0c0\">    Status: </span><span style=\"color: #008000; text-decoration-color: #008000; font-weight: bold\">In Progress</span>\n",
       "        └── <span style=\"color: #008000; text-decoration-color: #008000; font-weight: bold\">🔧 </span><span style=\"color: #008000; text-decoration-color: #008000\">Used Read website content (2)</span>\n",
       "</pre>\n"
      ],
      "text/plain": [
       "\u001b[1;36m🚀 Crew: \u001b[0m\u001b[1;36mcrew\u001b[0m\n",
       "└── \u001b[1;33m📋 Task: 830fe17a-ed1f-4a6b-a377-9ccc7d02b70e\u001b[0m\n",
       "    \u001b[37m   Status: \u001b[0m\u001b[2;33mExecuting Task...\u001b[0m\n",
       "    ├── \u001b[1;32m🤖 Agent: \u001b[0m\u001b[32mCrew Manager\u001b[0m\n",
       "    │   \u001b[37m    Status: \u001b[0m\u001b[1;32mIn Progress\u001b[0m\n",
       "    │   ├── \u001b[1;31m🔧 Failed \u001b[0m\u001b[31mSearch the internet with Serper (2)\u001b[0m\n",
       "    │   ├── \u001b[1;32m🔧 \u001b[0m\u001b[32mUsed Read website content (1)\u001b[0m\n",
       "    │   └── \u001b[1;33m🔧 \u001b[0m\u001b[33mUsing Delegate work to coworker (1)\u001b[0m\n",
       "    └── \u001b[1;32m🤖 Agent: \u001b[0m\u001b[32mData Analyst\u001b[0m\n",
       "        \u001b[37m    Status: \u001b[0m\u001b[1;32mIn Progress\u001b[0m\n",
       "        └── \u001b[1;32m🔧 \u001b[0m\u001b[32mUsed Read website content (2)\u001b[0m\n"
      ]
     },
     "metadata": {},
     "output_type": "display_data"
    },
    {
     "data": {
      "text/html": [
       "<pre style=\"white-space:pre;overflow-x:auto;line-height:normal;font-family:Menlo,'DejaVu Sans Mono',consolas,'Courier New',monospace\">\n",
       "</pre>\n"
      ],
      "text/plain": [
       "\n"
      ]
     },
     "metadata": {},
     "output_type": "display_data"
    },
    {
     "name": "stdout",
     "output_type": "stream",
     "text": [
      "\n",
      "\n",
      "\u001b[1m\u001b[95m# Agent:\u001b[00m \u001b[1m\u001b[92mData Analyst\u001b[00m\n",
      "\u001b[95m## Final Answer:\u001b[00m \u001b[92m\n",
      "Apple Inc. (AAPL) Stock Price, News, Quote & History - Yahoo Finance\n",
      "\n",
      "Apple Inc. (AAPL) Follow Compare Time to buy AAPL? 198.15 +7.73 +(4.06%) At close: 4:00:01 PM EDT 197.90 -0.25 (-0.13%) After hours: 4:15:26 PM EDT Time to buy AAPL? 1D 5D 5.19% 1M -10.27% 6M -12.92% YTD -20.87% 1Y 13.20% 5Y 195.76% All 154,284.96%\n",
      "\n",
      "Key Events\n",
      "Mountain\n",
      "Advanced Chart\n",
      "Loading Chart for AAPL\n",
      "Previous Close 190.42\n",
      "Open 186.10\n",
      "Bid 197.24 x 5000\n",
      "Ask 198.99 x 2000\n",
      "Day's Range 186.06 - 199.54\n",
      "52 Week Range 164.08 - 260.10\n",
      "Volume 86,538,298\n",
      "Avg. Volume 61,058,588\n",
      "Market Cap (intraday) 2.977T\n",
      "Beta (5Y Monthly) 1.26\n",
      "PE Ratio (TTM) 31.45\n",
      "EPS (TTM) 6.30\n",
      "Earnings Date May 1, 2025\n",
      "Forward Dividend & Yield 1.00 (0.53%)\n",
      "Ex-Dividend Date Feb 10, 2025\n",
      "1y Target Est 238.75\n",
      "\n",
      "Apple Inc. Overview\n",
      "Consumer Electronics / Technology\n",
      "Apple Inc. designs, manufactures, and markets smartphones, personal computers, tablets, wearables, and accessories worldwide. The company offers iPhone, a line of smartphones; Mac, a line of personal computers; iPad, a line of multi-purpose tablets; and wearables, home, and accessories comprising AirPods, Apple TV, Apple Watch, Beats products, and HomePod. It also provides AppleCare support and cloud services; and operates various platforms, including the App Store that allow customers to discover and download applications and digital content, such as books, music, video, games, and podcasts, as well as advertising services include third-party licensing arrangements and its own advertising platforms. In addition, the company offers various subscription-based services, such as Apple Arcade, a game subscription service; Apple Fitness+, a personalized fitness service; Apple Music, which offers users a curated listening experience with on-demand radio stations; Apple News+, a subscription news and magazine service; Apple TV+, which offers exclusive original content; Apple Card, a co-branded credit card; and Apple Pay, a cashless payment service, as well as licenses its intellectual property. The company serves consumers, and small and mid-sized businesses; and the education, enterprise, and government markets. It distributes third-party applications for its products through the App Store. The company also sells its products through its retail and online stores, and direct sales force; and third-party cellular network carriers, wholesalers, retailers, and resellers. Apple Inc. was founded in 1976 and is headquartered in Cupertino, California. www.apple.com 150,000 Full Time Employees September 28 Fiscal Year Ends Technology Sector Consumer Electronics Industry\n",
      "\n",
      "Recent News: AAPL\n",
      "View More\n",
      "All News\n",
      "Press Releases\n",
      "SEC Filings\n",
      "View More\n",
      "\n",
      "Performance Overview: AAPL\n",
      "Trailing total returns as of 4/11/2025, which may include dividends or other distributions. Benchmark is S&P 500 (^GSPC) .\n",
      "YTD Return\n",
      "AAPL 20.79%\n",
      "S&P 500 (^GSPC) 8.81%\n",
      "1-Year Return\n",
      "AAPL 13.74%\n",
      "S&P 500 (^GSPC) 3.16%\n",
      "3-Year Return\n",
      "AAPL 21.48%\n",
      "S&P 500 (^GSPC) 21.55%\n",
      "5-Year Return\n",
      "AAPL 204.68%\n",
      "S&P 500 (^GSPC) 92.25%\n",
      "\n",
      "Compare To:\n",
      "AAPL\n",
      "Apple Inc.\n",
      "198.15 +4.06%\n",
      "Mkt Cap 2.977T\n",
      "Industry Consumer Electronics\n",
      "1810.HK\n",
      "XIAOMI-W\n",
      "44.250 +2.79%\n",
      "Mkt Cap HKD 1.147T\n",
      "Industry Consumer Electronics\n",
      "SONY\n",
      "Sony Group Corporation\n",
      "22.94 +0.09%\n",
      "Mkt Cap 144.232B\n",
      "Industry Consumer Electronics\n",
      "XIACY\n",
      "Xiaomi Corporation\n",
      "28.93 +4.93%\n",
      "Mkt Cap 150.457B\n",
      "Industry Consumer Electronics\n",
      "2498.TW\n",
      "HTC Corporation\n",
      "36.15 +3.58%\n",
      "Mkt Cap TWD 30.166B\n",
      "Industry Consumer Electronics\n",
      "005930.KS\n",
      "Samsung Electronics Co., Ltd.\n",
      "55,200.00 -2.13%\n",
      "Mkt Cap KRW 364.139T\n",
      "Industry Consumer Electronics\n",
      "SONO\n",
      "Sonos, Inc.\n",
      "8.00 -3.38%\n",
      "Mkt Cap 952.664M\n",
      "Industry Consumer Electronics\n",
      "GPRO\n",
      "GoPro, Inc.\n",
      "0.4956 +2.99%\n",
      "Mkt Cap 78.021M\n",
      "Industry Consumer Electronics\n",
      "XIACF\n",
      "Xiaomi Corporation\n",
      "5.78 +6.25%\n",
      "Mkt Cap 146.536B\n",
      "Industry Consumer Electronics\n",
      "5371.TWO\n",
      "Coretronic Corporation\n",
      "59.80 +0.17%\n",
      "Mkt Cap TWD 23.381B\n",
      "Industry Consumer Electronics\n",
      "2439.TW\n",
      "Merry Electronics Co., Ltd.\n",
      "101.50 0.00%\n",
      "Mkt Cap TWD 25.729B\n",
      "\n",
      "Statistics: AAPL\n",
      "View More\n",
      "\n",
      "Valuation Measures\n",
      "As of 4/10/2025\n",
      "Market Cap 2.86T\n",
      "Enterprise Value 2.90T\n",
      "Trailing P/E 30.23\n",
      "Forward P/E 25.97\n",
      "PEG Ratio (5yr expected) 1.77\n",
      "Price/Sales (ttm) 7.36\n",
      "Price/Book (mrq) 42.85\n",
      "Enterprise Value/Revenue 7.34\n",
      "Enterprise Value/EBITDA 21.14\n",
      "\n",
      "Financial Highlights\n",
      "Profitability and Income Statement\n",
      "Profit Margin 24.30%\n",
      "Return on Assets (ttm) 22.52%\n",
      "Return on Equity (ttm) 136.52%\n",
      "Revenue (ttm) 395.76B\n",
      "Net Income Avi to Common (ttm) 96.15B\n",
      "Diluted EPS (ttm) 6.30\n",
      "\n",
      "Balance Sheet and Cash Flow\n",
      "Total Cash (mrq) 53.77B\n",
      "Total Debt/Equity (mrq) 145.00%\n",
      "Levered Free Cash Flow (ttm) 93.83B\n",
      "\n",
      "Research Analysis: AAPL\n",
      "View More\n",
      "View More\n",
      "\n",
      "People Also Watch\n",
      "AMZN\n",
      "Amazon.com, Inc.\n",
      "184.87 +2.01%\n",
      "\n",
      "TSLA\n",
      "Tesla, Inc.\n",
      "252.31 -0.04%\n",
      "\n",
      "GOOG\n",
      "Alphabet Inc.\n",
      "159.40 +2.59%\n",
      "\n",
      "META\n",
      "Meta Platforms, Inc.\n",
      "543.57 -0.50%\n",
      "\n",
      "MSFT\n",
      "Microsoft Corporation\n",
      "388.45 +1.86%\n",
      "\n",
      "NVDA\n",
      "NVIDIA Corporation\n",
      "110.93 +3.12%\n",
      "\n",
      "NFLX\n",
      "Netflix, Inc.\n",
      "918.29 -0.31%\n",
      "\n",
      "AMD\n",
      "Advanced Micro Devices, Inc.\n",
      "93.40 +5.30%\n",
      "\n",
      "DIS\n",
      "The Walt Disney Company\n",
      "84.89 -0.40%\n",
      "\n",
      "INTC\n",
      "Intel Corporation\n",
      "19.74 -0.70%\n",
      "\n",
      "JPM\n",
      "JPMorgan Chase & Co.\n",
      "236.20 +4.00%\n",
      "\n",
      "BA\n",
      "The Boeing Company\n",
      "156.84 +0.85%\n",
      "\n",
      "BABA\n",
      "Alibaba Group Holding Limited\n",
      "107.73 +3.41%\n",
      "\n",
      "F\n",
      "Ford Motor Company\n",
      "9.33 +2.08%\n",
      "\n",
      "BAC\n",
      "Bank of America Corporation\n",
      "35.95 +0.28%\n",
      "\n",
      "KO\n",
      "The Coca-Cola Company\n",
      "71.43 +0.95%\n",
      "copyright © 2025 Yahoo. All rights reserved. About our ads\n",
      "Advertising Careers Yahoo Finance Yahoo Finance Select edition US English US y LATAM Español Australia English Canada English Canada Français Deutschland Deutsch France Français 香港 繁中 Malaysia English New Zealand English Singapore English 台灣 繁中 UK English\n",
      "\n",
      "Finance Sports More News\n",
      "Today's news US Politics World\n",
      "Weather Climate change Health Science Originals\n",
      "Newsletters Life Health\n",
      "Parenting Style and beauty\n",
      "Horoscopes Shopping\n",
      "Food Travel Autos\n",
      "Gift ideas Buying guides Entertainment\n",
      "Celebrity TV Movies Music\n",
      "How to watch Interviews Videos\n",
      "Finance My portfolio\n",
      "Watchlists Markets News\n",
      "Videos Screeners Personal finance\n",
      "Crypto Industries Sports\n",
      "Fantasy NFL NBA MLB NHL College football College basketball Soccer March Madness\n",
      "Yahoo Sports AM\n",
      "New on Yahoo Creators Games Tech Local services\n",
      "Mail Sign in My Portfolio\n",
      "Yahoo Finance\n",
      "Search query Select edition US English\n",
      "Mail Sign in My Portfolio News\n",
      "Latest Stock Market Originals\n",
      "Tariff Updates Newsletters\n",
      "Economies Earnings Tech\n",
      "Housing Crypto Markets\n",
      "Stocks: Most Actives Stocks: Gainers\n",
      "Stocks: Losers Trending Tickers\n",
      "Futures World Indices\n",
      "US Treasury Bonds Rates\n",
      "Currencies Crypto\n",
      "Top ETFs Top Mutual Funds\n",
      "Options: Highest Open Interest Options: Highest Implied Volatility\n",
      "Sectors Basic Materials Communication Services\n",
      "Consumer Cyclical Consumer Defensive\n",
      "Energy Financial Services\n",
      "Healthcare Industrials\n",
      "Real Estate Technology\n",
      "Utilities Private Companies\n",
      "NEW Research Screeners\n",
      "Calendar Stock Comparison\n",
      "Advanced Chart Currency Converter\n",
      "Personal Finance Credit Cards\n",
      "Banking Best HYSA\n",
      "Student Loans Personal Loans\n",
      "Insurance Mortgages\n",
      "Mortgage Calculator Taxes\n",
      "H&R Block Tax Insights Videos\n",
      "Latest Editor's Picks Investing Insights\n",
      "Trending Stocks All Shows\n",
      "Morning Brief Opening Bid\n",
      "Wealth ETF Report\n",
      "Trade This Way Options 101\n",
      "Davos 2025 FA Corner\n",
      "Financial Freestyle Streaming Now\n",
      "Sports Fantasy News\n",
      "Fantasy football Best Ball\n",
      "Pro Pick 'Em College Pick 'Em\n",
      "Fantasy baseball Fantasy hockey\n",
      "Fantasy basketball\n",
      "Download the app Daily fantasy\n",
      "NFL News Scores and schedules\n",
      "Standings Stats Teams\n",
      "Players Drafts Injuries\n",
      "Odds Super Bowl GameChannel\n",
      "Videos\n",
      "MLB News Scores and schedules\n",
      "Standings Stats Teams\n",
      "Players Odds Videos\n",
      "World Baseball Classic\n",
      "NBA News Draft\n",
      "Scores and schedules Standings\n",
      "Stats Teams Players\n",
      "Injuries Videos Odds\n",
      "Playoffs\n",
      "NHL News Scores and schedules\n",
      "Standings Stats Teams\n",
      "Players Odds Playoffs\n",
      "Soccer News Scores and schedules\n",
      "Premier League MLS\n",
      "NWSL Liga MX\n",
      "CONCACAF League Champions League\n",
      "La Liga Serie A\n",
      "Bundesliga Ligue 1\n",
      "World Cup College football\n",
      "News Scores and schedules\n",
      "Standings Rankings Stats Teams\n",
      "March Madness\n",
      "Show all MMA WNBA\n",
      "Sportsbook NCAAF\n",
      "Tennis Golf\n",
      "NASCAR NCAAB\n",
      "NCAAW Boxing\n",
      "USFL Cycling\n",
      "Motorsports Olympics\n",
      "Horse racing GameChannel\n",
      "Rivals Newsletters Podcasts\n",
      "Videos RSS Jobs\n",
      "Help World Cup\n",
      "More news New on Yahoo\n",
      "Creators Games Tech\n",
      "Local services Selected edition US English\n",
      "Mail Sign in My Portfolio News\n",
      "Latest Stock Market Originals\n",
      "Tariff Updates Newsletters\n",
      "Economies Earnings Tech\n",
      "Housing Crypto Markets\n",
      "Stocks: Most Actives Stocks: Gainers\n",
      "Stocks: Losers Trending Tickers\n",
      "Futures World Indices\n",
      "US Treasury Bonds Rates\n",
      "Currencies Crypto\n",
      "Top ETFs Top Mutual Funds\n",
      "Options: Highest Open Interest Options: Highest Implied Volatility\n",
      "Sectors Basic Materials Communication Services\n",
      "Consumer Cyclical Consumer Defensive\n",
      "Energy Financial Services\n",
      "Healthcare Industrials\n",
      "Real Estate Technology\n",
      "Utilities Private Companies NEW\n",
      "Research Screeners\n",
      "Calendar Stock Comparison\n",
      "Advanced Chart Currency Converter\n",
      "Personal Finance Credit Cards Banking\n",
      "Best HYSA Student Loans\n",
      "Personal Loans Insurance\n",
      "Mortgages Mortgage Calculator\n",
      "Taxes H&R Block Tax Insights\n",
      "Videos Latest Editor's Picks\n",
      "Investing Insights Trending Stocks\n",
      "All Shows Morning Brief\n",
      "Opening Bid Wealth\n",
      "ETF Report Trade This Way\n",
      "Options 101 Davos 2025\n",
      "FA Corner Financial Freestyle\n",
      "Streaming Now\n",
      "AAPL Apple Inc.\n",
      "197.90 -0.13%\n",
      "Summary News Chart Conversations Statistics\n",
      "Historical Data Profile Financials Analysis Options Holders\n",
      "Sustainability Unlock stock picks and a broker-level newsfeed that powers Wall Street. Upgrade Now\n",
      "NasdaqGS - Nasdaq Real Time Price • USD\n",
      "Apple Inc. (AAPL)\n",
      "Follow Compare Time to buy AAPL?\n",
      "198.15 +7.73 +(4.06%) At close: 4:00:01 PM EDT\n",
      "197.90 -0.25 (-0.13%) After hours: 4:15:26 PM EDT\n",
      "Time to buy AAPL?\n",
      "1D 5D 5.19%\n",
      "1M -10.27%\n",
      "6M -12.92%\n",
      "YTD -20.87%\n",
      "1Y 13.20%\n",
      "5Y 195.76%\n",
      "All 154,284.96%\n",
      "Key Events\n",
      "Mountain\n",
      "Advanced Chart\n",
      "Loading Chart for AAPL\n",
      "Previous Close 190.42\n",
      "Open 186.10\n",
      "Bid 197.24 x 5000\n",
      "Ask 198.99 x 2000\n",
      "Day's Range 186.06 - 199.54\n",
      "52 Week Range 164.08 - 260.10\n",
      "Volume 86,538,298\n",
      "Avg. Volume 61,058,588\n",
      "Market Cap (intraday) 2.977T\n",
      "Beta (5Y Monthly) 1.26\n",
      "PE Ratio (TTM) 31.45\n",
      "EPS (TTM) 6.30\n",
      "Earnings Date May 1, 2025\n",
      "Forward Dividend & Yield 1.00 (0.53%)\n",
      "Ex-Dividend Date Feb 10, 2025\n",
      "1y Target Est 238.75\n",
      "Apple Inc. Overview\n",
      "Consumer Electronics / Technology\n",
      "Apple Inc. designs, manufactures, and markets smartphones, personal computers, tablets, wearables, and accessories worldwide. The company offers iPhone, a line of smartphones; Mac, a line of personal computers; iPad, a line of multi-purpose tablets; and wearables, home, and accessories comprising AirPods, Apple TV, Apple Watch, Beats products, and HomePod. It also provides AppleCare support and cloud services; and operates various platforms, including the App Store that allow customers to discover and download applications and digital content, such as books, music, video, games, and podcasts, as well as advertising services include third-party licensing arrangements and its own advertising platforms. In addition, the company offers various subscription-based services, such as Apple Arcade, a game subscription service; Apple Fitness+, a personalized fitness service; Apple Music, which offers users a curated listening experience with on-demand radio stations; Apple News+, a subscription news and magazine service; Apple TV+, which offers exclusive original content; Apple Card, a co-branded credit card; and Apple Pay, a cashless payment service, as well as licenses its intellectual property. The company serves consumers, and small and mid-sized businesses; and the education, enterprise, and government markets. It distributes third-party applications for its products through the App Store. The company also sells its products through its retail and online stores, and direct sales force; and third-party cellular network carriers, wholesalers, retailers, and resellers. Apple Inc. was founded in 1976 and is headquartered in Cupertino, California. www.apple.com 150,000 Full Time Employees September 28 Fiscal Year Ends Technology Sector Consumer Electronics Industry\n",
      "Recent News: AAPL\n",
      "View More\n",
      "All News\n",
      "Press Releases\n",
      "SEC Filings\n",
      "View More\n",
      "Performance Overview: AAPL\n",
      "Trailing total returns as of 4/11/2025, which may include dividends or other distributions. Benchmark is S&P 500 (^GSPC) .\n",
      "YTD Return\n",
      "AAPL 20.79%\n",
      "S&P 500 (^GSPC) 8.81%\n",
      "1-Year Return\n",
      "AAPL 13.74%\n",
      "S&P 500 (^GSPC) 3.16%\n",
      "3-Year Return\n",
      "AAPL 21.48%\n",
      "S&P 500 (^GSPC) 21.55%\n",
      "5-Year Return\n",
      "AAPL 204.68%\n",
      "S&P 500 (^GSPC) 92.25%\n",
      "Compare To:\n",
      "AAPL Compare\n",
      "Select to analyze similar companies using key performance metrics; select up to 4 stocks.\n",
      "AAPL Apple Inc. 198.15 +4.06% Mkt Cap 2.977T Industry Consumer Electronics\n",
      "1810.HK XIAOMI-W 44.250 +2.79% Mkt Cap HKD 1.147T Industry Consumer Electronics\n",
      "SONY Sony Group Corporation 22.94 +0.09% Mkt Cap 144.232B Industry Consumer Electronics\n",
      "XIACY Xiaomi Corporation 28.93 +4.93% Mkt Cap 150.457B Industry Consumer Electronics\n",
      "2498.TW HTC Corporation 36.15 +3.58% Mkt Cap TWD 30.166B Industry Consumer Electronics\n",
      "005930.KS Samsung Electronics Co., Ltd. 55,200.00 -2.13% Mkt Cap KRW 364.139T Industry Consumer Electronics\n",
      "SONO Sonos, Inc. 8.00 -3.38% Mkt Cap 952.664M Industry Consumer Electronics\n",
      "GPRO GoPro, Inc. 0.4956 +2.99% Mkt Cap 78.021M Industry Consumer Electronics\n",
      "XIACF Xiaomi Corporation 5.78 +6.25% Mkt Cap 146.536B Industry Consumer Electronics\n",
      "5371.TWO Coretronic Corporation 59.80 +0.17% Mkt Cap TWD 23.381B Industry Consumer Electronics\n",
      "2439.TW Merry Electronics Co., Ltd. 101.50 0.00% Mkt Cap TWD 25.729B\n",
      "Statistics: AAPL\n",
      "View More\n",
      "Valuation Measures\n",
      "As of 4/10/2025\n",
      "Market Cap 2.86T\n",
      "Enterprise Value 2.90T\n",
      "Trailing P/E 30.23\n",
      "Forward P/E 25.97\n",
      "PEG Ratio (5yr expected) 1.77\n",
      "Price/Sales (ttm) 7.36\n",
      "Price/Book (mrq) 42.85\n",
      "Enterprise Value/Revenue 7.34\n",
      "Enterprise Value/EBITDA 21.14\n",
      "Financial Highlights\n",
      "Profitability and Income Statement\n",
      "Profit Margin 24.30%\n",
      "Return on Assets (ttm) 22.52%\n",
      "Return on Equity (ttm) 136.52%\n",
      "Revenue (ttm) 395.76B\n",
      "Net Income Avi to Common (ttm) 96.15B\n",
      "Diluted EPS (ttm) 6.30\n",
      "Balance Sheet and Cash Flow\n",
      "Total Cash (mrq) 53.77B\n",
      "Total Debt/Equity (mrq) 145.00%\n",
      "Levered Free Cash Flow (ttm) 93.83B\n",
      "Research Analysis: AAPL\n",
      "View More\n",
      "View More\n",
      "People Also Watch\n",
      "AMZN Amazon.com, Inc. 184.87 +2.01%\n",
      "TSLA Tesla, Inc. 252.31 -0.04%\n",
      "GOOG Alphabet Inc. 159.40 +2.59%\n",
      "META Meta Platforms, Inc. 543.57 -0.50%\n",
      "MSFT Microsoft Corporation 388.45 +1.86%\n",
      "NVDA NVIDIA Corporation 110\u001b[00m\n",
      "\n",
      "\n"
     ]
    },
    {
     "data": {
      "text/html": [
       "<pre style=\"white-space:pre;overflow-x:auto;line-height:normal;font-family:Menlo,'DejaVu Sans Mono',consolas,'Courier New',monospace\"><span style=\"color: #008080; text-decoration-color: #008080; font-weight: bold\">🚀 Crew: crew</span>\n",
       "└── <span style=\"color: #808000; text-decoration-color: #808000; font-weight: bold\">📋 Task: 830fe17a-ed1f-4a6b-a377-9ccc7d02b70e</span>\n",
       "    <span style=\"color: #c0c0c0; text-decoration-color: #c0c0c0\">   Status: </span><span style=\"color: #bfbf7f; text-decoration-color: #bfbf7f\">Executing Task...</span>\n",
       "    ├── <span style=\"color: #008000; text-decoration-color: #008000; font-weight: bold\">🤖 Agent: </span><span style=\"color: #008000; text-decoration-color: #008000\">Crew Manager</span>\n",
       "    │   <span style=\"color: #c0c0c0; text-decoration-color: #c0c0c0\">    Status: </span><span style=\"color: #008000; text-decoration-color: #008000; font-weight: bold\">In Progress</span>\n",
       "    │   ├── <span style=\"color: #800000; text-decoration-color: #800000; font-weight: bold\">🔧 Failed </span><span style=\"color: #800000; text-decoration-color: #800000\">Search the internet with Serper (2)</span>\n",
       "    │   ├── <span style=\"color: #008000; text-decoration-color: #008000; font-weight: bold\">🔧 </span><span style=\"color: #008000; text-decoration-color: #008000\">Used Read website content (1)</span>\n",
       "    │   └── <span style=\"color: #808000; text-decoration-color: #808000; font-weight: bold\">🔧 </span><span style=\"color: #808000; text-decoration-color: #808000\">Using Delegate work to coworker (1)</span>\n",
       "    └── <span style=\"color: #008000; text-decoration-color: #008000; font-weight: bold\">🤖 Agent: </span><span style=\"color: #008000; text-decoration-color: #008000\">Data Analyst</span>\n",
       "        <span style=\"color: #c0c0c0; text-decoration-color: #c0c0c0\">    Status: </span><span style=\"color: #008000; text-decoration-color: #008000; font-weight: bold\">✅ Completed</span>\n",
       "        └── <span style=\"color: #008000; text-decoration-color: #008000; font-weight: bold\">🔧 </span><span style=\"color: #008000; text-decoration-color: #008000\">Used Read website content (2)</span>\n",
       "</pre>\n"
      ],
      "text/plain": [
       "\u001b[1;36m🚀 Crew: \u001b[0m\u001b[1;36mcrew\u001b[0m\n",
       "└── \u001b[1;33m📋 Task: 830fe17a-ed1f-4a6b-a377-9ccc7d02b70e\u001b[0m\n",
       "    \u001b[37m   Status: \u001b[0m\u001b[2;33mExecuting Task...\u001b[0m\n",
       "    ├── \u001b[1;32m🤖 Agent: \u001b[0m\u001b[32mCrew Manager\u001b[0m\n",
       "    │   \u001b[37m    Status: \u001b[0m\u001b[1;32mIn Progress\u001b[0m\n",
       "    │   ├── \u001b[1;31m🔧 Failed \u001b[0m\u001b[31mSearch the internet with Serper (2)\u001b[0m\n",
       "    │   ├── \u001b[1;32m🔧 \u001b[0m\u001b[32mUsed Read website content (1)\u001b[0m\n",
       "    │   └── \u001b[1;33m🔧 \u001b[0m\u001b[33mUsing Delegate work to coworker (1)\u001b[0m\n",
       "    └── \u001b[1;32m🤖 Agent: \u001b[0m\u001b[32mData Analyst\u001b[0m\n",
       "        \u001b[37m    Status: \u001b[0m\u001b[1;32m✅ Completed\u001b[0m\n",
       "        └── \u001b[1;32m🔧 \u001b[0m\u001b[32mUsed Read website content (2)\u001b[0m\n"
      ]
     },
     "metadata": {},
     "output_type": "display_data"
    },
    {
     "data": {
      "text/html": [
       "<pre style=\"white-space:pre;overflow-x:auto;line-height:normal;font-family:Menlo,'DejaVu Sans Mono',consolas,'Courier New',monospace\">\n",
       "</pre>\n"
      ],
      "text/plain": [
       "\n"
      ]
     },
     "metadata": {},
     "output_type": "display_data"
    },
    {
     "data": {
      "text/html": [
       "<pre style=\"white-space:pre;overflow-x:auto;line-height:normal;font-family:Menlo,'DejaVu Sans Mono',consolas,'Courier New',monospace\"><span style=\"color: #008080; text-decoration-color: #008080; font-weight: bold\">🚀 Crew: crew</span>\n",
       "└── <span style=\"color: #808000; text-decoration-color: #808000; font-weight: bold\">📋 Task: 830fe17a-ed1f-4a6b-a377-9ccc7d02b70e</span>\n",
       "    <span style=\"color: #c0c0c0; text-decoration-color: #c0c0c0\">   Status: </span><span style=\"color: #bfbf7f; text-decoration-color: #bfbf7f\">Executing Task...</span>\n",
       "    ├── <span style=\"color: #008000; text-decoration-color: #008000; font-weight: bold\">🤖 Agent: </span><span style=\"color: #008000; text-decoration-color: #008000\">Crew Manager</span>\n",
       "    │   <span style=\"color: #c0c0c0; text-decoration-color: #c0c0c0\">    Status: </span><span style=\"color: #008000; text-decoration-color: #008000; font-weight: bold\">In Progress</span>\n",
       "    │   ├── <span style=\"color: #800000; text-decoration-color: #800000; font-weight: bold\">🔧 Failed </span><span style=\"color: #800000; text-decoration-color: #800000\">Search the internet with Serper (2)</span>\n",
       "    │   ├── <span style=\"color: #008000; text-decoration-color: #008000; font-weight: bold\">🔧 </span><span style=\"color: #008000; text-decoration-color: #008000\">Used Read website content (1)</span>\n",
       "    │   └── <span style=\"color: #808000; text-decoration-color: #808000; font-weight: bold\">🔧 </span><span style=\"color: #808000; text-decoration-color: #808000\">Using Delegate work to coworker (1)</span>\n",
       "    └── <span style=\"color: #008000; text-decoration-color: #008000; font-weight: bold\">🤖 Agent: </span><span style=\"color: #008000; text-decoration-color: #008000\">Data Analyst</span>\n",
       "        <span style=\"color: #c0c0c0; text-decoration-color: #c0c0c0\">    Status: </span><span style=\"color: #008000; text-decoration-color: #008000; font-weight: bold\">✅ Completed</span>\n",
       "        └── <span style=\"color: #008000; text-decoration-color: #008000; font-weight: bold\">🔧 </span><span style=\"color: #008000; text-decoration-color: #008000\">Used Read website content (2)</span>\n",
       "</pre>\n"
      ],
      "text/plain": [
       "\u001b[1;36m🚀 Crew: \u001b[0m\u001b[1;36mcrew\u001b[0m\n",
       "└── \u001b[1;33m📋 Task: 830fe17a-ed1f-4a6b-a377-9ccc7d02b70e\u001b[0m\n",
       "    \u001b[37m   Status: \u001b[0m\u001b[2;33mExecuting Task...\u001b[0m\n",
       "    ├── \u001b[1;32m🤖 Agent: \u001b[0m\u001b[32mCrew Manager\u001b[0m\n",
       "    │   \u001b[37m    Status: \u001b[0m\u001b[1;32mIn Progress\u001b[0m\n",
       "    │   ├── \u001b[1;31m🔧 Failed \u001b[0m\u001b[31mSearch the internet with Serper (2)\u001b[0m\n",
       "    │   ├── \u001b[1;32m🔧 \u001b[0m\u001b[32mUsed Read website content (1)\u001b[0m\n",
       "    │   └── \u001b[1;33m🔧 \u001b[0m\u001b[33mUsing Delegate work to coworker (1)\u001b[0m\n",
       "    └── \u001b[1;32m🤖 Agent: \u001b[0m\u001b[32mData Analyst\u001b[0m\n",
       "        \u001b[37m    Status: \u001b[0m\u001b[1;32m✅ Completed\u001b[0m\n",
       "        └── \u001b[1;32m🔧 \u001b[0m\u001b[32mUsed Read website content (2)\u001b[0m\n"
      ]
     },
     "metadata": {},
     "output_type": "display_data"
    },
    {
     "data": {
      "text/html": [
       "<pre style=\"white-space:pre;overflow-x:auto;line-height:normal;font-family:Menlo,'DejaVu Sans Mono',consolas,'Courier New',monospace\">\n",
       "</pre>\n"
      ],
      "text/plain": [
       "\n"
      ]
     },
     "metadata": {},
     "output_type": "display_data"
    },
    {
     "name": "stdout",
     "output_type": "stream",
     "text": [
      "\n",
      "\n",
      "\u001b[1m\u001b[95m# Agent:\u001b[00m \u001b[1m\u001b[92mCrew Manager\u001b[00m\n",
      "\u001b[95m## Thought:\u001b[00m \u001b[92mThought: I have gathered detailed information about Apple Inc. stock (AAPL) from Yahoo Finance.\n",
      "Thought: I need to analyze this data to identify trends and predict market movements for AAPL.\u001b[00m\n",
      "\u001b[95m## Using tool:\u001b[00m \u001b[92mDelegate work to coworker\u001b[00m\n",
      "\u001b[95m## Tool Input:\u001b[00m \u001b[92m\n",
      "\"{\\\"task\\\": \\\"Analyze market data for AAPL to identify trends and predict market movements\\\", \\\"context\\\": \\\"Detailed stock information for AAPL obtained from Yahoo Finance\\\", \\\"coworker\\\": \\\"Data Analyst\\\"}\"\u001b[00m\n",
      "\u001b[95m## Tool Output:\u001b[00m \u001b[92m\n",
      "Apple Inc. (AAPL) Stock Price, News, Quote & History - Yahoo Finance\n",
      "\n",
      "Apple Inc. (AAPL) Follow Compare Time to buy AAPL? 198.15 +7.73 +(4.06%) At close: 4:00:01 PM EDT 197.90 -0.25 (-0.13%) After hours: 4:15:26 PM EDT Time to buy AAPL? 1D 5D 5.19% 1M -10.27% 6M -12.92% YTD -20.87% 1Y 13.20% 5Y 195.76% All 154,284.96%\n",
      "\n",
      "Key Events\n",
      "Mountain\n",
      "Advanced Chart\n",
      "Loading Chart for AAPL\n",
      "Previous Close 190.42\n",
      "Open 186.10\n",
      "Bid 197.24 x 5000\n",
      "Ask 198.99 x 2000\n",
      "Day's Range 186.06 - 199.54\n",
      "52 Week Range 164.08 - 260.10\n",
      "Volume 86,538,298\n",
      "Avg. Volume 61,058,588\n",
      "Market Cap (intraday) 2.977T\n",
      "Beta (5Y Monthly) 1.26\n",
      "PE Ratio (TTM) 31.45\n",
      "EPS (TTM) 6.30\n",
      "Earnings Date May 1, 2025\n",
      "Forward Dividend & Yield 1.00 (0.53%)\n",
      "Ex-Dividend Date Feb 10, 2025\n",
      "1y Target Est 238.75\n",
      "\n",
      "Apple Inc. Overview\n",
      "Consumer Electronics / Technology\n",
      "Apple Inc. designs, manufactures, and markets smartphones, personal computers, tablets, wearables, and accessories worldwide. The company offers iPhone, a line of smartphones; Mac, a line of personal computers; iPad, a line of multi-purpose tablets; and wearables, home, and accessories comprising AirPods, Apple TV, Apple Watch, Beats products, and HomePod. It also provides AppleCare support and cloud services; and operates various platforms, including the App Store that allow customers to discover and download applications and digital content, such as books, music, video, games, and podcasts, as well as advertising services include third-party licensing arrangements and its own advertising platforms. In addition, the company offers various subscription-based services, such as Apple Arcade, a game subscription service; Apple Fitness+, a personalized fitness service; Apple Music, which offers users a curated listening experience with on-demand radio stations; Apple News+, a subscription news and magazine service; Apple TV+, which offers exclusive original content; Apple Card, a co-branded credit card; and Apple Pay, a cashless payment service, as well as licenses its intellectual property. The company serves consumers, and small and mid-sized businesses; and the education, enterprise, and government markets. It distributes third-party applications for its products through the App Store. The company also sells its products through its retail and online stores, and direct sales force; and third-party cellular network carriers, wholesalers, retailers, and resellers. Apple Inc. was founded in 1976 and is headquartered in Cupertino, California. www.apple.com 150,000 Full Time Employees September 28 Fiscal Year Ends Technology Sector Consumer Electronics Industry\n",
      "\n",
      "Recent News: AAPL\n",
      "View More\n",
      "All News\n",
      "Press Releases\n",
      "SEC Filings\n",
      "View More\n",
      "\n",
      "Performance Overview: AAPL\n",
      "Trailing total returns as of 4/11/2025, which may include dividends or other distributions. Benchmark is S&P 500 (^GSPC) .\n",
      "YTD Return\n",
      "AAPL 20.79%\n",
      "S&P 500 (^GSPC) 8.81%\n",
      "1-Year Return\n",
      "AAPL 13.74%\n",
      "S&P 500 (^GSPC) 3.16%\n",
      "3-Year Return\n",
      "AAPL 21.48%\n",
      "S&P 500 (^GSPC) 21.55%\n",
      "5-Year Return\n",
      "AAPL 204.68%\n",
      "S&P 500 (^GSPC) 92.25%\n",
      "\n",
      "Compare To:\n",
      "AAPL\n",
      "Apple Inc.\n",
      "198.15 +4.06%\n",
      "Mkt Cap 2.977T\n",
      "Industry Consumer Electronics\n",
      "1810.HK\n",
      "XIAOMI-W\n",
      "44.250 +2.79%\n",
      "Mkt Cap HKD 1.147T\n",
      "Industry Consumer Electronics\n",
      "SONY\n",
      "Sony Group Corporation\n",
      "22.94 +0.09%\n",
      "Mkt Cap 144.232B\n",
      "Industry Consumer Electronics\n",
      "XIACY\n",
      "Xiaomi Corporation\n",
      "28.93 +4.93%\n",
      "Mkt Cap 150.457B\n",
      "Industry Consumer Electronics\n",
      "2498.TW\n",
      "HTC Corporation\n",
      "36.15 +3.58%\n",
      "Mkt Cap TWD 30.166B\n",
      "Industry Consumer Electronics\n",
      "005930.KS\n",
      "Samsung Electronics Co., Ltd.\n",
      "55,200.00 -2.13%\n",
      "Mkt Cap KRW 364.139T\n",
      "Industry Consumer Electronics\n",
      "SONO\n",
      "Sonos, Inc.\n",
      "8.00 -3.38%\n",
      "Mkt Cap 952.664M\n",
      "Industry Consumer Electronics\n",
      "GPRO\n",
      "GoPro, Inc.\n",
      "0.4956 +2.99%\n",
      "Mkt Cap 78.021M\n",
      "Industry Consumer Electronics\n",
      "XIACF\n",
      "Xiaomi Corporation\n",
      "5.78 +6.25%\n",
      "Mkt Cap 146.536B\n",
      "Industry Consumer Electronics\n",
      "5371.TWO\n",
      "Coretronic Corporation\n",
      "59.80 +0.17%\n",
      "Mkt Cap TWD 23.381B\n",
      "Industry Consumer Electronics\n",
      "2439.TW\n",
      "Merry Electronics Co., Ltd.\n",
      "101.50 0.00%\n",
      "Mkt Cap TWD 25.729B\n",
      "\n",
      "Statistics: AAPL\n",
      "View More\n",
      "\n",
      "Valuation Measures\n",
      "As of 4/10/2025\n",
      "Market Cap 2.86T\n",
      "Enterprise Value 2.90T\n",
      "Trailing P/E 30.23\n",
      "Forward P/E 25.97\n",
      "PEG Ratio (5yr expected) 1.77\n",
      "Price/Sales (ttm) 7.36\n",
      "Price/Book (mrq) 42.85\n",
      "Enterprise Value/Revenue 7.34\n",
      "Enterprise Value/EBITDA 21.14\n",
      "\n",
      "Financial Highlights\n",
      "Profitability and Income Statement\n",
      "Profit Margin 24.30%\n",
      "Return on Assets (ttm) 22.52%\n",
      "Return on Equity (ttm) 136.52%\n",
      "Revenue (ttm) 395.76B\n",
      "Net Income Avi to Common (ttm) 96.15B\n",
      "Diluted EPS (ttm) 6.30\n",
      "\n",
      "Balance Sheet and Cash Flow\n",
      "Total Cash (mrq) 53.77B\n",
      "Total Debt/Equity (mrq) 145.00%\n",
      "Levered Free Cash Flow (ttm) 93.83B\n",
      "\n",
      "Research Analysis: AAPL\n",
      "View More\n",
      "View More\n",
      "\n",
      "People Also Watch\n",
      "AMZN\n",
      "Amazon.com, Inc.\n",
      "184.87 +2.01%\n",
      "\n",
      "TSLA\n",
      "Tesla, Inc.\n",
      "252.31 -0.04%\n",
      "\n",
      "GOOG\n",
      "Alphabet Inc.\n",
      "159.40 +2.59%\n",
      "\n",
      "META\n",
      "Meta Platforms, Inc.\n",
      "543.57 -0.50%\n",
      "\n",
      "MSFT\n",
      "Microsoft Corporation\n",
      "388.45 +1.86%\n",
      "\n",
      "NVDA\n",
      "NVIDIA Corporation\n",
      "110.93 +3.12%\n",
      "\n",
      "NFLX\n",
      "Netflix, Inc.\n",
      "918.29 -0.31%\n",
      "\n",
      "AMD\n",
      "Advanced Micro Devices, Inc.\n",
      "93.40 +5.30%\n",
      "\n",
      "DIS\n",
      "The Walt Disney Company\n",
      "84.89 -0.40%\n",
      "\n",
      "INTC\n",
      "Intel Corporation\n",
      "19.74 -0.70%\n",
      "\n",
      "JPM\n",
      "JPMorgan Chase & Co.\n",
      "236.20 +4.00%\n",
      "\n",
      "BA\n",
      "The Boeing Company\n",
      "156.84 +0.85%\n",
      "\n",
      "BABA\n",
      "Alibaba Group Holding Limited\n",
      "107.73 +3.41%\n",
      "\n",
      "F\n",
      "Ford Motor Company\n",
      "9.33 +2.08%\n",
      "\n",
      "BAC\n",
      "Bank of America Corporation\n",
      "35.95 +0.28%\n",
      "\n",
      "KO\n",
      "The Coca-Cola Company\n",
      "71.43 +0.95%\n",
      "copyright © 2025 Yahoo. All rights reserved. About our ads\n",
      "Advertising Careers Yahoo Finance Yahoo Finance Select edition US English US y LATAM Español Australia English Canada English Canada Français Deutschland Deutsch France Français 香港 繁中 Malaysia English New Zealand English Singapore English 台灣 繁中 UK English\n",
      "\n",
      "Finance Sports More News\n",
      "Today's news US Politics World\n",
      "Weather Climate change Health Science Originals\n",
      "Newsletters Life Health\n",
      "Parenting Style and beauty\n",
      "Horoscopes Shopping\n",
      "Food Travel Autos\n",
      "Gift ideas Buying guides Entertainment\n",
      "Celebrity TV Movies Music\n",
      "How to watch Interviews Videos\n",
      "Finance My portfolio\n",
      "Watchlists Markets News\n",
      "Videos Screeners Personal finance\n",
      "Crypto Industries Sports\n",
      "Fantasy NFL NBA MLB NHL College football College basketball Soccer March Madness\n",
      "Yahoo Sports AM\n",
      "New on Yahoo Creators Games Tech Local services\n",
      "Mail Sign in My Portfolio\n",
      "Yahoo Finance\n",
      "Search query Select edition US English\n",
      "Mail Sign in My Portfolio News\n",
      "Latest Stock Market Originals\n",
      "Tariff Updates Newsletters\n",
      "Economies Earnings Tech\n",
      "Housing Crypto Markets\n",
      "Stocks: Most Actives Stocks: Gainers\n",
      "Stocks: Losers Trending Tickers\n",
      "Futures World Indices\n",
      "US Treasury Bonds Rates\n",
      "Currencies Crypto\n",
      "Top ETFs Top Mutual Funds\n",
      "Options: Highest Open Interest Options: Highest Implied Volatility\n",
      "Sectors Basic Materials Communication Services\n",
      "Consumer Cyclical Consumer Defensive\n",
      "Energy Financial Services\n",
      "Healthcare Industrials\n",
      "Real Estate Technology\n",
      "Utilities Private Companies\n",
      "NEW Research Screeners\n",
      "Calendar Stock Comparison\n",
      "Advanced Chart Currency Converter\n",
      "Personal Finance Credit Cards\n",
      "Banking Best HYSA\n",
      "Student Loans Personal Loans\n",
      "Insurance Mortgages\n",
      "Mortgage Calculator Taxes\n",
      "H&R Block Tax Insights Videos\n",
      "Latest Editor's Picks Investing Insights\n",
      "Trending Stocks All Shows\n",
      "Morning Brief Opening Bid\n",
      "Wealth ETF Report\n",
      "Trade This Way Options 101\n",
      "Davos 2025 FA Corner\n",
      "Financial Freestyle Streaming Now\n",
      "Sports Fantasy News\n",
      "Fantasy football Best Ball\n",
      "Pro Pick 'Em College Pick 'Em\n",
      "Fantasy baseball Fantasy hockey\n",
      "Fantasy basketball\n",
      "Download the app Daily fantasy\n",
      "NFL News Scores and schedules\n",
      "Standings Stats Teams\n",
      "Players Drafts Injuries\n",
      "Odds Super Bowl GameChannel\n",
      "Videos\n",
      "MLB News Scores and schedules\n",
      "Standings Stats Teams\n",
      "Players Odds Videos\n",
      "World Baseball Classic\n",
      "NBA News Draft\n",
      "Scores and schedules Standings\n",
      "Stats Teams Players\n",
      "Injuries Videos Odds\n",
      "Playoffs\n",
      "NHL News Scores and schedules\n",
      "Standings Stats Teams\n",
      "Players Odds Playoffs\n",
      "Soccer News Scores and schedules\n",
      "Premier League MLS\n",
      "NWSL Liga MX\n",
      "CONCACAF League Champions League\n",
      "La Liga Serie A\n",
      "Bundesliga Ligue 1\n",
      "World Cup College football\n",
      "News Scores and schedules\n",
      "Standings Rankings Stats Teams\n",
      "March Madness\n",
      "Show all MMA WNBA\n",
      "Sportsbook NCAAF\n",
      "Tennis Golf\n",
      "NASCAR NCAAB\n",
      "NCAAW Boxing\n",
      "USFL Cycling\n",
      "Motorsports Olympics\n",
      "Horse racing GameChannel\n",
      "Rivals Newsletters Podcasts\n",
      "Videos RSS Jobs\n",
      "Help World Cup\n",
      "More news New on Yahoo\n",
      "Creators Games Tech\n",
      "Local services Selected edition US English\n",
      "Mail Sign in My Portfolio News\n",
      "Latest Stock Market Originals\n",
      "Tariff Updates Newsletters\n",
      "Economies Earnings Tech\n",
      "Housing Crypto Markets\n",
      "Stocks: Most Actives Stocks: Gainers\n",
      "Stocks: Losers Trending Tickers\n",
      "Futures World Indices\n",
      "US Treasury Bonds Rates\n",
      "Currencies Crypto\n",
      "Top ETFs Top Mutual Funds\n",
      "Options: Highest Open Interest Options: Highest Implied Volatility\n",
      "Sectors Basic Materials Communication Services\n",
      "Consumer Cyclical Consumer Defensive\n",
      "Energy Financial Services\n",
      "Healthcare Industrials\n",
      "Real Estate Technology\n",
      "Utilities Private Companies NEW\n",
      "Research Screeners\n",
      "Calendar Stock Comparison\n",
      "Advanced Chart Currency Converter\n",
      "Personal Finance Credit Cards Banking\n",
      "Best HYSA Student Loans\n",
      "Personal Loans Insurance\n",
      "Mortgages Mortgage Calculator\n",
      "Taxes H&R Block Tax Insights\n",
      "Videos Latest Editor's Picks\n",
      "Investing Insights Trending Stocks\n",
      "All Shows Morning Brief\n",
      "Opening Bid Wealth\n",
      "ETF Report Trade This Way\n",
      "Options 101 Davos 2025\n",
      "FA Corner Financial Freestyle\n",
      "Streaming Now\n",
      "AAPL Apple Inc.\n",
      "197.90 -0.13%\n",
      "Summary News Chart Conversations Statistics\n",
      "Historical Data Profile Financials Analysis Options Holders\n",
      "Sustainability Unlock stock picks and a broker-level newsfeed that powers Wall Street. Upgrade Now\n",
      "NasdaqGS - Nasdaq Real Time Price • USD\n",
      "Apple Inc. (AAPL)\n",
      "Follow Compare Time to buy AAPL?\n",
      "198.15 +7.73 +(4.06%) At close: 4:00:01 PM EDT\n",
      "197.90 -0.25 (-0.13%) After hours: 4:15:26 PM EDT\n",
      "Time to buy AAPL?\n",
      "1D 5D 5.19%\n",
      "1M -10.27%\n",
      "6M -12.92%\n",
      "YTD -20.87%\n",
      "1Y 13.20%\n",
      "5Y 195.76%\n",
      "All 154,284.96%\n",
      "Key Events\n",
      "Mountain\n",
      "Advanced Chart\n",
      "Loading Chart for AAPL\n",
      "Previous Close 190.42\n",
      "Open 186.10\n",
      "Bid 197.24 x 5000\n",
      "Ask 198.99 x 2000\n",
      "Day's Range 186.06 - 199.54\n",
      "52 Week Range 164.08 - 260.10\n",
      "Volume 86,538,298\n",
      "Avg. Volume 61,058,588\n",
      "Market Cap (intraday) 2.977T\n",
      "Beta (5Y Monthly) 1.26\n",
      "PE Ratio (TTM) 31.45\n",
      "EPS (TTM) 6.30\n",
      "Earnings Date May 1, 2025\n",
      "Forward Dividend & Yield 1.00 (0.53%)\n",
      "Ex-Dividend Date Feb 10, 2025\n",
      "1y Target Est 238.75\n",
      "Apple Inc. Overview\n",
      "Consumer Electronics / Technology\n",
      "Apple Inc. designs, manufactures, and markets smartphones, personal computers, tablets, wearables, and accessories worldwide. The company offers iPhone, a line of smartphones; Mac, a line of personal computers; iPad, a line of multi-purpose tablets; and wearables, home, and accessories comprising AirPods, Apple TV, Apple Watch, Beats products, and HomePod. It also provides AppleCare support and cloud services; and operates various platforms, including the App Store that allow customers to discover and download applications and digital content, such as books, music, video, games, and podcasts, as well as advertising services include third-party licensing arrangements and its own advertising platforms. In addition, the company offers various subscription-based services, such as Apple Arcade, a game subscription service; Apple Fitness+, a personalized fitness service; Apple Music, which offers users a curated listening experience with on-demand radio stations; Apple News+, a subscription news and magazine service; Apple TV+, which offers exclusive original content; Apple Card, a co-branded credit card; and Apple Pay, a cashless payment service, as well as licenses its intellectual property. The company serves consumers, and small and mid-sized businesses; and the education, enterprise, and government markets. It distributes third-party applications for its products through the App Store. The company also sells its products through its retail and online stores, and direct sales force; and third-party cellular network carriers, wholesalers, retailers, and resellers. Apple Inc. was founded in 1976 and is headquartered in Cupertino, California. www.apple.com 150,000 Full Time Employees September 28 Fiscal Year Ends Technology Sector Consumer Electronics Industry\n",
      "Recent News: AAPL\n",
      "View More\n",
      "All News\n",
      "Press Releases\n",
      "SEC Filings\n",
      "View More\n",
      "Performance Overview: AAPL\n",
      "Trailing total returns as of 4/11/2025, which may include dividends or other distributions. Benchmark is S&P 500 (^GSPC) .\n",
      "YTD Return\n",
      "AAPL 20.79%\n",
      "S&P 500 (^GSPC) 8.81%\n",
      "1-Year Return\n",
      "AAPL 13.74%\n",
      "S&P 500 (^GSPC) 3.16%\n",
      "3-Year Return\n",
      "AAPL 21.48%\n",
      "S&P 500 (^GSPC) 21.55%\n",
      "5-Year Return\n",
      "AAPL 204.68%\n",
      "S&P 500 (^GSPC) 92.25%\n",
      "Compare To:\n",
      "AAPL Compare\n",
      "Select to analyze similar companies using key performance metrics; select up to 4 stocks.\n",
      "AAPL Apple Inc. 198.15 +4.06% Mkt Cap 2.977T Industry Consumer Electronics\n",
      "1810.HK XIAOMI-W 44.250 +2.79% Mkt Cap HKD 1.147T Industry Consumer Electronics\n",
      "SONY Sony Group Corporation 22.94 +0.09% Mkt Cap 144.232B Industry Consumer Electronics\n",
      "XIACY Xiaomi Corporation 28.93 +4.93% Mkt Cap 150.457B Industry Consumer Electronics\n",
      "2498.TW HTC Corporation 36.15 +3.58% Mkt Cap TWD 30.166B Industry Consumer Electronics\n",
      "005930.KS Samsung Electronics Co., Ltd. 55,200.00 -2.13% Mkt Cap KRW 364.139T Industry Consumer Electronics\n",
      "SONO Sonos, Inc. 8.00 -3.38% Mkt Cap 952.664M Industry Consumer Electronics\n",
      "GPRO GoPro, Inc. 0.4956 +2.99% Mkt Cap 78.021M Industry Consumer Electronics\n",
      "XIACF Xiaomi Corporation 5.78 +6.25% Mkt Cap 146.536B Industry Consumer Electronics\n",
      "5371.TWO Coretronic Corporation 59.80 +0.17% Mkt Cap TWD 23.381B Industry Consumer Electronics\n",
      "2439.TW Merry Electronics Co., Ltd. 101.50 0.00% Mkt Cap TWD 25.729B\n",
      "Statistics: AAPL\n",
      "View More\n",
      "Valuation Measures\n",
      "As of 4/10/2025\n",
      "Market Cap 2.86T\n",
      "Enterprise Value 2.90T\n",
      "Trailing P/E 30.23\n",
      "Forward P/E 25.97\n",
      "PEG Ratio (5yr expected) 1.77\n",
      "Price/Sales (ttm) 7.36\n",
      "Price/Book (mrq) 42.85\n",
      "Enterprise Value/Revenue 7.34\n",
      "Enterprise Value/EBITDA 21.14\n",
      "Financial Highlights\n",
      "Profitability and Income Statement\n",
      "Profit Margin 24.30%\n",
      "Return on Assets (ttm) 22.52%\n",
      "Return on Equity (ttm) 136.52%\n",
      "Revenue (ttm) 395.76B\n",
      "Net Income Avi to Common (ttm) 96.15B\n",
      "Diluted EPS (ttm) 6.30\n",
      "Balance Sheet and Cash Flow\n",
      "Total Cash (mrq) 53.77B\n",
      "Total Debt/Equity (mrq) 145.00%\n",
      "Levered Free Cash Flow (ttm) 93.83B\n",
      "Research Analysis: AAPL\n",
      "View More\n",
      "View More\n",
      "People Also Watch\n",
      "AMZN Amazon.com, Inc. 184.87 +2.01%\n",
      "TSLA Tesla, Inc. 252.31 -0.04%\n",
      "GOOG Alphabet Inc. 159.40 +2.59%\n",
      "META Meta Platforms, Inc. 543.57 -0.50%\n",
      "MSFT Microsoft Corporation 388.45 +1.86%\n",
      "NVDA NVIDIA Corporation 110\u001b[00m\n"
     ]
    },
    {
     "data": {
      "text/html": [
       "<pre style=\"white-space:pre;overflow-x:auto;line-height:normal;font-family:Menlo,'DejaVu Sans Mono',consolas,'Courier New',monospace\"><span style=\"color: #008080; text-decoration-color: #008080; font-weight: bold\">🚀 Crew: crew</span>\n",
       "└── <span style=\"color: #808000; text-decoration-color: #808000; font-weight: bold\">📋 Task: 830fe17a-ed1f-4a6b-a377-9ccc7d02b70e</span>\n",
       "    <span style=\"color: #c0c0c0; text-decoration-color: #c0c0c0\">   Status: </span><span style=\"color: #bfbf7f; text-decoration-color: #bfbf7f\">Executing Task...</span>\n",
       "    ├── <span style=\"color: #008000; text-decoration-color: #008000; font-weight: bold\">🤖 Agent: </span><span style=\"color: #008000; text-decoration-color: #008000\">Crew Manager</span>\n",
       "    │   <span style=\"color: #c0c0c0; text-decoration-color: #c0c0c0\">    Status: </span><span style=\"color: #008000; text-decoration-color: #008000; font-weight: bold\">In Progress</span>\n",
       "    │   ├── <span style=\"color: #800000; text-decoration-color: #800000; font-weight: bold\">🔧 Failed </span><span style=\"color: #800000; text-decoration-color: #800000\">Search the internet with Serper (2)</span>\n",
       "    │   ├── <span style=\"color: #008000; text-decoration-color: #008000; font-weight: bold\">🔧 </span><span style=\"color: #008000; text-decoration-color: #008000\">Used Read website content (1)</span>\n",
       "    │   └── <span style=\"color: #808000; text-decoration-color: #808000; font-weight: bold\">🔧 </span><span style=\"color: #808000; text-decoration-color: #808000\">Using Delegate work to coworker (1)</span>\n",
       "    └── <span style=\"color: #008000; text-decoration-color: #008000; font-weight: bold\">🤖 Agent: </span><span style=\"color: #008000; text-decoration-color: #008000\">Data Analyst</span>\n",
       "        <span style=\"color: #c0c0c0; text-decoration-color: #c0c0c0\">    Status: </span><span style=\"color: #008000; text-decoration-color: #008000; font-weight: bold\">✅ Completed</span>\n",
       "        ├── <span style=\"color: #008000; text-decoration-color: #008000; font-weight: bold\">🔧 </span><span style=\"color: #008000; text-decoration-color: #008000\">Used Read website content (2)</span>\n",
       "        └── <span style=\"color: #000080; text-decoration-color: #000080; font-weight: bold\">🧠 </span><span style=\"color: #000080; text-decoration-color: #000080\">Thinking...</span>\n",
       "</pre>\n"
      ],
      "text/plain": [
       "\u001b[1;36m🚀 Crew: \u001b[0m\u001b[1;36mcrew\u001b[0m\n",
       "└── \u001b[1;33m📋 Task: 830fe17a-ed1f-4a6b-a377-9ccc7d02b70e\u001b[0m\n",
       "    \u001b[37m   Status: \u001b[0m\u001b[2;33mExecuting Task...\u001b[0m\n",
       "    ├── \u001b[1;32m🤖 Agent: \u001b[0m\u001b[32mCrew Manager\u001b[0m\n",
       "    │   \u001b[37m    Status: \u001b[0m\u001b[1;32mIn Progress\u001b[0m\n",
       "    │   ├── \u001b[1;31m🔧 Failed \u001b[0m\u001b[31mSearch the internet with Serper (2)\u001b[0m\n",
       "    │   ├── \u001b[1;32m🔧 \u001b[0m\u001b[32mUsed Read website content (1)\u001b[0m\n",
       "    │   └── \u001b[1;33m🔧 \u001b[0m\u001b[33mUsing Delegate work to coworker (1)\u001b[0m\n",
       "    └── \u001b[1;32m🤖 Agent: \u001b[0m\u001b[32mData Analyst\u001b[0m\n",
       "        \u001b[37m    Status: \u001b[0m\u001b[1;32m✅ Completed\u001b[0m\n",
       "        ├── \u001b[1;32m🔧 \u001b[0m\u001b[32mUsed Read website content (2)\u001b[0m\n",
       "        └── \u001b[1;34m🧠 \u001b[0m\u001b[34mThinking...\u001b[0m\n"
      ]
     },
     "metadata": {},
     "output_type": "display_data"
    },
    {
     "data": {
      "text/html": [
       "<pre style=\"white-space:pre;overflow-x:auto;line-height:normal;font-family:Menlo,'DejaVu Sans Mono',consolas,'Courier New',monospace\">\n",
       "</pre>\n"
      ],
      "text/plain": [
       "\n"
      ]
     },
     "metadata": {},
     "output_type": "display_data"
    }
   ],
   "source": [
    "### this execution will take some time to run\n",
    "result = financial_trading_crew.kickoff(inputs=financial_trading_inputs)"
   ]
  },
  {
   "cell_type": "code",
   "execution_count": null,
   "metadata": {
    "height": 47
   },
   "outputs": [],
   "source": [
    "from IPython.display import Markdown\n",
    "Markdown(result)"
   ]
  }
 ],
 "metadata": {
  "kernelspec": {
   "display_name": "crewai_env",
   "language": "python",
   "name": "python3"
  },
  "language_info": {
   "codemirror_mode": {
    "name": "ipython",
    "version": 3
   },
   "file_extension": ".py",
   "mimetype": "text/x-python",
   "name": "python",
   "nbconvert_exporter": "python",
   "pygments_lexer": "ipython3",
   "version": "3.10.16"
  }
 },
 "nbformat": 4,
 "nbformat_minor": 4
}
